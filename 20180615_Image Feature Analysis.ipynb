{
 "cells": [
  {
   "cell_type": "code",
   "execution_count": 540,
   "metadata": {
    "collapsed": true
   },
   "outputs": [],
   "source": [
    "import numpy as np\n",
    "import pandas as pd\n",
    "\n",
    "from sklearn.ensemble import RandomForestClassifier, AdaBoostClassifier, GradientBoostingClassifier\n",
    "from sklearn.neighbors import KNeighborsClassifier\n",
    "from sklearn.linear_model import LogisticRegression\n",
    "from xgboost import XGBClassifier\n",
    "from sklearn.tree import DecisionTreeClassifier\n",
    "from sklearn import svm\n",
    "from sklearn.metrics import accuracy_score, confusion_matrix, precision_score, recall_score, f1_score, roc_auc_score, cohen_kappa_score\n",
    "from sklearn.model_selection import GridSearchCV, train_test_split, KFold\n",
    "\n",
    "import keras\n",
    "from keras.utils import to_categorical\n",
    "from keras.models import Sequential\n",
    "from keras.layers import Dense, Activation, Dropout\n",
    "\n",
    "from scipy import stats\n",
    "import glob\n",
    "import time"
   ]
  },
  {
   "cell_type": "code",
   "execution_count": 457,
   "metadata": {
    "collapsed": true
   },
   "outputs": [],
   "source": [
    "folder_name= \"20180616_2158\""
   ]
  },
  {
   "cell_type": "code",
   "execution_count": 458,
   "metadata": {
    "collapsed": true
   },
   "outputs": [],
   "source": [
    "curr_path = \"351_Data\\\\ILSVRC2012_Validation\\\\Intermediate\\\\\" + folder_name + \"\\\\\""
   ]
  },
  {
   "cell_type": "code",
   "execution_count": 459,
   "metadata": {
    "collapsed": true
   },
   "outputs": [],
   "source": [
    "model_names = [fn.split(\"\\\\\")[-1] for fn in glob.glob(curr_path + \"*\")]"
   ]
  },
  {
   "cell_type": "code",
   "execution_count": 460,
   "metadata": {},
   "outputs": [
    {
     "data": {
      "text/plain": [
       "['Inception ResNet', 'InceptionV3', 'Xception']"
      ]
     },
     "execution_count": 460,
     "metadata": {},
     "output_type": "execute_result"
    }
   ],
   "source": [
    "model_names"
   ]
  },
  {
   "cell_type": "code",
   "execution_count": 461,
   "metadata": {
    "collapsed": true
   },
   "outputs": [],
   "source": [
    "train_data = []\n",
    "test_data = []"
   ]
  },
  {
   "cell_type": "code",
   "execution_count": 462,
   "metadata": {
    "collapsed": true
   },
   "outputs": [],
   "source": [
    "for fn in model_names:\n",
    "    train_data.append(np.load(curr_path + str(fn) + \"\\\\train.npy\"))\n",
    "    test_data.append(np.load(curr_path + str(fn) + \"\\\\test.npy\"))"
   ]
  },
  {
   "cell_type": "code",
   "execution_count": 463,
   "metadata": {},
   "outputs": [
    {
     "data": {
      "text/plain": [
       "array([822], dtype=int64)"
      ]
     },
     "execution_count": 463,
     "metadata": {},
     "output_type": "execute_result"
    }
   ],
   "source": [
    "train_data[0][0][1]"
   ]
  },
  {
   "cell_type": "code",
   "execution_count": 464,
   "metadata": {
    "collapsed": true
   },
   "outputs": [],
   "source": [
    "def iterate_over_datasets(datasets):\n",
    "    ret_data = []\n",
    "    for data in datasets:\n",
    "        # rem here\n",
    "        n_data = split_input_target(data)\n",
    "        ret_data.append(n_data)\n",
    "    return ret_data"
   ]
  },
  {
   "cell_type": "code",
   "execution_count": 465,
   "metadata": {
    "collapsed": true
   },
   "outputs": [],
   "source": [
    "def split_input_target (data):\n",
    "    target = []\n",
    "    inp = []\n",
    "    for d in data:\n",
    "        target.append(d[1][0])\n",
    "        inp.append(d[0])\n",
    "    return [np.array(inp), target]"
   ]
  },
  {
   "cell_type": "code",
   "execution_count": 466,
   "metadata": {
    "collapsed": true
   },
   "outputs": [],
   "source": [
    "# temp: only test purposes; remember to remove from iterate_over_datasets\n",
    "import random\n",
    "def split_input_target_special (data):\n",
    "    target = []\n",
    "    inp = []\n",
    "    for d in data:\n",
    "        target.append(random.randrange(0,2))\n",
    "        inp.append(d[0])\n",
    "    return [np.array(inp), target]"
   ]
  },
  {
   "cell_type": "code",
   "execution_count": 467,
   "metadata": {
    "collapsed": true
   },
   "outputs": [],
   "source": [
    "train_data = iterate_over_datasets(train_data)"
   ]
  },
  {
   "cell_type": "code",
   "execution_count": 468,
   "metadata": {
    "collapsed": true
   },
   "outputs": [],
   "source": [
    "test_data = iterate_over_datasets(test_data)"
   ]
  },
  {
   "cell_type": "code",
   "execution_count": 469,
   "metadata": {},
   "outputs": [
    {
     "data": {
      "text/plain": [
       "[0, 0, 1, 0, 0, 1, 0]"
      ]
     },
     "execution_count": 469,
     "metadata": {},
     "output_type": "execute_result"
    }
   ],
   "source": [
    "train_data[0][1]"
   ]
  },
  {
   "cell_type": "code",
   "execution_count": 470,
   "metadata": {
    "collapsed": true
   },
   "outputs": [],
   "source": [
    "def evaluate(model, data):\n",
    "    y_pred = model.predict(data[0])\n",
    "    try: predictions = [round(value) for value in y_pred]\n",
    "    except: predictions = [np.argmax(value) for value in y_pred]\n",
    "    # evaluate predictions\n",
    "    d = {}\n",
    "    d[\"accuracy\"] = accuracy_score(data[1], predictions)\n",
    "    d[\"confusion matrix\"] = confusion_matrix(data[1], predictions)\n",
    "    d[\"precision\"] = precision_score(data[1], predictions, average='macro')\n",
    "    d[\"recall\"] = recall_score(data[1], predictions, average='macro')\n",
    "    d[\"f1-score\"] = f1_score(data[1], predictions, average='macro')\n",
    "    # d[\"roc-auc\"] = roc_auc_score(data[1], predictions, )\n",
    "    d[\"cohen's kappa\"] = cohen_kappa_score(data[1], predictions)\n",
    "    \n",
    "    return d"
   ]
  },
  {
   "cell_type": "code",
   "execution_count": 471,
   "metadata": {
    "collapsed": true
   },
   "outputs": [],
   "source": [
    "def get_measures(measure, data_type=\"data\", measure_name=\"Accuracy\"):\n",
    "    return \"%s in %s: %.2f\" % (measure_name, data_type, measure)"
   ]
  },
  {
   "cell_type": "code",
   "execution_count": 472,
   "metadata": {
    "collapsed": true
   },
   "outputs": [],
   "source": [
    "def print_measures(evaluation, t):\n",
    "    for key in evaluation.keys():\n",
    "        if key!=\"confusion matrix\":\n",
    "            print (get_measures(evaluation[key], t, key))\n",
    "        else:\n",
    "            print(key)\n",
    "            print(evaluation[key])"
   ]
  },
  {
   "cell_type": "code",
   "execution_count": 473,
   "metadata": {
    "collapsed": true
   },
   "outputs": [],
   "source": [
    "def get_data_from_sources (training_src, test_src, validation_src=\"\"):\n",
    "    train = get_data_from_source(training_src)\n",
    "    test = get_data_from_source(test_src)\n",
    "    try:\n",
    "        if validation_src !=\"\":\n",
    "            val = get_data_from_source(validation_src)\n",
    "        else:\n",
    "            inp_test, inp_val, target_test, target_val = train_test_split(*test)\n",
    "            test = (inp_test, target_test)\n",
    "            val = (inp_val, target_val)\n",
    "    except: \n",
    "        inp_test, inp_val, target_test, target_val = train_test_split(*test)\n",
    "        test = (inp_test, target_test)\n",
    "        val = (inp_val, target_val)\n",
    "    return train, val, test"
   ]
  },
  {
   "cell_type": "code",
   "execution_count": 474,
   "metadata": {
    "collapsed": true
   },
   "outputs": [],
   "source": [
    "def create_model_A (input_shape, num_classes):\n",
    "    model = Sequential()\n",
    "    model.add(Dense(1024, input_shape=input_shape))\n",
    "    model.add(Activation('elu'))\n",
    "    model.add(Dropout(0.5))\n",
    "    model.add(Dense(num_classes))\n",
    "    model.add(Activation('softmax'))\n",
    "\n",
    "    model.compile(loss=keras.losses.categorical_crossentropy,\n",
    "                  optimizer=keras.optimizers.Adam(lr=0.0001),\n",
    "                  metrics=['accuracy'])\n",
    "    return model"
   ]
  },
  {
   "cell_type": "code",
   "execution_count": 475,
   "metadata": {
    "collapsed": true
   },
   "outputs": [],
   "source": [
    "def create_model_B (input_shape, num_classes):\n",
    "    model = Sequential()\n",
    "    model.add(Dense(512, input_shape=input_shape))\n",
    "    model.add(Activation('relu'))\n",
    "    model.add(Dropout(0.5))\n",
    "    model.add(Dense(num_classes))\n",
    "    model.add(Activation('softmax'))\n",
    "\n",
    "    model.compile(loss=keras.losses.categorical_crossentropy,\n",
    "                  optimizer=keras.optimizers.Adam(lr=0.0001),\n",
    "                  metrics=['accuracy'])\n",
    "    return model"
   ]
  },
  {
   "cell_type": "code",
   "execution_count": 476,
   "metadata": {
    "collapsed": true
   },
   "outputs": [],
   "source": [
    "def create_model_C (input_shape, num_classes):\n",
    "    model = Sequential()\n",
    "    model.add(Dense(num_classes, input_shape=input_shape))\n",
    "    model.add(Activation('softmax'))\n",
    "\n",
    "    model.compile(loss=keras.losses.categorical_crossentropy,\n",
    "                  optimizer=keras.optimizers.Adam(lr=0.0001),\n",
    "                  metrics=['accuracy'])\n",
    "    return model"
   ]
  },
  {
   "cell_type": "code",
   "execution_count": 477,
   "metadata": {
    "collapsed": true
   },
   "outputs": [],
   "source": [
    "def create_models(input_shape, num_classes):\n",
    "    mlp_models = []\n",
    "    mlp_models.append(create_model_A(input_shape, num_classes))\n",
    "    mlp_models.append(create_model_B(input_shape, num_classes))\n",
    "    mlp_models.append(create_model_C(input_shape, num_classes))\n",
    "    return mlp_models"
   ]
  },
  {
   "cell_type": "code",
   "execution_count": 478,
   "metadata": {},
   "outputs": [],
   "source": [
    "mlp_models = [{}]*len(train_data)\n",
    "num_classes = len(set(train_data[0][1]))\n",
    "for tr_ind, tr_data in enumerate(train_data):\n",
    "    input_shape = tr_data[0][0].shape\n",
    "    temp_models = create_models(input_shape, num_classes)\n",
    "    for mi, mm in enumerate(mlp_models):\n",
    "        mm[model_names[tr_ind]] = temp_models[mi]"
   ]
  },
  {
   "cell_type": "code",
   "execution_count": 479,
   "metadata": {},
   "outputs": [
    {
     "data": {
      "text/plain": [
       "[{'Inception ResNet': <keras.models.Sequential at 0x16ea138c240>,\n",
       "  'InceptionV3': <keras.models.Sequential at 0x16e9fe38b38>,\n",
       "  'Xception': <keras.models.Sequential at 0x16ead32de80>},\n",
       " {'Inception ResNet': <keras.models.Sequential at 0x16ea138c240>,\n",
       "  'InceptionV3': <keras.models.Sequential at 0x16e9fe38b38>,\n",
       "  'Xception': <keras.models.Sequential at 0x16ead32de80>},\n",
       " {'Inception ResNet': <keras.models.Sequential at 0x16ea138c240>,\n",
       "  'InceptionV3': <keras.models.Sequential at 0x16e9fe38b38>,\n",
       "  'Xception': <keras.models.Sequential at 0x16ead32de80>}]"
      ]
     },
     "execution_count": 479,
     "metadata": {},
     "output_type": "execute_result"
    }
   ],
   "source": [
    "mlp_models"
   ]
  },
  {
   "cell_type": "code",
   "execution_count": 480,
   "metadata": {
    "collapsed": true
   },
   "outputs": [],
   "source": [
    "epochs=1"
   ]
  },
  {
   "cell_type": "code",
   "execution_count": 481,
   "metadata": {
    "collapsed": true
   },
   "outputs": [],
   "source": [
    "svm_candidates = [\n",
    "  {'C': [1, 10, 100, 1000], 'kernel': ['linear']},\n",
    "  # {'C': [1, 10, 100, 1000], 'gamma': [0.001, 0.0001], 'kernel': ['rbf']},\n",
    "]"
   ]
  },
  {
   "cell_type": "code",
   "execution_count": 482,
   "metadata": {
    "collapsed": true
   },
   "outputs": [],
   "source": [
    "rfe_candidates = [\n",
    "  {'n_estimators': [10, 100, 1000], 'criterion': ['gini', \"entropy\"]}\n",
    "]"
   ]
  },
  {
   "cell_type": "code",
   "execution_count": 483,
   "metadata": {
    "collapsed": true
   },
   "outputs": [],
   "source": [
    "adb_candidates = [\n",
    "  {'n_estimators': [10, 100, 1000], 'learning_rate': [1.0, 0.5, 0.1], 'algorithm':[\"SAMME.R\", \"SAMME\"]}\n",
    "]"
   ]
  },
  {
   "cell_type": "code",
   "execution_count": 484,
   "metadata": {
    "collapsed": true
   },
   "outputs": [],
   "source": [
    "gbc_candidates = [\n",
    "  {'n_estimators': [10, 100, 1000], 'learning_rate': [0.05, 0.1, 0.5], 'criterion':[\"friedman_mse\", \"mae\"]}\n",
    "]"
   ]
  },
  {
   "cell_type": "code",
   "execution_count": 485,
   "metadata": {
    "collapsed": true
   },
   "outputs": [],
   "source": [
    "lr_candidates= [\n",
    "    {'penalty': [\"l1\", \"l2\"]}\n",
    "]"
   ]
  },
  {
   "cell_type": "code",
   "execution_count": 486,
   "metadata": {
    "collapsed": true
   },
   "outputs": [],
   "source": [
    "dtc_candidates= [\n",
    "    {'criterion': [\"l1\", \"l2\"], 'splitter':['best']}\n",
    "]"
   ]
  },
  {
   "cell_type": "code",
   "execution_count": 487,
   "metadata": {
    "collapsed": true
   },
   "outputs": [],
   "source": [
    "xgbc_candidates = [\n",
    "    {\n",
    "        'max_depth':[10], 'learning_rate':[0.1], 'n_estimators':[1000]     # objective, booster\n",
    "    }\n",
    "]"
   ]
  },
  {
   "cell_type": "code",
   "execution_count": 488,
   "metadata": {
    "collapsed": true
   },
   "outputs": [],
   "source": [
    "parameter_candidates = {}\n",
    "parameter_candidates [\"svm\"] = svm_candidates\n",
    "parameter_candidates[\"rfe\"] = rfe_candidates\n",
    "parameter_candidates [\"adb\"] = adb_candidates\n",
    "parameter_candidates[\"gbc\"] = gbc_candidates\n",
    "parameter_candidates[\"lr\"] = lr_candidates\n",
    "parameter_candidates [\"dtc\"] = dtc_candidates\n",
    "parameter_candidates[\"xgbc\"] = xgbc_candidates"
   ]
  },
  {
   "cell_type": "code",
   "execution_count": 535,
   "metadata": {
    "collapsed": true
   },
   "outputs": [],
   "source": [
    "rfe = RandomForestClassifier()\n",
    "adb = AdaBoostClassifier()\n",
    "gbc = GradientBoostingClassifier()\n",
    "lr = LogisticRegression()\n",
    "dtc = DecisionTreeClassifier()#\n",
    "xgbc = XGBClassifier()\n",
    "svc = svm.SVC()\n",
    "# Genetic Programming-based\n",
    "\n",
    "# benchmark_models = {\"rfe\":rfe, \"xgbc\":xgbc, \"adb\":adb, \"gbc\":gbc, \"lr\":lr, \"dtc\":dtc, \"svm\":svc}\n",
    "# benchmark_models = {\"rfe\":rfe, \"lr\":lr, \"svm\":svc}\n",
    "benchmark_models = {}\n",
    "for x in range(len(mlp_models)):\n",
    "    benchmark_models[\"mlp_{}\".format(x)] = mlp_models[x]"
   ]
  },
  {
   "cell_type": "code",
   "execution_count": 536,
   "metadata": {
    "collapsed": true
   },
   "outputs": [],
   "source": [
    "def grid_search_model(benchmark_models, parameter_candidates, train, test,model_name, folds = 2):\n",
    "    cv_results = {}\n",
    "    for model_key in benchmark_models.keys():\n",
    "        model = benchmark_models[model_key]\n",
    "        print ((\" Model: \" + str(model_key)+ \" \").center(30, '#'))\n",
    "        try:\n",
    "            clf = GridSearchCV(estimator=model, param_grid=parameter_candidates[model_key], n_jobs=-1, cv=folds)\n",
    "            clf.fit (*train)\n",
    "            model = clf.best_estimator_\n",
    "            cv_results[model_key] = clf.cv_results_\n",
    "        except:\n",
    "                model = benchmark_models[model_key][model_name]\n",
    "                kf = KFold(n_splits=folds)\n",
    "                cv_results[model_key] = []\n",
    "                target_cat = np.array(to_categorical(train[1]))\n",
    "                for train_index, test_index in kf.split(train,):\n",
    "                    X_train, X_test = train[0][train_index], train[0][test_index]\n",
    "                    y_train, y_test = target_cat[train_index], target_cat[test_index]\n",
    "                    print(y_train)\n",
    "                    history = model.fit(X_train, y_train, epochs = epochs, validation_data = (X_test, y_test))\n",
    "                    train_res = model.evaluate(X_train, y=y_train)\n",
    "                    cv_results[model_key].append(train_res)\n",
    "                # benchmark_models[model_key] = model\n",
    "        train_eval = evaluate(model, train)\n",
    "        test_eval = evaluate(model, test)\n",
    "        print_measures(train_eval, \"Train\")\n",
    "        print_measures(test_eval, \"Test\")  \n",
    "        \n",
    "        benchmark_models[model_key][model_name] = model\n",
    "    return benchmark_models, cv_results"
   ]
  },
  {
   "cell_type": "code",
   "execution_count": 539,
   "metadata": {},
   "outputs": [
    {
     "name": "stdout",
     "output_type": "stream",
     "text": [
      "____________________________________________________________\n",
      "############################################################\n",
      "##################### Dataset Index: 0 #####################\n",
      "############################################################\n",
      "######## Model: mlp_0 ########\n",
      "{'mlp_0': {'Inception ResNet': <keras.models.Sequential object at 0x0000016EA138C240>, 'InceptionV3': <keras.models.Sequential object at 0x0000016E9FE38B38>, 'Xception': <keras.models.Sequential object at 0x0000016EAD32DE80>}, 'mlp_1': {'Inception ResNet': <keras.models.Sequential object at 0x0000016EA138C240>, 'InceptionV3': <keras.models.Sequential object at 0x0000016E9FE38B38>, 'Xception': <keras.models.Sequential object at 0x0000016EAD32DE80>}, 'mlp_2': {'Inception ResNet': <keras.models.Sequential object at 0x0000016EA138C240>, 'InceptionV3': <keras.models.Sequential object at 0x0000016E9FE38B38>, 'Xception': <keras.models.Sequential object at 0x0000016EAD32DE80>}}\n",
      "[[ 1.  0.]]\n",
      "Train on 1 samples, validate on 1 samples\n",
      "Epoch 1/1\n",
      "1/1 [==============================] - 0s 7ms/step - loss: 1.1921e-07 - acc: 1.0000 - val_loss: 1.1921e-07 - val_acc: 1.0000\n",
      "1/1 [==============================] - 0s 2ms/step\n",
      "[[ 1.  0.]]\n",
      "Train on 1 samples, validate on 1 samples\n",
      "Epoch 1/1\n",
      "1/1 [==============================] - 0s 9ms/step - loss: 1.1921e-07 - acc: 1.0000 - val_loss: 1.1921e-07 - val_acc: 1.0000\n",
      "1/1 [==============================] - 0s 4ms/step\n",
      "accuracy in Train: 0.71\n",
      "confusion matrix\n",
      "[[5 0]\n",
      " [2 0]]\n",
      "precision in Train: 0.36\n",
      "recall in Train: 0.50\n",
      "f1-score in Train: 0.42\n",
      "cohen's kappa in Train: 0.00\n",
      "accuracy in Test: 0.00\n",
      "confusion matrix\n",
      "[[0 0]\n",
      " [3 0]]\n",
      "precision in Test: 0.00\n",
      "recall in Test: 0.00\n",
      "f1-score in Test: 0.00\n",
      "cohen's kappa in Test: 0.00\n",
      "######## Model: mlp_1 ########\n",
      "{'mlp_0': {'Inception ResNet': <keras.models.Sequential object at 0x0000016EA138C240>, 'InceptionV3': <keras.models.Sequential object at 0x0000016E9FE38B38>, 'Xception': <keras.models.Sequential object at 0x0000016EAD32DE80>}, 'mlp_1': {'Inception ResNet': <keras.models.Sequential object at 0x0000016EA138C240>, 'InceptionV3': <keras.models.Sequential object at 0x0000016E9FE38B38>, 'Xception': <keras.models.Sequential object at 0x0000016EAD32DE80>}, 'mlp_2': {'Inception ResNet': <keras.models.Sequential object at 0x0000016EA138C240>, 'InceptionV3': <keras.models.Sequential object at 0x0000016E9FE38B38>, 'Xception': <keras.models.Sequential object at 0x0000016EAD32DE80>}}\n",
      "[[ 1.  0.]]\n",
      "Train on 1 samples, validate on 1 samples\n",
      "Epoch 1/1\n",
      "1/1 [==============================] - 0s 5ms/step - loss: 1.1921e-07 - acc: 1.0000 - val_loss: 1.1921e-07 - val_acc: 1.0000\n",
      "1/1 [==============================] - 0s 2ms/step\n",
      "[[ 1.  0.]]\n",
      "Train on 1 samples, validate on 1 samples\n",
      "Epoch 1/1\n",
      "1/1 [==============================] - 0s 10ms/step - loss: 1.1921e-07 - acc: 1.0000 - val_loss: 1.1921e-07 - val_acc: 1.0000\n",
      "1/1 [==============================] - 0s 2ms/step\n",
      "accuracy in Train: 0.71\n",
      "confusion matrix\n",
      "[[5 0]\n",
      " [2 0]]\n",
      "precision in Train: 0.36\n",
      "recall in Train: 0.50\n",
      "f1-score in Train: 0.42\n",
      "cohen's kappa in Train: 0.00\n",
      "accuracy in Test: 0.00\n",
      "confusion matrix\n",
      "[[0 0]\n",
      " [3 0]]\n",
      "precision in Test: 0.00\n",
      "recall in Test: 0.00\n",
      "f1-score in Test: 0.00\n",
      "cohen's kappa in Test: 0.00\n",
      "######## Model: mlp_2 ########\n",
      "{'mlp_0': {'Inception ResNet': <keras.models.Sequential object at 0x0000016EA138C240>, 'InceptionV3': <keras.models.Sequential object at 0x0000016E9FE38B38>, 'Xception': <keras.models.Sequential object at 0x0000016EAD32DE80>}, 'mlp_1': {'Inception ResNet': <keras.models.Sequential object at 0x0000016EA138C240>, 'InceptionV3': <keras.models.Sequential object at 0x0000016E9FE38B38>, 'Xception': <keras.models.Sequential object at 0x0000016EAD32DE80>}, 'mlp_2': {'Inception ResNet': <keras.models.Sequential object at 0x0000016EA138C240>, 'InceptionV3': <keras.models.Sequential object at 0x0000016E9FE38B38>, 'Xception': <keras.models.Sequential object at 0x0000016EAD32DE80>}}\n",
      "[[ 1.  0.]]\n",
      "Train on 1 samples, validate on 1 samples\n",
      "Epoch 1/1\n",
      "1/1 [==============================] - 0s 6ms/step - loss: 1.1921e-07 - acc: 1.0000 - val_loss: 1.1921e-07 - val_acc: 1.0000\n",
      "1/1 [==============================] - 0s 2ms/step\n",
      "[[ 1.  0.]]\n",
      "Train on 1 samples, validate on 1 samples\n",
      "Epoch 1/1\n",
      "1/1 [==============================] - 0s 6ms/step - loss: 1.1921e-07 - acc: 1.0000 - val_loss: 1.1921e-07 - val_acc: 1.0000\n",
      "1/1 [==============================] - 0s 2ms/step\n",
      "accuracy in Train: 0.71\n",
      "confusion matrix\n",
      "[[5 0]\n",
      " [2 0]]\n",
      "precision in Train: 0.36\n",
      "recall in Train: 0.50\n",
      "f1-score in Train: 0.42\n",
      "cohen's kappa in Train: 0.00\n",
      "accuracy in Test: 0.00\n",
      "confusion matrix\n",
      "[[0 0]\n",
      " [3 0]]\n",
      "precision in Test: 0.00\n",
      "recall in Test: 0.00\n",
      "f1-score in Test: 0.00\n",
      "cohen's kappa in Test: 0.00\n",
      "____________________________________________________________\n",
      "############################################################\n",
      "##################### Dataset Index: 1 #####################\n",
      "############################################################\n",
      "######## Model: mlp_0 ########\n",
      "{'mlp_0': {'Inception ResNet': <keras.models.Sequential object at 0x0000016EA138C240>, 'InceptionV3': <keras.models.Sequential object at 0x0000016E9FE38B38>, 'Xception': <keras.models.Sequential object at 0x0000016EAD32DE80>}, 'mlp_1': {'Inception ResNet': <keras.models.Sequential object at 0x0000016EA138C240>, 'InceptionV3': <keras.models.Sequential object at 0x0000016E9FE38B38>, 'Xception': <keras.models.Sequential object at 0x0000016EAD32DE80>}, 'mlp_2': {'Inception ResNet': <keras.models.Sequential object at 0x0000016EA138C240>, 'InceptionV3': <keras.models.Sequential object at 0x0000016E9FE38B38>, 'Xception': <keras.models.Sequential object at 0x0000016EAD32DE80>}}\n",
      "[[ 1.  0.]]\n",
      "Train on 1 samples, validate on 1 samples\n",
      "Epoch 1/1\n",
      "1/1 [==============================] - 0s 10ms/step - loss: 6.5565e-07 - acc: 1.0000 - val_loss: 3.3062e-04 - val_acc: 1.0000\n",
      "1/1 [==============================] - 0s 3ms/step\n",
      "[[ 1.  0.]]\n",
      "Train on 1 samples, validate on 1 samples\n",
      "Epoch 1/1\n",
      "1/1 [==============================] - 0s 6ms/step - loss: 3.3062e-04 - acc: 1.0000 - val_loss: 1.1921e-07 - val_acc: 1.0000\n",
      "1/1 [==============================] - 0s 3ms/step\n",
      "accuracy in Train: 0.57\n",
      "confusion matrix\n",
      "[[4 0]\n",
      " [3 0]]\n",
      "precision in Train: 0.29\n",
      "recall in Train: 0.50\n",
      "f1-score in Train: 0.36\n",
      "cohen's kappa in Train: 0.00\n",
      "accuracy in Test: 0.00\n",
      "confusion matrix\n",
      "[[0 0]\n",
      " [3 0]]\n",
      "precision in Test: 0.00\n",
      "recall in Test: 0.00\n",
      "f1-score in Test: 0.00\n",
      "cohen's kappa in Test: 0.00\n",
      "######## Model: mlp_1 ########\n",
      "{'mlp_0': {'Inception ResNet': <keras.models.Sequential object at 0x0000016EA138C240>, 'InceptionV3': <keras.models.Sequential object at 0x0000016E9FE38B38>, 'Xception': <keras.models.Sequential object at 0x0000016EAD32DE80>}, 'mlp_1': {'Inception ResNet': <keras.models.Sequential object at 0x0000016EA138C240>, 'InceptionV3': <keras.models.Sequential object at 0x0000016E9FE38B38>, 'Xception': <keras.models.Sequential object at 0x0000016EAD32DE80>}, 'mlp_2': {'Inception ResNet': <keras.models.Sequential object at 0x0000016EA138C240>, 'InceptionV3': <keras.models.Sequential object at 0x0000016E9FE38B38>, 'Xception': <keras.models.Sequential object at 0x0000016EAD32DE80>}}\n",
      "[[ 1.  0.]]\n",
      "Train on 1 samples, validate on 1 samples\n",
      "Epoch 1/1\n",
      "1/1 [==============================] - 0s 10ms/step - loss: 1.1921e-07 - acc: 1.0000 - val_loss: 1.0086e-04 - val_acc: 1.0000\n",
      "1/1 [==============================] - 0s 3ms/step\n",
      "[[ 1.  0.]]\n",
      "Train on 1 samples, validate on 1 samples\n",
      "Epoch 1/1\n",
      "1/1 [==============================] - 0s 6ms/step - loss: 1.0086e-04 - acc: 1.0000 - val_loss: 1.1921e-07 - val_acc: 1.0000\n",
      "1/1 [==============================] - 0s 2ms/step\n",
      "accuracy in Train: 0.57\n",
      "confusion matrix\n",
      "[[4 0]\n",
      " [3 0]]"
     ]
    },
    {
     "name": "stderr",
     "output_type": "stream",
     "text": [
      "C:\\Users\\jonat\\Anaconda3\\lib\\site-packages\\sklearn\\metrics\\classification.py:1135: UndefinedMetricWarning: Precision is ill-defined and being set to 0.0 in labels with no predicted samples.\n",
      "  'precision', 'predicted', average, warn_for)\n",
      "C:\\Users\\jonat\\Anaconda3\\lib\\site-packages\\sklearn\\metrics\\classification.py:1135: UndefinedMetricWarning: F-score is ill-defined and being set to 0.0 in labels with no predicted samples.\n",
      "  'precision', 'predicted', average, warn_for)\n",
      "C:\\Users\\jonat\\Anaconda3\\lib\\site-packages\\sklearn\\metrics\\classification.py:1137: UndefinedMetricWarning: Recall is ill-defined and being set to 0.0 in labels with no true samples.\n",
      "  'recall', 'true', average, warn_for)\n",
      "C:\\Users\\jonat\\Anaconda3\\lib\\site-packages\\sklearn\\metrics\\classification.py:1137: UndefinedMetricWarning: F-score is ill-defined and being set to 0.0 in labels with no true samples.\n",
      "  'recall', 'true', average, warn_for)\n"
     ]
    },
    {
     "name": "stdout",
     "output_type": "stream",
     "text": [
      "\n",
      "precision in Train: 0.29\n",
      "recall in Train: 0.50\n",
      "f1-score in Train: 0.36\n",
      "cohen's kappa in Train: 0.00\n",
      "accuracy in Test: 0.00\n",
      "confusion matrix\n",
      "[[0 0]\n",
      " [3 0]]\n",
      "precision in Test: 0.00\n",
      "recall in Test: 0.00\n",
      "f1-score in Test: 0.00\n",
      "cohen's kappa in Test: 0.00\n",
      "######## Model: mlp_2 ########\n",
      "{'mlp_0': {'Inception ResNet': <keras.models.Sequential object at 0x0000016EA138C240>, 'InceptionV3': <keras.models.Sequential object at 0x0000016E9FE38B38>, 'Xception': <keras.models.Sequential object at 0x0000016EAD32DE80>}, 'mlp_1': {'Inception ResNet': <keras.models.Sequential object at 0x0000016EA138C240>, 'InceptionV3': <keras.models.Sequential object at 0x0000016E9FE38B38>, 'Xception': <keras.models.Sequential object at 0x0000016EAD32DE80>}, 'mlp_2': {'Inception ResNet': <keras.models.Sequential object at 0x0000016EA138C240>, 'InceptionV3': <keras.models.Sequential object at 0x0000016E9FE38B38>, 'Xception': <keras.models.Sequential object at 0x0000016EAD32DE80>}}\n",
      "[[ 1.  0.]]\n",
      "Train on 1 samples, validate on 1 samples\n",
      "Epoch 1/1\n",
      "1/1 [==============================] - 0s 8ms/step - loss: 1.1921e-07 - acc: 1.0000 - val_loss: 3.9221e-05 - val_acc: 1.0000\n",
      "1/1 [==============================] - 0s 3ms/step\n",
      "[[ 1.  0.]]\n",
      "Train on 1 samples, validate on 1 samples\n",
      "Epoch 1/1\n",
      "1/1 [==============================] - 0s 9ms/step - loss: 3.9221e-05 - acc: 1.0000 - val_loss: 1.1921e-07 - val_acc: 1.0000\n",
      "1/1 [==============================] - 0s 2ms/step\n",
      "accuracy in Train: 0.57\n",
      "confusion matrix\n",
      "[[4 0]\n",
      " [3 0]]\n",
      "precision in Train: 0.29\n",
      "recall in Train: 0.50\n",
      "f1-score in Train: 0.36\n",
      "cohen's kappa in Train: 0.00\n",
      "accuracy in Test: 0.00\n",
      "confusion matrix\n",
      "[[0 0]\n",
      " [3 0]]\n",
      "precision in Test: 0.00\n",
      "recall in Test: 0.00\n",
      "f1-score in Test: 0.00\n",
      "cohen's kappa in Test: 0.00\n",
      "____________________________________________________________\n",
      "############################################################\n",
      "##################### Dataset Index: 2 #####################\n",
      "############################################################\n",
      "######## Model: mlp_0 ########\n",
      "{'mlp_0': {'Inception ResNet': <keras.models.Sequential object at 0x0000016EA138C240>, 'InceptionV3': <keras.models.Sequential object at 0x0000016E9FE38B38>, 'Xception': <keras.models.Sequential object at 0x0000016EAD32DE80>}, 'mlp_1': {'Inception ResNet': <keras.models.Sequential object at 0x0000016EA138C240>, 'InceptionV3': <keras.models.Sequential object at 0x0000016E9FE38B38>, 'Xception': <keras.models.Sequential object at 0x0000016EAD32DE80>}, 'mlp_2': {'Inception ResNet': <keras.models.Sequential object at 0x0000016EA138C240>, 'InceptionV3': <keras.models.Sequential object at 0x0000016E9FE38B38>, 'Xception': <keras.models.Sequential object at 0x0000016EAD32DE80>}}\n",
      "[[ 0.  1.]]\n",
      "Train on 1 samples, validate on 1 samples\n",
      "Epoch 1/1\n",
      "1/1 [==============================] - 0s 9ms/step - loss: 1.1921e-07 - acc: 1.0000 - val_loss: 1.1921e-07 - val_acc: 1.0000\n",
      "1/1 [==============================] - 0s 3ms/step\n",
      "[[ 0.  1.]]\n",
      "Train on 1 samples, validate on 1 samples\n",
      "Epoch 1/1\n",
      "1/1 [==============================] - 0s 16ms/step - loss: 1.1921e-07 - acc: 1.0000 - val_loss: 1.1921e-07 - val_acc: 1.0000\n",
      "1/1 [==============================] - 0s 2ms/step\n",
      "accuracy in Train: 0.86\n",
      "confusion matrix\n",
      "[[0 1]\n",
      " [0 6]]\n",
      "precision in Train: 0.43\n",
      "recall in Train: 0.50\n",
      "f1-score in Train: 0.46\n",
      "cohen's kappa in Train: 0.00\n",
      "accuracy in Test: 0.33\n",
      "confusion matrix\n",
      "[[0 2]\n",
      " [0 1]]\n",
      "precision in Test: 0.17\n",
      "recall in Test: 0.50\n",
      "f1-score in Test: 0.25\n",
      "cohen's kappa in Test: 0.00\n",
      "######## Model: mlp_1 ########\n",
      "{'mlp_0': {'Inception ResNet': <keras.models.Sequential object at 0x0000016EA138C240>, 'InceptionV3': <keras.models.Sequential object at 0x0000016E9FE38B38>, 'Xception': <keras.models.Sequential object at 0x0000016EAD32DE80>}, 'mlp_1': {'Inception ResNet': <keras.models.Sequential object at 0x0000016EA138C240>, 'InceptionV3': <keras.models.Sequential object at 0x0000016E9FE38B38>, 'Xception': <keras.models.Sequential object at 0x0000016EAD32DE80>}, 'mlp_2': {'Inception ResNet': <keras.models.Sequential object at 0x0000016EA138C240>, 'InceptionV3': <keras.models.Sequential object at 0x0000016E9FE38B38>, 'Xception': <keras.models.Sequential object at 0x0000016EAD32DE80>}}\n",
      "[[ 0.  1.]]\n",
      "Train on 1 samples, validate on 1 samples\n",
      "Epoch 1/1\n",
      "1/1 [==============================] - 0s 9ms/step - loss: 1.1921e-07 - acc: 1.0000 - val_loss: 1.1921e-07 - val_acc: 1.0000\n",
      "1/1 [==============================] - 0s 2ms/step\n",
      "[[ 0.  1.]]\n",
      "Train on 1 samples, validate on 1 samples\n",
      "Epoch 1/1\n",
      "1/1 [==============================] - 0s 8ms/step - loss: 1.1921e-07 - acc: 1.0000 - val_loss: 1.1921e-07 - val_acc: 1.0000\n",
      "1/1 [==============================] - 0s 3ms/step\n",
      "accuracy in Train: 0.86\n",
      "confusion matrix\n",
      "[[0 1]\n",
      " [0 6]]\n",
      "precision in Train: 0.43\n",
      "recall in Train: 0.50\n",
      "f1-score in Train: 0.46\n",
      "cohen's kappa in Train: 0.00\n",
      "accuracy in Test: 0.33\n",
      "confusion matrix\n",
      "[[0 2]\n",
      " [0 1]]\n",
      "precision in Test: 0.17\n",
      "recall in Test: 0.50\n",
      "f1-score in Test: 0.25\n",
      "cohen's kappa in Test: 0.00\n",
      "######## Model: mlp_2 ########\n",
      "{'mlp_0': {'Inception ResNet': <keras.models.Sequential object at 0x0000016EA138C240>, 'InceptionV3': <keras.models.Sequential object at 0x0000016E9FE38B38>, 'Xception': <keras.models.Sequential object at 0x0000016EAD32DE80>}, 'mlp_1': {'Inception ResNet': <keras.models.Sequential object at 0x0000016EA138C240>, 'InceptionV3': <keras.models.Sequential object at 0x0000016E9FE38B38>, 'Xception': <keras.models.Sequential object at 0x0000016EAD32DE80>}, 'mlp_2': {'Inception ResNet': <keras.models.Sequential object at 0x0000016EA138C240>, 'InceptionV3': <keras.models.Sequential object at 0x0000016E9FE38B38>, 'Xception': <keras.models.Sequential object at 0x0000016EAD32DE80>}}\n",
      "[[ 0.  1.]]\n",
      "Train on 1 samples, validate on 1 samples\n",
      "Epoch 1/1\n",
      "1/1 [==============================] - 0s 10ms/step - loss: 1.1921e-07 - acc: 1.0000 - val_loss: 1.1921e-07 - val_acc: 1.0000\n",
      "1/1 [==============================] - 0s 3ms/step\n",
      "[[ 0.  1.]]\n",
      "Train on 1 samples, validate on 1 samples\n",
      "Epoch 1/1\n",
      "1/1 [==============================] - 0s 9ms/step - loss: 1.1921e-07 - acc: 1.0000 - val_loss: 1.1921e-07 - val_acc: 1.0000\n",
      "1/1 [==============================] - 0s 4ms/step\n",
      "accuracy in Train: 0.86\n",
      "confusion matrix\n",
      "[[0 1]\n",
      " [0 6]]\n",
      "precision in Train: 0.43\n",
      "recall in Train: 0.50\n",
      "f1-score in Train: 0.46\n",
      "cohen's kappa in Train: 0.00\n",
      "accuracy in Test: 0.33\n",
      "confusion matrix\n",
      "[[0 2]\n",
      " [0 1]]\n",
      "precision in Test: 0.17\n",
      "recall in Test: 0.50\n",
      "f1-score in Test: 0.25\n",
      "cohen's kappa in Test: 0.00\n"
     ]
    }
   ],
   "source": [
    "final_models = []\n",
    "cv_results = []\n",
    "for ind, _ in enumerate(train_data):\n",
    "    \n",
    "    print ((\"\").center(60, '_'))\n",
    "    print ((\"\").center(60, '#'))\n",
    "    print ((\" Dataset Index: \" + str(ind)+ \" \").center(60, '#'))\n",
    "    print ((\"\").center(60, '#'))\n",
    "    \n",
    "    m,cv = grid_search_model(benchmark_models, parameter_candidates, train_data[ind], test_data[ind], model_names[ind])\n",
    "    final_models.append(m)\n",
    "    cv_results.append(cv)"
   ]
  },
  {
   "cell_type": "code",
   "execution_count": null,
   "metadata": {
    "collapsed": true
   },
   "outputs": [],
   "source": []
  },
  {
   "cell_type": "code",
   "execution_count": null,
   "metadata": {
    "collapsed": true
   },
   "outputs": [],
   "source": []
  },
  {
   "cell_type": "code",
   "execution_count": null,
   "metadata": {
    "collapsed": true
   },
   "outputs": [],
   "source": []
  }
 ],
 "metadata": {
  "kernelspec": {
   "display_name": "Python 3",
   "language": "python",
   "name": "python3"
  },
  "language_info": {
   "codemirror_mode": {
    "name": "ipython",
    "version": 3
   },
   "file_extension": ".py",
   "mimetype": "text/x-python",
   "name": "python",
   "nbconvert_exporter": "python",
   "pygments_lexer": "ipython3",
   "version": "3.6.1"
  },
  "varInspector": {
   "cols": {
    "lenName": 16,
    "lenType": 16,
    "lenVar": 40
   },
   "kernels_config": {
    "python": {
     "delete_cmd_postfix": "",
     "delete_cmd_prefix": "del ",
     "library": "var_list.py",
     "varRefreshCmd": "print(var_dic_list())"
    },
    "r": {
     "delete_cmd_postfix": ") ",
     "delete_cmd_prefix": "rm(",
     "library": "var_list.r",
     "varRefreshCmd": "cat(var_dic_list()) "
    }
   },
   "types_to_exclude": [
    "module",
    "function",
    "builtin_function_or_method",
    "instance",
    "_Feature"
   ],
   "window_display": false
  }
 },
 "nbformat": 4,
 "nbformat_minor": 2
}
