{
 "cells": [
  {
   "cell_type": "code",
   "execution_count": 0,
   "metadata": {
    "colab": {
     "autoexec": {
      "startup": false,
      "wait_interval": 0
     }
    },
    "colab_type": "code",
    "collapsed": true,
    "id": "VTyCqWd_NFuR"
   },
   "outputs": [],
   "source": [
    "import json\n",
    "import pandas as pd\n",
    "import numpy as np\n",
    "\n",
    "import datetime\n",
    "from keras.preprocessing.image import load_img\n",
    "from keras.preprocessing.image import img_to_array\n",
    "from keras.applications.imagenet_utils import decode_predictions\n",
    "import matplotlib.pyplot as plt\n",
    "\n",
    "from sklearn.model_selection import train_test_split\n",
    "from keras.utils import to_categorical\n",
    "\n",
    "import keras\n",
    "from keras.models import Sequential\n",
    "from keras.layers import Dense, Dropout, Flatten, Activation, InputLayer, Conv2D, MaxPooling2D \n",
    "from keras.layers.normalization import BatchNormalization\n",
    "from keras.layers.advanced_activations import LeakyReLU\n",
    "\n",
    "from keras.initializers import glorot_normal\n",
    "\n",
    "import math\n",
    "from keras.datasets import cifar100\n",
    "from scipy.cluster.vq import whiten\n",
    "\n",
    "%matplotlib inline"
   ]
  },
  {
   "cell_type": "markdown",
   "metadata": {
    "colab_type": "text",
    "id": "00oHgHSg0M8N"
   },
   "source": [
    "# Neural network test"
   ]
  },
  {
   "cell_type": "code",
   "execution_count": 0,
   "metadata": {
    "colab": {
     "autoexec": {
      "startup": false,
      "wait_interval": 0
     }
    },
    "colab_type": "code",
    "collapsed": true,
    "id": "NukMSrsm0M8S"
   },
   "outputs": [],
   "source": [
    "(x_train, y_train), (x_test, y_test) = cifar100.load_data(label_mode='fine')"
   ]
  },
  {
   "cell_type": "code",
   "execution_count": 0,
   "metadata": {
    "colab": {
     "autoexec": {
      "startup": false,
      "wait_interval": 0
     }
    },
    "colab_type": "code",
    "collapsed": true,
    "id": "OUYqhIXS0M89"
   },
   "outputs": [],
   "source": [
    "def format_data(x_train, x_test):\n",
    "    x_train = x_train.astype('float32')/255.\n",
    "    x_test = x_test.astype('float32')/255.\n",
    "    return x_train, x_test"
   ]
  },
  {
   "cell_type": "code",
   "execution_count": 0,
   "metadata": {
    "colab": {
     "autoexec": {
      "startup": false,
      "wait_interval": 0
     }
    },
    "colab_type": "code",
    "collapsed": true,
    "id": "Ndthx-H2lBdL"
   },
   "outputs": [],
   "source": [
    "x_train, x_test = format_data(x_train, x_test)"
   ]
  },
  {
   "cell_type": "markdown",
   "metadata": {
    "colab_type": "text",
    "id": "C7RzQ8_n-S27"
   },
   "source": [
    "Does Whitening work when it is done independently on x_train and x_test? (e.g., should the same whitening factor be used on x_test as on x_train)"
   ]
  },
  {
   "cell_type": "code",
   "execution_count": 0,
   "metadata": {
    "colab": {
     "autoexec": {
      "startup": false,
      "wait_interval": 0
     }
    },
    "colab_type": "code",
    "collapsed": true,
    "id": "wUCL6ONKmarx"
   },
   "outputs": [],
   "source": [
    "def filter_for_classes(X, y, classes):\n",
    "    mask = np.isin(y, classes)\n",
    "    mask = mask.reshape(len(mask))\n",
    "    return X[mask], y[mask]\n"
   ]
  },
  {
   "cell_type": "code",
   "execution_count": 0,
   "metadata": {
    "colab": {
     "autoexec": {
      "startup": false,
      "wait_interval": 0
     }
    },
    "colab_type": "code",
    "collapsed": true,
    "id": "XIz2gR5NocKi"
   },
   "outputs": [],
   "source": [
    "classes_to_retain = range(0,100)\n",
    "num_classes = len(classes_to_retain)\n",
    "x_train, y_train = filter_for_classes(x_train, y_train, classes_to_retain)\n",
    "x_test, y_test = filter_for_classes(x_test,y_test,classes_to_retain)"
   ]
  },
  {
   "cell_type": "code",
   "execution_count": 0,
   "metadata": {
    "colab": {
     "autoexec": {
      "startup": false,
      "wait_interval": 0
     }
    },
    "colab_type": "code",
    "collapsed": true,
    "id": "QmyilUlV90tS"
   },
   "outputs": [],
   "source": [
    "def whiten_data(x_train, x_test):\n",
    "    X = np.append(x_train, x_test, axis=0)\n",
    "    X_white = whiten(X).reshape(X.shape)\n",
    "    x_train_white = X_white[0:x_train.shape[0]]\n",
    "    x_test_white = X_white[x_train.shape[0]:x_train.shape[0]+x_test.shape[0]]\n",
    "    return x_train_white, x_test_white"
   ]
  },
  {
   "cell_type": "code",
   "execution_count": 0,
   "metadata": {
    "colab": {
     "autoexec": {
      "startup": false,
      "wait_interval": 0
     }
    },
    "colab_type": "code",
    "collapsed": true,
    "id": "LQszuNR5v_26"
   },
   "outputs": [],
   "source": [
    "x_train, x_test = whiten_data(x_train,x_test)"
   ]
  },
  {
   "cell_type": "code",
   "execution_count": 0,
   "metadata": {
    "colab": {
     "autoexec": {
      "startup": false,
      "wait_interval": 0
     }
    },
    "colab_type": "code",
    "collapsed": true,
    "id": "gIhSTrSFNeoY"
   },
   "outputs": [],
   "source": [
    "y_train_categorical = to_categorical(y_train)\n",
    "y_test_categorical = to_categorical(y_test)"
   ]
  },
  {
   "cell_type": "code",
   "execution_count": 0,
   "metadata": {
    "colab": {
     "autoexec": {
      "startup": false,
      "wait_interval": 0
     }
    },
    "colab_type": "code",
    "collapsed": true,
    "id": "0t4ADoNHSBsk"
   },
   "outputs": [],
   "source": [
    "datagen = keras.preprocessing.image.ImageDataGenerator(featurewise_center=False, samplewise_center=False, featurewise_std_normalization=False, samplewise_std_normalization=False, zca_whitening=False, zca_epsilon=1e-06, rotation_range=0.0, width_shift_range=0.0, height_shift_range=0.0, brightness_range=None, shear_range=0.0, zoom_range=0.0, channel_shift_range=0.0, fill_mode='nearest', cval=0.0, horizontal_flip=False, vertical_flip=False, rescale=None, preprocessing_function=None, data_format=None)\n"
   ]
  },
  {
   "cell_type": "code",
   "execution_count": 0,
   "metadata": {
    "colab": {
     "autoexec": {
      "startup": false,
      "wait_interval": 0
     }
    },
    "colab_type": "code",
    "collapsed": true,
    "id": "f98ROEhxSDXL"
   },
   "outputs": [],
   "source": [
    "# compute quantities required for featurewise normalization\n",
    "# (std, mean, and principal components if ZCA whitening is applied)\n",
    "datagen.fit(x_train)"
   ]
  },
  {
   "cell_type": "markdown",
   "metadata": {
    "colab_type": "text",
    "id": "VG3Xc-Z90M8_"
   },
   "source": [
    "## Model Definition"
   ]
  },
  {
   "cell_type": "markdown",
   "metadata": {
    "colab_type": "text",
    "id": "Us9G4cHn0M9A"
   },
   "source": [
    "I will start by \"randomly\" creating models."
   ]
  },
  {
   "cell_type": "code",
   "execution_count": 0,
   "metadata": {
    "colab": {
     "autoexec": {
      "startup": false,
      "wait_interval": 0
     }
    },
    "colab_type": "code",
    "collapsed": true,
    "id": "cUDNVZBWPykx"
   },
   "outputs": [],
   "source": [
    "models = []\n",
    "input_shape = (32,32,3)"
   ]
  },
  {
   "cell_type": "markdown",
   "metadata": {
    "colab_type": "text",
    "id": "bOgxakYHff6n"
   },
   "source": [
    "Model from https://andrewkruger.github.io/projects/2017-08-05-keras-convolutional-neural-network-for-cifar-100#the-model"
   ]
  },
  {
   "cell_type": "code",
   "execution_count": 0,
   "metadata": {
    "colab": {
     "autoexec": {
      "startup": false,
      "wait_interval": 0
     }
    },
    "colab_type": "code",
    "collapsed": true,
    "id": "TSvE1An-WBRI"
   },
   "outputs": [],
   "source": [
    "model = Sequential()\n",
    "model.add(Conv2D(128, (3, 3), padding='same',\n",
    "        input_shape=x_train.shape[1:]))\n",
    "model.add(Activation('elu'))\n",
    "model.add(Conv2D(128, (3, 3)))\n",
    "model.add(Activation('elu'))\n",
    "model.add(MaxPooling2D(pool_size=(2, 2)))\n",
    "model.add(Dropout(0.1))\n",
    "model.add(Conv2D(256, (3, 3), padding='same'))\n",
    "model.add(Activation('elu'))\n",
    "model.add(Conv2D(256, (3, 3)))\n",
    "model.add(Activation('elu'))\n",
    "model.add(MaxPooling2D(pool_size=(2, 2)))\n",
    "model.add(Dropout(0.25))\n",
    "\n",
    "model.add(Conv2D(512, (3, 3), padding='same'))\n",
    "model.add(Activation('elu'))\n",
    "model.add(Conv2D(512, (3, 3)))\n",
    "model.add(Activation('elu'))\n",
    "model.add(MaxPooling2D(pool_size=(2, 2)))\n",
    "model.add(Dropout(0.5))\n",
    "\n",
    "model.add(Flatten())\n",
    "model.add(Dense(1024))\n",
    "model.add(Activation('elu'))\n",
    "model.add(Dropout(0.5))\n",
    "model.add(Dense(num_classes))\n",
    "model.add(Activation('softmax'))\n",
    "\n"
   ]
  },
  {
   "cell_type": "code",
   "execution_count": 0,
   "metadata": {
    "colab": {
     "autoexec": {
      "startup": false,
      "wait_interval": 0
     }
    },
    "colab_type": "code",
    "collapsed": true,
    "id": "K6esOsAylIMs"
   },
   "outputs": [],
   "source": [
    "batch_size=20\n",
    "epochs = 10\n",
    "models.append({\"model\":model, \"batch\":batch_size, \"epochs\":epochs})"
   ]
  },
  {
   "cell_type": "markdown",
   "metadata": {
    "colab_type": "text",
    "id": "-_qUYCm_k-70"
   },
   "source": [
    "More random model"
   ]
  },
  {
   "cell_type": "code",
   "execution_count": 55,
   "metadata": {
    "colab": {
     "autoexec": {
      "startup": false,
      "wait_interval": 0
     },
     "base_uri": "https://localhost:8080/",
     "height": 121
    },
    "colab_type": "code",
    "executionInfo": {
     "elapsed": 675,
     "status": "ok",
     "timestamp": 1526136003240,
     "user": {
      "displayName": "Jonathan Janke",
      "photoUrl": "https://lh3.googleusercontent.com/a/default-user=s128",
      "userId": "115639238013216557306"
     },
     "user_tz": -60
    },
    "id": "V2oViq0QlDAn",
    "outputId": "7fa73299-3535-433f-a112-bcbcd431d90d"
   },
   "outputs": [
    {
     "name": "stderr",
     "output_type": "stream",
     "text": [
      "/usr/local/lib/python3.6/dist-packages/ipykernel_launcher.py:5: UserWarning: Update your `Conv2D` call to the Keras 2 API: `Conv2D(32, (3, 3))`\n",
      "  \"\"\"\n",
      "/usr/local/lib/python3.6/dist-packages/ipykernel_launcher.py:10: UserWarning: Update your `Conv2D` call to the Keras 2 API: `Conv2D(64, (3, 3), padding=\"same\")`\n",
      "  # Remove the CWD from sys.path while we load stuff.\n",
      "/usr/local/lib/python3.6/dist-packages/ipykernel_launcher.py:12: UserWarning: Update your `Conv2D` call to the Keras 2 API: `Conv2D(64, (3, 3))`\n",
      "  if sys.path[0] == '':\n"
     ]
    }
   ],
   "source": [
    "model = Sequential()\n",
    "\n",
    "model.add(Conv2D(32, (3, 3), padding='same', input_shape=x_train.shape[1:]))\n",
    "model.add(Activation('relu'))\n",
    "model.add(Conv2D(32, 3, 3))\n",
    "model.add(Activation('relu'))\n",
    "model.add(MaxPooling2D(pool_size=(2, 2)))\n",
    "model.add(Dropout(0.25))\n",
    "\n",
    "model.add(Conv2D(64, 3, 3, border_mode='same'))\n",
    "model.add(Activation('relu'))\n",
    "model.add(Conv2D(64, 3, 3))\n",
    "model.add(Activation('relu'))\n",
    "model.add(MaxPooling2D(pool_size=(2, 2)))\n",
    "model.add(Dropout(0.25))\n",
    "\n",
    "model.add(Flatten())\n",
    "model.add(Dense(512))\n",
    "model.add(Activation('relu'))\n",
    "model.add(Dropout(0.5))\n",
    "model.add(Dense(num_classes))\n",
    "model.add(Activation('softmax'))"
   ]
  },
  {
   "cell_type": "code",
   "execution_count": 0,
   "metadata": {
    "colab": {
     "autoexec": {
      "startup": false,
      "wait_interval": 0
     }
    },
    "colab_type": "code",
    "collapsed": true,
    "id": "_-fMrHpLP18w"
   },
   "outputs": [],
   "source": [
    "batch_size=20\n",
    "epochs = 20\n",
    "# models.append({\"model\":model, \"batch\":batch_size, \"epochs\":epochs})"
   ]
  },
  {
   "cell_type": "markdown",
   "metadata": {
    "colab_type": "text",
    "id": "z4nOOl8ffKvo"
   },
   "source": [
    "Incoporate batch feeding via data flow : ImageFlowGenerator"
   ]
  },
  {
   "cell_type": "code",
   "execution_count": 0,
   "metadata": {
    "colab": {
     "autoexec": {
      "startup": false,
      "wait_interval": 0
     }
    },
    "colab_type": "code",
    "collapsed": true,
    "id": "FPLLr9Pn0M9T"
   },
   "outputs": [],
   "source": [
    "lr = 0.0001\n",
    "for model in models:\n",
    "    model[\"model\"].compile(loss=keras.losses.categorical_crossentropy,\n",
    "              optimizer=keras.optimizers.Adam(lr=lr),\n",
    "              metrics=['accuracy'])"
   ]
  },
  {
   "cell_type": "code",
   "execution_count": 0,
   "metadata": {
    "colab": {
     "autoexec": {
      "startup": false,
      "wait_interval": 0
     },
     "base_uri": "https://localhost:8080/",
     "height": 52
    },
    "colab_type": "code",
    "id": "AnnsEiX3SY7C",
    "outputId": "58cedb90-9177-4c40-9d65-8080396d7353"
   },
   "outputs": [
    {
     "name": "stdout",
     "output_type": "stream",
     "text": [
      "Epoch 1/10\n",
      " 659/1875 [=========>....................] - ETA: 1:05 - loss: 4.3200 - acc: 0.0526"
     ]
    }
   ],
   "source": [
    "for model in models:  \n",
    "    _ = model[\"model\"].fit_generator(datagen.flow(x_train, y_train_categorical,\n",
    "          batch_size=model[\"batch\"]),\n",
    "          steps_per_epoch = len(x_train)/model[\"batch\"],\n",
    "          epochs=model[\"epochs\"],\n",
    "          verbose=1)\n",
    "    print (\"Model success\")"
   ]
  },
  {
   "cell_type": "code",
   "execution_count": 0,
   "metadata": {
    "colab": {
     "autoexec": {
      "startup": false,
      "wait_interval": 0
     }
    },
    "colab_type": "code",
    "collapsed": true,
    "id": "Ed0MMqWWSVXa"
   },
   "outputs": [],
   "source": [
    "# for model in models:\n",
    "#   history.append(model[\"model\"].fit(x_train, y_train_categorical,\n",
    "#           batch_size=model[\"batch\"],\n",
    "#           epochs=model[\"epochs\"],\n",
    "#           verbose=1,\n",
    "#           validation_data = (x_val, y_val_categorical)))\n",
    "# print (\"Model success\")"
   ]
  },
  {
   "cell_type": "code",
   "execution_count": 111,
   "metadata": {
    "colab": {
     "autoexec": {
      "startup": false,
      "wait_interval": 0
     },
     "base_uri": "https://localhost:8080/",
     "height": 52
    },
    "colab_type": "code",
    "executionInfo": {
     "elapsed": 5575,
     "status": "ok",
     "timestamp": 1526047232722,
     "user": {
      "displayName": "Jonathan Janke",
      "photoUrl": "https://lh3.googleusercontent.com/a/default-user=s128",
      "userId": "115639238013216557306"
     },
     "user_tz": -60
    },
    "id": "t6v3khJe0M9c",
    "outputId": "c90c6b9c-4456-40b2-b91f-2c088069a77c"
   },
   "outputs": [
    {
     "name": "stdout",
     "output_type": "stream",
     "text": [
      "Test loss: 3.373948706817627\n",
      "Test accuracy: 0.1986\n"
     ]
    }
   ],
   "source": [
    "for model in models:\n",
    "    score = model[\"model\"].evaluate(x_test, y_test_categorical, verbose=0)\n",
    "    print('Test loss:', score[0])\n",
    "    print('Test accuracy:', score[1])"
   ]
  },
  {
   "cell_type": "code",
   "execution_count": 0,
   "metadata": {
    "colab": {
     "autoexec": {
      "startup": false,
      "wait_interval": 0
     }
    },
    "colab_type": "code",
    "collapsed": true,
    "id": "aUqYNdsT0M9m"
   },
   "outputs": [],
   "source": [
    "now = datetime.datetime.now()\n",
    "prefix = now.strftime(\"%Y%m%d_%H%M\")"
   ]
  },
  {
   "cell_type": "code",
   "execution_count": 0,
   "metadata": {
    "colab": {
     "autoexec": {
      "startup": false,
      "wait_interval": 0
     }
    },
    "colab_type": "code",
    "collapsed": true,
    "id": "ock9hSqP0M90"
   },
   "outputs": [],
   "source": [
    "def cut_model (input_model):\n",
    "    dense_layer_count = 0\n",
    "    count = False\n",
    "    model_length = len(input_model.layers)\n",
    "    output_model = Sequential()\n",
    "    output_config = []\n",
    "    for index in range(model_length):\n",
    "        if (count == True):\n",
    "            output_config.append(layer.get_config())\n",
    "            input_model.pop()\n",
    "        else: layer = input_model.layers[index]\n",
    "        if layer.name.startswith('flatten'):\n",
    "            count = True\n",
    "            output_model.add(InputLayer(input_shape=layer.output_shape))          \n",
    "    print (output_config)\n",
    "    # return output_model"
   ]
  },
  {
   "cell_type": "code",
   "execution_count": 118,
   "metadata": {
    "colab": {
     "autoexec": {
      "startup": false,
      "wait_interval": 0
     },
     "base_uri": "https://localhost:8080/",
     "height": 54
    },
    "colab_type": "code",
    "executionInfo": {
     "elapsed": 1835,
     "status": "ok",
     "timestamp": 1526047248064,
     "user": {
      "displayName": "Jonathan Janke",
      "photoUrl": "https://lh3.googleusercontent.com/a/default-user=s128",
      "userId": "115639238013216557306"
     },
     "user_tz": -60
    },
    "id": "DnRy9rwn0M92",
    "outputId": "ccde9577-392a-47f8-c75a-49c49ffe639f"
   },
   "outputs": [
    {
     "name": "stdout",
     "output_type": "stream",
     "text": [
      "[{'name': 'flatten_4', 'trainable': True, 'data_format': 'channels_last'}, {'name': 'flatten_4', 'trainable': True, 'data_format': 'channels_last'}, {'name': 'flatten_4', 'trainable': True, 'data_format': 'channels_last'}, {'name': 'flatten_4', 'trainable': True, 'data_format': 'channels_last'}, {'name': 'flatten_4', 'trainable': True, 'data_format': 'channels_last'}]\n"
     ]
    }
   ],
   "source": [
    "# output_models = []\n",
    "for model in models:\n",
    "    cut_model(model[\"model\"])\n",
    "    # output_models.append(out)"
   ]
  },
  {
   "cell_type": "markdown",
   "metadata": {},
   "source": [
    "<font color=\"red\">Insert local save function from other file when it works </font>"
   ]
  },
  {
   "cell_type": "code",
   "execution_count": 0,
   "metadata": {
    "colab": {
     "autoexec": {
      "startup": false,
      "wait_interval": 0
     }
    },
    "colab_type": "code",
    "collapsed": true,
    "id": "eEGWy31ncxo-"
   },
   "outputs": [],
   "source": [
    "def create_output_separate_train_val ():\n",
    "  for model_ind in range(len(models)):\n",
    "    model = models[model_ind]\n",
    "\n",
    "    model[\"pred_train\"] = model[\"model\"].predict(x_train)\n",
    "    model[\"pred_val\"] = model[\"model\"].predict(x_val)\n",
    "    model[\"pred_test\"] = model[\"model\"].predict(x_test)\n",
    "    model[\"pred_train_with_target\"] = np.array([np.append(model[\"pred_train\"][i], y_train[i]) for i in range(len(model[\"pred_train\"]))])\n",
    "    model[\"pred_val_with_target\"] = np.array([np.append(model[\"pred_val\"][i], y_val[i]) for i in range(len(model[\"pred_val\"]))])\n",
    "    model[\"pred_test_with_target\"] = np.array([np.append(model[\"pred_test\"][i], y_test[i]) for i in range(len(model[\"pred_test\"]))])\n",
    "    \n",
    "  for model_ind in range(len(models)):\n",
    "    model = models[model_ind]\n",
    "    create_output_file(folder_id, model[\"model\"].to_json(), \"image_model_{}_cut.json\".format(model_ind), drive)\n",
    "    create_output_file(folder_id, np.array2string(np.array(model[\"model\"].weights)), \"image_model_{}_cut_weights.txt\".format(model_ind), drive)\n",
    "    \n",
    "    f_name = \"{}_pred_train_with_target_cut_data.npy\".format(model_ind)\n",
    "    np.save(f_name, model[\"pred_train_with_target\"])\n",
    "    uploaded = drive.CreateFile({'title': f_name, \"parents\":  [{\"id\": folder_id}]})\n",
    "    uploaded.SetContentFile(f_name)\n",
    "    uploaded.Upload()\n",
    "    print('Uploaded file with ID {}'.format(uploaded.get('id')))\n",
    "    f_name = \"{}_pred_val_with_target_cut_data.npy\".format(model_ind)\n",
    "    np.save(f_name, model[\"pred_val_with_target\"])\n",
    "    uploaded = drive.CreateFile({'title': f_name, \"parents\":  [{\"id\": folder_id}]})\n",
    "    uploaded.SetContentFile(f_name)\n",
    "    uploaded.Upload()\n",
    "    print('Uploaded file with ID {}'.format(uploaded.get('id')))\n",
    "    \n",
    "    f_name = \"{}_pred_test_with_target_cut_data.npy\".format(model_ind)\n",
    "    np.save(f_name, model[\"pred_test_with_target\"])\n",
    "    uploaded = drive.CreateFile({'title': f_name, \"parents\":  [{\"id\": folder_id}]})\n",
    "    uploaded.SetContentFile(f_name)\n",
    "    uploaded.Upload()\n",
    "    print('Uploaded file with ID {}'.format(uploaded.get('id')))\n",
    "    \n",
    "    \n",
    "    \n",
    " "
   ]
  },
  {
   "cell_type": "code",
   "execution_count": 136,
   "metadata": {
    "colab": {
     "autoexec": {
      "startup": false,
      "wait_interval": 0
     },
     "base_uri": "https://localhost:8080/",
     "height": 34
    },
    "colab_type": "code",
    "executionInfo": {
     "elapsed": 736,
     "status": "ok",
     "timestamp": 1526048342547,
     "user": {
      "displayName": "Jonathan Janke",
      "photoUrl": "https://lh3.googleusercontent.com/a/default-user=s128",
      "userId": "115639238013216557306"
     },
     "user_tz": -60
    },
    "id": "dzuYS-8C5e8X",
    "outputId": "990d095c-c064-424d-f48d-185036c50a1a"
   },
   "outputs": [
    {
     "name": "stdout",
     "output_type": "stream",
     "text": [
      "20180511_1400\n"
     ]
    }
   ],
   "source": [
    "print(prefix)"
   ]
  },
  {
   "cell_type": "code",
   "execution_count": 137,
   "metadata": {
    "colab": {
     "autoexec": {
      "startup": false,
      "wait_interval": 0
     },
     "base_uri": "https://localhost:8080/",
     "height": 69
    },
    "colab_type": "code",
    "executionInfo": {
     "elapsed": 55299,
     "status": "ok",
     "timestamp": 1526048398099,
     "user": {
      "displayName": "Jonathan Janke",
      "photoUrl": "https://lh3.googleusercontent.com/a/default-user=s128",
      "userId": "115639238013216557306"
     },
     "user_tz": -60
    },
    "id": "tPh2P8D-P0yO",
    "outputId": "ed6126a0-9693-4ff3-e6a2-bd462f01a99b"
   },
   "outputs": [
    {
     "name": "stdout",
     "output_type": "stream",
     "text": [
      "Uploaded file with ID 1F1ON2APyRZBtLpxPHsAYk6hzkucXmz4y\n",
      "Uploaded file with ID 19rYJTNXE1FslLCIXOqimtA9aK9Sd-Qn1\n",
      "Uploaded file with ID 19mAucp15sh2x59K2ujxSpi91JnBOwobb\n"
     ]
    }
   ],
   "source": [
    "create_output_separate_train_val()"
   ]
  },
  {
   "cell_type": "markdown",
   "metadata": {
    "colab_type": "text",
    "id": "lbMTGglvV7ba"
   },
   "source": []
  }
 ],
 "metadata": {
  "accelerator": "GPU",
  "colab": {
   "collapsed_sections": [],
   "default_view": {},
   "name": "20180511_Neural Network Object Detection_data producing step.ipynb",
   "provenance": [
    {
     "file_id": "1-Kyb5nhOh4S6INV3UOrRRaNng6gjQHp-",
     "timestamp": 1523289495074
    }
   ],
   "version": "0.3.2",
   "views": {}
  },
  "kernelspec": {
   "display_name": "Python 3",
   "language": "python",
   "name": "python3"
  },
  "language_info": {
   "codemirror_mode": {
    "name": "ipython",
    "version": 3
   },
   "file_extension": ".py",
   "mimetype": "text/x-python",
   "name": "python",
   "nbconvert_exporter": "python",
   "pygments_lexer": "ipython3",
   "version": "3.6.1"
  },
  "varInspector": {
   "cols": {
    "lenName": 16,
    "lenType": 16,
    "lenVar": 40
   },
   "kernels_config": {
    "python": {
     "delete_cmd_postfix": "",
     "delete_cmd_prefix": "del ",
     "library": "var_list.py",
     "varRefreshCmd": "print(var_dic_list())"
    },
    "r": {
     "delete_cmd_postfix": ") ",
     "delete_cmd_prefix": "rm(",
     "library": "var_list.r",
     "varRefreshCmd": "cat(var_dic_list()) "
    }
   },
   "types_to_exclude": [
    "module",
    "function",
    "builtin_function_or_method",
    "instance",
    "_Feature"
   ],
   "window_display": false
  }
 },
 "nbformat": 4,
 "nbformat_minor": 1
}
