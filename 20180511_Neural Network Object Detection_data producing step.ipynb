{
 "cells": [
  {
   "cell_type": "code",
   "execution_count": 32,
   "metadata": {
    "colab": {
     "autoexec": {
      "startup": false,
      "wait_interval": 0
     },
     "base_uri": "https://localhost:8080/",
     "height": 190
    },
    "colab_type": "code",
    "executionInfo": {
     "elapsed": 3357,
     "status": "ok",
     "timestamp": 1526135947337,
     "user": {
      "displayName": "Jonathan Janke",
      "photoUrl": "https://lh3.googleusercontent.com/a/default-user=s128",
      "userId": "115639238013216557306"
     },
     "user_tz": -60
    },
    "id": "IR54qjiL0jJ-",
    "outputId": "62413081-d81c-4dde-dc7d-802086bbc428"
   },
   "outputs": [
    {
     "name": "stdout",
     "output_type": "stream",
     "text": [
      "Requirement already satisfied: PyDrive in /usr/local/lib/python3.6/dist-packages (1.3.1)\r\n",
      "Requirement already satisfied: oauth2client>=4.0.0 in /usr/local/lib/python3.6/dist-packages (from PyDrive) (4.1.2)\r\n",
      "Requirement already satisfied: google-api-python-client>=1.2 in /usr/local/lib/python3.6/dist-packages (from PyDrive) (1.6.7)\r\n",
      "Requirement already satisfied: PyYAML>=3.0 in /usr/local/lib/python3.6/dist-packages (from PyDrive) (3.12)\r\n",
      "Requirement already satisfied: rsa>=3.1.4 in /usr/local/lib/python3.6/dist-packages (from oauth2client>=4.0.0->PyDrive) (3.4.2)\r\n",
      "Requirement already satisfied: pyasn1>=0.1.7 in /usr/local/lib/python3.6/dist-packages (from oauth2client>=4.0.0->PyDrive) (0.4.2)\r\n",
      "Requirement already satisfied: httplib2>=0.9.1 in /usr/local/lib/python3.6/dist-packages (from oauth2client>=4.0.0->PyDrive) (0.11.3)\n",
      "Requirement already satisfied: six>=1.6.1 in /usr/local/lib/python3.6/dist-packages (from oauth2client>=4.0.0->PyDrive) (1.11.0)\n",
      "Requirement already satisfied: pyasn1-modules>=0.0.5 in /usr/local/lib/python3.6/dist-packages (from oauth2client>=4.0.0->PyDrive) (0.2.1)\n",
      "Requirement already satisfied: uritemplate<4dev,>=3.0.0 in /usr/local/lib/python3.6/dist-packages (from google-api-python-client>=1.2->PyDrive) (3.0.0)\n"
     ]
    }
   ],
   "source": [
    "!pip install PyDrive"
   ]
  },
  {
   "cell_type": "code",
   "execution_count": 0,
   "metadata": {
    "colab": {
     "autoexec": {
      "startup": false,
      "wait_interval": 0
     }
    },
    "colab_type": "code",
    "collapsed": true,
    "id": "VTyCqWd_NFuR"
   },
   "outputs": [],
   "source": [
    "import json\n",
    "import pandas as pd\n",
    "import numpy as np\n",
    "\n",
    "import os\n",
    "from pydrive.auth import GoogleAuth\n",
    "from pydrive.drive import GoogleDrive\n",
    "from google.colab import auth\n",
    "from oauth2client.client import GoogleCredentials\n",
    "\n",
    "import datetime\n",
    "from keras.preprocessing.image import load_img\n",
    "from keras.preprocessing.image import img_to_array\n",
    "from keras.applications.imagenet_utils import decode_predictions\n",
    "import matplotlib.pyplot as plt\n",
    "from PIL import Image\n",
    "\n",
    "from sklearn.model_selection import train_test_split\n",
    "from keras.utils import to_categorical\n",
    "\n",
    "import keras\n",
    "from keras.models import Sequential\n",
    "from keras.layers import Dense, Dropout, Flatten, Activation\n",
    "from keras.layers import Conv2D, MaxPooling2D\n",
    "from keras.layers.normalization import BatchNormalization\n",
    "from keras.layers.advanced_activations import LeakyReLU\n",
    "\n",
    "from keras.initializers import glorot_normal\n",
    "\n",
    "import math\n",
    "from keras.datasets import cifar100\n",
    "from scipy.cluster.vq import whiten\n",
    "\n",
    "%matplotlib inline"
   ]
  },
  {
   "cell_type": "markdown",
   "metadata": {
    "colab_type": "text",
    "id": "0Qtih722M-Bl"
   },
   "source": [
    "C4.5 \n",
    "\n",
    "LTree \n",
    "\n",
    "AdaBoost.M1 \n",
    "\n",
    "MultiLogistic \n",
    "\n",
    "Lotus \n",
    "\n",
    "LMT "
   ]
  },
  {
   "cell_type": "code",
   "execution_count": 0,
   "metadata": {
    "colab": {
     "autoexec": {
      "startup": false,
      "wait_interval": 0
     }
    },
    "colab_type": "code",
    "collapsed": true,
    "id": "_T4p2O7IUZ6r"
   },
   "outputs": [],
   "source": [
    "def authenticate ():\n",
    "    # 1. Authenticate and create the PyDrive client.\n",
    "    auth.authenticate_user()\n",
    "    gauth = GoogleAuth()\n",
    "    gauth.credentials = GoogleCredentials.get_application_default()\n",
    "    drive = GoogleDrive(gauth)\n",
    "\n",
    "    # choose a local (colab) directory to store the data.\n",
    "    local_download_path = os.path.expanduser('~/data')\n",
    "    try:\n",
    "      os.makedirs(local_download_path)\n",
    "    except: pass\n",
    "    return drive, local_download_path\n"
   ]
  },
  {
   "cell_type": "code",
   "execution_count": 0,
   "metadata": {
    "colab": {
     "autoexec": {
      "startup": false,
      "wait_interval": 0
     }
    },
    "colab_type": "code",
    "collapsed": true,
    "id": "IZdByBlfUFsB"
   },
   "outputs": [],
   "source": [
    "def create_folder (folder_name):\n",
    "  # Create folder.\n",
    "  folder_metadata = {\n",
    "      'title' : folder_name,\n",
    "      # The mimetype defines this new file as a folder, so don't change this.\n",
    "      'mimeType' : 'application/vnd.google-apps.folder'\n",
    "  }\n",
    "  #Create folder\n",
    "  folder = drive.CreateFile(folder_metadata)\n",
    "  folder.Upload()"
   ]
  },
  {
   "cell_type": "code",
   "execution_count": 0,
   "metadata": {
    "colab": {
     "autoexec": {
      "startup": false,
      "wait_interval": 0
     }
    },
    "colab_type": "code",
    "collapsed": true,
    "id": "rOtoN8RlUGXc"
   },
   "outputs": [],
   "source": [
    "def create_output_folder(id, folder_title, drive):\n",
    "    file = drive.CreateFile({'title': folder_title, \n",
    "        \"parents\":  [{\"id\": id}], \n",
    "        \"mimeType\": \"application/vnd.google-apps.folder\"})\n",
    "    # file1.SetContentFile(drive.CreateFile(\"apple.txt\"))\n",
    "    file.Upload()\n",
    "    \n",
    "    root = \"'\" + id + \"'\"\n",
    "    file_list = drive.ListFile({'q': root + \" in parents and trashed=false\"}).GetList()\n",
    "    for file in file_list:\n",
    "        if file['title'] == prefix:\n",
    "            id = file['id']\n",
    "    return id"
   ]
  },
  {
   "cell_type": "code",
   "execution_count": 0,
   "metadata": {
    "colab": {
     "autoexec": {
      "startup": false,
      "wait_interval": 0
     }
    },
    "colab_type": "code",
    "collapsed": true,
    "id": "N88jNqhzUIHk"
   },
   "outputs": [],
   "source": [
    "def create_output_file(id, output_file, output_file_title, drive):\n",
    "    file = drive.CreateFile({'title': output_file_title, \n",
    "        \"parents\":  [{\"id\": id}]})\n",
    "    file.SetContentString(output_file)\n",
    "    file.Upload()"
   ]
  },
  {
   "cell_type": "code",
   "execution_count": 0,
   "metadata": {
    "colab": {
     "autoexec": {
      "startup": false,
      "wait_interval": 0
     }
    },
    "colab_type": "code",
    "collapsed": true,
    "id": "VIWN8SjIUf2N"
   },
   "outputs": [],
   "source": [
    "drive, download_path = authenticate()\n"
   ]
  },
  {
   "cell_type": "markdown",
   "metadata": {
    "colab_type": "text",
    "id": "00oHgHSg0M8N"
   },
   "source": [
    "# Neural network test"
   ]
  },
  {
   "cell_type": "code",
   "execution_count": 0,
   "metadata": {
    "colab": {
     "autoexec": {
      "startup": false,
      "wait_interval": 0
     }
    },
    "colab_type": "code",
    "collapsed": true,
    "id": "NukMSrsm0M8S"
   },
   "outputs": [],
   "source": [
    "(x_train, y_train), (x_test, y_test) = cifar100.load_data(label_mode='fine')"
   ]
  },
  {
   "cell_type": "code",
   "execution_count": 40,
   "metadata": {
    "colab": {
     "autoexec": {
      "startup": false,
      "wait_interval": 0
     },
     "base_uri": "https://localhost:8080/",
     "height": 34
    },
    "colab_type": "code",
    "executionInfo": {
     "elapsed": 974,
     "status": "ok",
     "timestamp": 1526135969576,
     "user": {
      "displayName": "Jonathan Janke",
      "photoUrl": "https://lh3.googleusercontent.com/a/default-user=s128",
      "userId": "115639238013216557306"
     },
     "user_tz": -60
    },
    "id": "ahJSKfB8KGO-",
    "outputId": "7a6ccfbe-b52d-481f-d833-764aa7d17d61"
   },
   "outputs": [
    {
     "data": {
      "text/plain": [
       "(50000, 32, 32, 3)"
      ]
     },
     "execution_count": 40,
     "metadata": {
      "tags": []
     },
     "output_type": "execute_result"
    }
   ],
   "source": [
    "x_train.shape"
   ]
  },
  {
   "cell_type": "code",
   "execution_count": 0,
   "metadata": {
    "colab": {
     "autoexec": {
      "startup": false,
      "wait_interval": 0
     }
    },
    "colab_type": "code",
    "collapsed": true,
    "id": "OUYqhIXS0M89"
   },
   "outputs": [],
   "source": [
    "def format_data(x_train, x_test):\n",
    "  x_train = x_train.astype('float32')/255.\n",
    "  x_test = x_test.astype('float32')/255.\n",
    "  return x_train, x_test"
   ]
  },
  {
   "cell_type": "code",
   "execution_count": 0,
   "metadata": {
    "colab": {
     "autoexec": {
      "startup": false,
      "wait_interval": 0
     }
    },
    "colab_type": "code",
    "collapsed": true,
    "id": "Ndthx-H2lBdL"
   },
   "outputs": [],
   "source": [
    "x_train, x_test = format_data(x_train, x_test)"
   ]
  },
  {
   "cell_type": "markdown",
   "metadata": {
    "colab_type": "text",
    "id": "C7RzQ8_n-S27"
   },
   "source": [
    "Does Whitening work when it is done independently on x_train and x_test? (e.g., should the same whitening factor be used on x_test as on x_train)"
   ]
  },
  {
   "cell_type": "code",
   "execution_count": 0,
   "metadata": {
    "colab": {
     "autoexec": {
      "startup": false,
      "wait_interval": 0
     }
    },
    "colab_type": "code",
    "collapsed": true,
    "id": "wUCL6ONKmarx"
   },
   "outputs": [],
   "source": [
    "def filter_for_classes(X, y, classes):\n",
    "  mask = np.isin(y, classes)\n",
    "  mask = mask.reshape(len(mask))\n",
    "  return X[mask], y[mask]\n"
   ]
  },
  {
   "cell_type": "code",
   "execution_count": 0,
   "metadata": {
    "colab": {
     "autoexec": {
      "startup": false,
      "wait_interval": 0
     }
    },
    "colab_type": "code",
    "collapsed": true,
    "id": "XIz2gR5NocKi"
   },
   "outputs": [],
   "source": [
    "classes_to_retain = range(0,100)\n",
    "num_classes = len(classes_to_retain)\n",
    "x_train, y_train = filter_for_classes(x_train, y_train, classes_to_retain)\n",
    "x_test, y_test = filter_for_classes(x_test,y_test,classes_to_retain)"
   ]
  },
  {
   "cell_type": "code",
   "execution_count": 45,
   "metadata": {
    "colab": {
     "autoexec": {
      "startup": false,
      "wait_interval": 0
     },
     "base_uri": "https://localhost:8080/",
     "height": 34
    },
    "colab_type": "code",
    "executionInfo": {
     "elapsed": 642,
     "status": "ok",
     "timestamp": 1526135980788,
     "user": {
      "displayName": "Jonathan Janke",
      "photoUrl": "https://lh3.googleusercontent.com/a/default-user=s128",
      "userId": "115639238013216557306"
     },
     "user_tz": -60
    },
    "id": "2GYReSQ0VREa",
    "outputId": "11f6a754-922c-4eb8-ce14-cade00da1850"
   },
   "outputs": [
    {
     "data": {
      "text/plain": [
       "(50000, 32, 32, 3)"
      ]
     },
     "execution_count": 45,
     "metadata": {
      "tags": []
     },
     "output_type": "execute_result"
    }
   ],
   "source": [
    "x_train.shape"
   ]
  },
  {
   "cell_type": "code",
   "execution_count": 0,
   "metadata": {
    "colab": {
     "autoexec": {
      "startup": false,
      "wait_interval": 0
     }
    },
    "colab_type": "code",
    "collapsed": true,
    "id": "QmyilUlV90tS"
   },
   "outputs": [],
   "source": [
    "def whiten_data(x_train, x_test):\n",
    "  X = np.append(x_train, x_test, axis=0)\n",
    "  X_white = whiten(X).reshape(X.shape)\n",
    "  x_train_white = X_white[0:x_train.shape[0]]\n",
    "  x_test_white = X_white[x_train.shape[0]:x_train.shape[0]+x_test.shape[0]]\n",
    "  return x_train_white, x_test_white"
   ]
  },
  {
   "cell_type": "code",
   "execution_count": 0,
   "metadata": {
    "colab": {
     "autoexec": {
      "startup": false,
      "wait_interval": 0
     }
    },
    "colab_type": "code",
    "collapsed": true,
    "id": "LQszuNR5v_26"
   },
   "outputs": [],
   "source": [
    "x_train, x_test = whiten_data(x_train,x_test)"
   ]
  },
  {
   "cell_type": "markdown",
   "metadata": {
    "colab_type": "text",
    "id": "1CtmamtmcN0E"
   },
   "source": [
    "I actually think most of the reshaping above is unnecessary because we actually need a 50000, 3\\*32\\*32 shape"
   ]
  },
  {
   "cell_type": "code",
   "execution_count": 0,
   "metadata": {
    "colab": {
     "autoexec": {
      "startup": false,
      "wait_interval": 0
     }
    },
    "colab_type": "code",
    "collapsed": true,
    "id": "9nD7kRGtP9Ux"
   },
   "outputs": [],
   "source": [
    "x_train,x_val, y_train, y_val = train_test_split(x_train, y_train)"
   ]
  },
  {
   "cell_type": "code",
   "execution_count": 0,
   "metadata": {
    "colab": {
     "autoexec": {
      "startup": false,
      "wait_interval": 0
     }
    },
    "colab_type": "code",
    "collapsed": true,
    "id": "gIhSTrSFNeoY"
   },
   "outputs": [],
   "source": [
    "y_train_categorical = to_categorical(y_train)\n",
    "y_test_categorical = to_categorical(y_test)\n",
    "y_val_categorical = to_categorical(y_val)"
   ]
  },
  {
   "cell_type": "code",
   "execution_count": 0,
   "metadata": {
    "colab": {
     "autoexec": {
      "startup": false,
      "wait_interval": 0
     }
    },
    "colab_type": "code",
    "collapsed": true,
    "id": "0t4ADoNHSBsk"
   },
   "outputs": [],
   "source": [
    "datagen = keras.preprocessing.image.ImageDataGenerator(featurewise_center=False, samplewise_center=False, featurewise_std_normalization=False, samplewise_std_normalization=False, zca_whitening=False, zca_epsilon=1e-06, rotation_range=0.0, width_shift_range=0.0, height_shift_range=0.0, brightness_range=None, shear_range=0.0, zoom_range=0.0, channel_shift_range=0.0, fill_mode='nearest', cval=0.0, horizontal_flip=False, vertical_flip=False, rescale=None, preprocessing_function=None, data_format=None, validation_split=0.0)\n"
   ]
  },
  {
   "cell_type": "code",
   "execution_count": 0,
   "metadata": {
    "colab": {
     "autoexec": {
      "startup": false,
      "wait_interval": 0
     }
    },
    "colab_type": "code",
    "collapsed": true,
    "id": "f98ROEhxSDXL"
   },
   "outputs": [],
   "source": [
    "# compute quantities required for featurewise normalization\n",
    "# (std, mean, and principal components if ZCA whitening is applied)\n",
    "datagen.fit(x_train)"
   ]
  },
  {
   "cell_type": "markdown",
   "metadata": {
    "colab_type": "text",
    "id": "VG3Xc-Z90M8_"
   },
   "source": [
    "## Model Definition"
   ]
  },
  {
   "cell_type": "markdown",
   "metadata": {
    "colab_type": "text",
    "id": "Us9G4cHn0M9A"
   },
   "source": [
    "I will start by \"randomly\" creating models."
   ]
  },
  {
   "cell_type": "code",
   "execution_count": 0,
   "metadata": {
    "colab": {
     "autoexec": {
      "startup": false,
      "wait_interval": 0
     }
    },
    "colab_type": "code",
    "collapsed": true,
    "id": "cUDNVZBWPykx"
   },
   "outputs": [],
   "source": [
    "from keras.applications import InceptionV3\n",
    "from keras import Model\n",
    "models = []\n",
    "input_shape = (32,32,3)"
   ]
  },
  {
   "cell_type": "markdown",
   "metadata": {
    "colab_type": "text",
    "id": "bOgxakYHff6n"
   },
   "source": [
    "Model from https://andrewkruger.github.io/projects/2017-08-05-keras-convolutional-neural-network-for-cifar-100#the-model"
   ]
  },
  {
   "cell_type": "code",
   "execution_count": 0,
   "metadata": {
    "colab": {
     "autoexec": {
      "startup": false,
      "wait_interval": 0
     }
    },
    "colab_type": "code",
    "collapsed": true,
    "id": "TSvE1An-WBRI"
   },
   "outputs": [],
   "source": [
    "model = Sequential()\n",
    "model.add(Conv2D(128, (3, 3), padding='same',\n",
    "        input_shape=x_train.shape[1:]))\n",
    "model.add(Activation('elu'))\n",
    "model.add(Conv2D(128, (3, 3)))\n",
    "model.add(Activation('elu'))\n",
    "model.add(MaxPooling2D(pool_size=(2, 2)))\n",
    "model.add(Dropout(0.1))\n",
    "model.add(Conv2D(256, (3, 3), padding='same'))\n",
    "model.add(Activation('elu'))\n",
    "model.add(Conv2D(256, (3, 3)))\n",
    "model.add(Activation('elu'))\n",
    "model.add(MaxPooling2D(pool_size=(2, 2)))\n",
    "model.add(Dropout(0.25))\n",
    "\n",
    "model.add(Conv2D(512, (3, 3), padding='same'))\n",
    "model.add(Activation('elu'))\n",
    "model.add(Conv2D(512, (3, 3)))\n",
    "model.add(Activation('elu'))\n",
    "model.add(MaxPooling2D(pool_size=(2, 2)))\n",
    "model.add(Dropout(0.5))\n",
    "\n",
    "model.add(Flatten())\n",
    "model.add(Dense(1024))\n",
    "model.add(Activation('elu'))\n",
    "model.add(Dropout(0.5))\n",
    "model.add(Dense(num_classes))\n",
    "model.add(Activation('softmax'))\n",
    "\n"
   ]
  },
  {
   "cell_type": "code",
   "execution_count": 0,
   "metadata": {
    "colab": {
     "autoexec": {
      "startup": false,
      "wait_interval": 0
     }
    },
    "colab_type": "code",
    "collapsed": true,
    "id": "K6esOsAylIMs"
   },
   "outputs": [],
   "source": [
    "batch_size=20\n",
    "epochs = 10\n",
    "models.append({\"model\":model, \"batch\":batch_size, \"epochs\":epochs})"
   ]
  },
  {
   "cell_type": "markdown",
   "metadata": {
    "colab_type": "text",
    "id": "-_qUYCm_k-70"
   },
   "source": [
    "More random model"
   ]
  },
  {
   "cell_type": "code",
   "execution_count": 55,
   "metadata": {
    "colab": {
     "autoexec": {
      "startup": false,
      "wait_interval": 0
     },
     "base_uri": "https://localhost:8080/",
     "height": 121
    },
    "colab_type": "code",
    "executionInfo": {
     "elapsed": 675,
     "status": "ok",
     "timestamp": 1526136003240,
     "user": {
      "displayName": "Jonathan Janke",
      "photoUrl": "https://lh3.googleusercontent.com/a/default-user=s128",
      "userId": "115639238013216557306"
     },
     "user_tz": -60
    },
    "id": "V2oViq0QlDAn",
    "outputId": "7fa73299-3535-433f-a112-bcbcd431d90d"
   },
   "outputs": [
    {
     "name": "stderr",
     "output_type": "stream",
     "text": [
      "/usr/local/lib/python3.6/dist-packages/ipykernel_launcher.py:5: UserWarning: Update your `Conv2D` call to the Keras 2 API: `Conv2D(32, (3, 3))`\n",
      "  \"\"\"\n",
      "/usr/local/lib/python3.6/dist-packages/ipykernel_launcher.py:10: UserWarning: Update your `Conv2D` call to the Keras 2 API: `Conv2D(64, (3, 3), padding=\"same\")`\n",
      "  # Remove the CWD from sys.path while we load stuff.\n",
      "/usr/local/lib/python3.6/dist-packages/ipykernel_launcher.py:12: UserWarning: Update your `Conv2D` call to the Keras 2 API: `Conv2D(64, (3, 3))`\n",
      "  if sys.path[0] == '':\n"
     ]
    }
   ],
   "source": [
    "model = Sequential()\n",
    "\n",
    "model.add(Conv2D(32, (3, 3), padding='same', input_shape=x_train.shape[1:]))\n",
    "model.add(Activation('relu'))\n",
    "model.add(Conv2D(32, 3, 3))\n",
    "model.add(Activation('relu'))\n",
    "model.add(MaxPooling2D(pool_size=(2, 2)))\n",
    "model.add(Dropout(0.25))\n",
    "\n",
    "model.add(Conv2D(64, 3, 3, border_mode='same'))\n",
    "model.add(Activation('relu'))\n",
    "model.add(Conv2D(64, 3, 3))\n",
    "model.add(Activation('relu'))\n",
    "model.add(MaxPooling2D(pool_size=(2, 2)))\n",
    "model.add(Dropout(0.25))\n",
    "\n",
    "model.add(Flatten())\n",
    "model.add(Dense(512))\n",
    "model.add(Activation('relu'))\n",
    "model.add(Dropout(0.5))\n",
    "model.add(Dense(num_classes))\n",
    "model.add(Activation('softmax'))"
   ]
  },
  {
   "cell_type": "code",
   "execution_count": 0,
   "metadata": {
    "colab": {
     "autoexec": {
      "startup": false,
      "wait_interval": 0
     }
    },
    "colab_type": "code",
    "collapsed": true,
    "id": "_-fMrHpLP18w"
   },
   "outputs": [],
   "source": [
    "batch_size=20\n",
    "epochs = 20\n",
    "# models.append({\"model\":model, \"batch\":batch_size, \"epochs\":epochs})"
   ]
  },
  {
   "cell_type": "markdown",
   "metadata": {
    "colab_type": "text",
    "id": "z4nOOl8ffKvo"
   },
   "source": [
    "Incoporate batch feeding via data flow : ImageFlowGenerator"
   ]
  },
  {
   "cell_type": "code",
   "execution_count": 0,
   "metadata": {
    "colab": {
     "autoexec": {
      "startup": false,
      "wait_interval": 0
     }
    },
    "colab_type": "code",
    "collapsed": true,
    "id": "FPLLr9Pn0M9T"
   },
   "outputs": [],
   "source": [
    "history = []\n",
    "lr = 0.0001\n",
    "for model in models:\n",
    "    model[\"model\"].compile(loss=keras.losses.categorical_crossentropy,\n",
    "              optimizer=keras.optimizers.Adam(lr=lr),\n",
    "              metrics=['accuracy'])"
   ]
  },
  {
   "cell_type": "code",
   "execution_count": 0,
   "metadata": {
    "colab": {
     "autoexec": {
      "startup": false,
      "wait_interval": 0
     },
     "base_uri": "https://localhost:8080/",
     "height": 52
    },
    "colab_type": "code",
    "id": "AnnsEiX3SY7C",
    "outputId": "58cedb90-9177-4c40-9d65-8080396d7353"
   },
   "outputs": [
    {
     "name": "stdout",
     "output_type": "stream",
     "text": [
      "Epoch 1/10\n",
      " 659/1875 [=========>....................] - ETA: 1:05 - loss: 4.3200 - acc: 0.0526"
     ]
    }
   ],
   "source": [
    "for model in models:  \n",
    "  history.append(model[\"model\"].fit_generator(datagen.flow(x_train, y_train_categorical,\n",
    "          batch_size=model[\"batch\"]),\n",
    "          steps_per_epoch = len(x_train)/model[\"batch\"],\n",
    "          epochs=model[\"epochs\"],\n",
    "          verbose=1,\n",
    "          validation_data = (x_val, y_val_categorical)))\n",
    "  print (\"Model success\")"
   ]
  },
  {
   "cell_type": "code",
   "execution_count": 0,
   "metadata": {
    "colab": {
     "autoexec": {
      "startup": false,
      "wait_interval": 0
     }
    },
    "colab_type": "code",
    "collapsed": true,
    "id": "Ed0MMqWWSVXa"
   },
   "outputs": [],
   "source": [
    "# for model in models:\n",
    "#   history.append(model[\"model\"].fit(x_train, y_train_categorical,\n",
    "#           batch_size=model[\"batch\"],\n",
    "#           epochs=model[\"epochs\"],\n",
    "#           verbose=1,\n",
    "#           validation_data = (x_val, y_val_categorical)))\n",
    "# print (\"Model success\")"
   ]
  },
  {
   "cell_type": "code",
   "execution_count": 111,
   "metadata": {
    "colab": {
     "autoexec": {
      "startup": false,
      "wait_interval": 0
     },
     "base_uri": "https://localhost:8080/",
     "height": 52
    },
    "colab_type": "code",
    "executionInfo": {
     "elapsed": 5575,
     "status": "ok",
     "timestamp": 1526047232722,
     "user": {
      "displayName": "Jonathan Janke",
      "photoUrl": "https://lh3.googleusercontent.com/a/default-user=s128",
      "userId": "115639238013216557306"
     },
     "user_tz": -60
    },
    "id": "t6v3khJe0M9c",
    "outputId": "c90c6b9c-4456-40b2-b91f-2c088069a77c"
   },
   "outputs": [
    {
     "name": "stdout",
     "output_type": "stream",
     "text": [
      "Test loss: 3.373948706817627\n",
      "Test accuracy: 0.1986\n"
     ]
    }
   ],
   "source": [
    "for model in models:\n",
    "  score = model[\"model\"].evaluate(x_test, y_test_categorical, verbose=0)\n",
    "  print('Test loss:', score[0])\n",
    "  print('Test accuracy:', score[1])"
   ]
  },
  {
   "cell_type": "code",
   "execution_count": 0,
   "metadata": {
    "colab": {
     "autoexec": {
      "startup": false,
      "wait_interval": 0
     }
    },
    "colab_type": "code",
    "collapsed": true,
    "id": "aUqYNdsT0M9m"
   },
   "outputs": [],
   "source": [
    "now = datetime.datetime.now()\n",
    "prefix = now.strftime(\"%Y%m%d_%H%M\")"
   ]
  },
  {
   "cell_type": "code",
   "execution_count": 0,
   "metadata": {
    "colab": {
     "autoexec": {
      "startup": false,
      "wait_interval": 0
     }
    },
    "colab_type": "code",
    "collapsed": true,
    "id": "eOp7uotQ5pNF"
   },
   "outputs": [],
   "source": [
    "id = \"1JBT_mnTQVnJkXL31ODPRCw7tTAQKakAs\"\n",
    "folder_id = create_output_folder(id, prefix, drive)"
   ]
  },
  {
   "cell_type": "code",
   "execution_count": 0,
   "metadata": {
    "colab": {
     "autoexec": {
      "startup": false,
      "wait_interval": 0
     }
    },
    "colab_type": "code",
    "collapsed": true,
    "id": "mj2AiEaDQb7i"
   },
   "outputs": [],
   "source": [
    "def save_input_data():\n",
    "  create_output_file(folder_id, np.array2string(x_test), \"test_image_data.txt\", drive)\n",
    "  create_output_file(folder_id, np.array2string(y_test), \"test_image_label.txt\", drive)\n",
    "  create_output_file(folder_id, np.array2string(x_train), \"train_image_data.txt\", drive)\n",
    "  create_output_file(folder_id, np.array2string(y_train), \"train_image_label.txt\", drive)\n",
    "\n",
    "  for model_ind in range(len(models)):\n",
    "    model = models[model_ind][\"model\"]\n",
    "    create_output_file(folder_id, model.to_json(), \"image_model_{}.json\".format(model_ind), drive)\n",
    "    create_output_file(folder_id, np.array2string(np.array(model.weights)), \"image_model_{}_weights.txt\".format(model_ind), drive)\n"
   ]
  },
  {
   "cell_type": "markdown",
   "metadata": {
    "colab_type": "text",
    "id": "iR83QNTH0M9r"
   },
   "source": [
    "Define a function to print the pictures that were falsely classified"
   ]
  },
  {
   "cell_type": "code",
   "execution_count": 0,
   "metadata": {
    "colab": {
     "autoexec": {
      "startup": false,
      "wait_interval": 0
     }
    },
    "colab_type": "code",
    "collapsed": true,
    "id": "h5swDVFy0M9r"
   },
   "outputs": [],
   "source": [
    "def print_false_predicted(trained_model, image_input, target):\n",
    "    predict = trained_model.predict_classes(image_input) + 1\n",
    "    f_images = [predict[i] != target[i] for i in range(len(predict))]\n",
    "    for img in image_input[f_images]:\n",
    "        plt.imshow(np.uint8(img*255))\n",
    "        plt.show()"
   ]
  },
  {
   "cell_type": "markdown",
   "metadata": {
    "colab_type": "text",
    "id": "xsNR6Hh00M9v"
   },
   "source": [
    "And apply the function to test or training data"
   ]
  },
  {
   "cell_type": "code",
   "execution_count": 0,
   "metadata": {
    "colab": {
     "autoexec": {
      "startup": false,
      "wait_interval": 0
     }
    },
    "colab_type": "code",
    "collapsed": true,
    "id": "7s6DGULmXJx0"
   },
   "outputs": [],
   "source": [
    "from keras.layers import InputLayer\n",
    "import copy"
   ]
  },
  {
   "cell_type": "code",
   "execution_count": 0,
   "metadata": {
    "colab": {
     "autoexec": {
      "startup": false,
      "wait_interval": 0
     }
    },
    "colab_type": "code",
    "collapsed": true,
    "id": "ock9hSqP0M90"
   },
   "outputs": [],
   "source": [
    "def cut_model (input_model):\n",
    "    dense_layer_count = 0\n",
    "    count = False\n",
    "    model_length = len(input_model.layers)\n",
    "    output_model = Sequential()\n",
    "    output_config = []\n",
    "    for index in range(model_length):\n",
    "      if (count == True):\n",
    "          output_config.append(layer.get_config())\n",
    "          input_model.pop()\n",
    "      else: layer = input_model.layers[index]\n",
    "      if layer.name.startswith('flatten'):\n",
    "          count = True\n",
    "          output_model.add(InputLayer(input_shape=layer.output_shape))          \n",
    "               \n",
    "    print (output_config)\n",
    "    # return output_model"
   ]
  },
  {
   "cell_type": "code",
   "execution_count": 118,
   "metadata": {
    "colab": {
     "autoexec": {
      "startup": false,
      "wait_interval": 0
     },
     "base_uri": "https://localhost:8080/",
     "height": 54
    },
    "colab_type": "code",
    "executionInfo": {
     "elapsed": 1835,
     "status": "ok",
     "timestamp": 1526047248064,
     "user": {
      "displayName": "Jonathan Janke",
      "photoUrl": "https://lh3.googleusercontent.com/a/default-user=s128",
      "userId": "115639238013216557306"
     },
     "user_tz": -60
    },
    "id": "DnRy9rwn0M92",
    "outputId": "ccde9577-392a-47f8-c75a-49c49ffe639f"
   },
   "outputs": [
    {
     "name": "stdout",
     "output_type": "stream",
     "text": [
      "[{'name': 'flatten_4', 'trainable': True, 'data_format': 'channels_last'}, {'name': 'flatten_4', 'trainable': True, 'data_format': 'channels_last'}, {'name': 'flatten_4', 'trainable': True, 'data_format': 'channels_last'}, {'name': 'flatten_4', 'trainable': True, 'data_format': 'channels_last'}, {'name': 'flatten_4', 'trainable': True, 'data_format': 'channels_last'}]\n"
     ]
    }
   ],
   "source": [
    "# output_models = []\n",
    "for model in models:\n",
    "  cut_model(model[\"model\"])\n",
    "  # output_models.append(out)"
   ]
  },
  {
   "cell_type": "code",
   "execution_count": 0,
   "metadata": {
    "colab": {
     "autoexec": {
      "startup": false,
      "wait_interval": 0
     }
    },
    "colab_type": "code",
    "collapsed": true,
    "id": "eEGWy31ncxo-"
   },
   "outputs": [],
   "source": [
    "def create_output_separate_train_val ():\n",
    "  for model_ind in range(len(models)):\n",
    "    model = models[model_ind]\n",
    "\n",
    "    model[\"pred_train\"] = model[\"model\"].predict(x_train)\n",
    "    model[\"pred_val\"] = model[\"model\"].predict(x_val)\n",
    "    model[\"pred_test\"] = model[\"model\"].predict(x_test)\n",
    "    model[\"pred_train_with_target\"] = np.array([np.append(model[\"pred_train\"][i], y_train[i]) for i in range(len(model[\"pred_train\"]))])\n",
    "    model[\"pred_val_with_target\"] = np.array([np.append(model[\"pred_val\"][i], y_val[i]) for i in range(len(model[\"pred_val\"]))])\n",
    "    model[\"pred_test_with_target\"] = np.array([np.append(model[\"pred_test\"][i], y_test[i]) for i in range(len(model[\"pred_test\"]))])\n",
    "    \n",
    "  for model_ind in range(len(models)):\n",
    "    model = models[model_ind]\n",
    "    create_output_file(folder_id, model[\"model\"].to_json(), \"image_model_{}_cut.json\".format(model_ind), drive)\n",
    "    create_output_file(folder_id, np.array2string(np.array(model[\"model\"].weights)), \"image_model_{}_cut_weights.txt\".format(model_ind), drive)\n",
    "    \n",
    "    f_name = \"{}_pred_train_with_target_cut_data.npy\".format(model_ind)\n",
    "    np.save(f_name, model[\"pred_train_with_target\"])\n",
    "    uploaded = drive.CreateFile({'title': f_name, \"parents\":  [{\"id\": folder_id}]})\n",
    "    uploaded.SetContentFile(f_name)\n",
    "    uploaded.Upload()\n",
    "    print('Uploaded file with ID {}'.format(uploaded.get('id')))\n",
    "    f_name = \"{}_pred_val_with_target_cut_data.npy\".format(model_ind)\n",
    "    np.save(f_name, model[\"pred_val_with_target\"])\n",
    "    uploaded = drive.CreateFile({'title': f_name, \"parents\":  [{\"id\": folder_id}]})\n",
    "    uploaded.SetContentFile(f_name)\n",
    "    uploaded.Upload()\n",
    "    print('Uploaded file with ID {}'.format(uploaded.get('id')))\n",
    "    \n",
    "    f_name = \"{}_pred_test_with_target_cut_data.npy\".format(model_ind)\n",
    "    np.save(f_name, model[\"pred_test_with_target\"])\n",
    "    uploaded = drive.CreateFile({'title': f_name, \"parents\":  [{\"id\": folder_id}]})\n",
    "    uploaded.SetContentFile(f_name)\n",
    "    uploaded.Upload()\n",
    "    print('Uploaded file with ID {}'.format(uploaded.get('id')))\n",
    "    \n",
    "    \n",
    "    \n",
    " "
   ]
  },
  {
   "cell_type": "code",
   "execution_count": 136,
   "metadata": {
    "colab": {
     "autoexec": {
      "startup": false,
      "wait_interval": 0
     },
     "base_uri": "https://localhost:8080/",
     "height": 34
    },
    "colab_type": "code",
    "executionInfo": {
     "elapsed": 736,
     "status": "ok",
     "timestamp": 1526048342547,
     "user": {
      "displayName": "Jonathan Janke",
      "photoUrl": "https://lh3.googleusercontent.com/a/default-user=s128",
      "userId": "115639238013216557306"
     },
     "user_tz": -60
    },
    "id": "dzuYS-8C5e8X",
    "outputId": "990d095c-c064-424d-f48d-185036c50a1a"
   },
   "outputs": [
    {
     "name": "stdout",
     "output_type": "stream",
     "text": [
      "20180511_1400\n"
     ]
    }
   ],
   "source": [
    "print(prefix)"
   ]
  },
  {
   "cell_type": "code",
   "execution_count": 137,
   "metadata": {
    "colab": {
     "autoexec": {
      "startup": false,
      "wait_interval": 0
     },
     "base_uri": "https://localhost:8080/",
     "height": 69
    },
    "colab_type": "code",
    "executionInfo": {
     "elapsed": 55299,
     "status": "ok",
     "timestamp": 1526048398099,
     "user": {
      "displayName": "Jonathan Janke",
      "photoUrl": "https://lh3.googleusercontent.com/a/default-user=s128",
      "userId": "115639238013216557306"
     },
     "user_tz": -60
    },
    "id": "tPh2P8D-P0yO",
    "outputId": "ed6126a0-9693-4ff3-e6a2-bd462f01a99b"
   },
   "outputs": [
    {
     "name": "stdout",
     "output_type": "stream",
     "text": [
      "Uploaded file with ID 1F1ON2APyRZBtLpxPHsAYk6hzkucXmz4y\n",
      "Uploaded file with ID 19rYJTNXE1FslLCIXOqimtA9aK9Sd-Qn1\n",
      "Uploaded file with ID 19mAucp15sh2x59K2ujxSpi91JnBOwobb\n"
     ]
    }
   ],
   "source": [
    "create_output_separate_train_val()"
   ]
  },
  {
   "cell_type": "markdown",
   "metadata": {
    "colab_type": "text",
    "id": "lbMTGglvV7ba"
   },
   "source": []
  }
 ],
 "metadata": {
  "accelerator": "GPU",
  "colab": {
   "collapsed_sections": [],
   "default_view": {},
   "name": "20180511_Neural Network Object Detection_data producing step.ipynb",
   "provenance": [
    {
     "file_id": "1-Kyb5nhOh4S6INV3UOrRRaNng6gjQHp-",
     "timestamp": 1523289495074
    }
   ],
   "version": "0.3.2",
   "views": {}
  },
  "kernelspec": {
   "display_name": "Python 3",
   "language": "python",
   "name": "python3"
  },
  "language_info": {
   "codemirror_mode": {
    "name": "ipython",
    "version": 3
   },
   "file_extension": ".py",
   "mimetype": "text/x-python",
   "name": "python",
   "nbconvert_exporter": "python",
   "pygments_lexer": "ipython3",
   "version": "3.6.1"
  },
  "varInspector": {
   "cols": {
    "lenName": 16,
    "lenType": 16,
    "lenVar": 40
   },
   "kernels_config": {
    "python": {
     "delete_cmd_postfix": "",
     "delete_cmd_prefix": "del ",
     "library": "var_list.py",
     "varRefreshCmd": "print(var_dic_list())"
    },
    "r": {
     "delete_cmd_postfix": ") ",
     "delete_cmd_prefix": "rm(",
     "library": "var_list.r",
     "varRefreshCmd": "cat(var_dic_list()) "
    }
   },
   "types_to_exclude": [
    "module",
    "function",
    "builtin_function_or_method",
    "instance",
    "_Feature"
   ],
   "window_display": false
  }
 },
 "nbformat": 4,
 "nbformat_minor": 1
}
