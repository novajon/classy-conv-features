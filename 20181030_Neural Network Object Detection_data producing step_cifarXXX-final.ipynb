{
 "cells": [
  {
   "cell_type": "code",
   "execution_count": 55,
   "metadata": {
    "colab": {
     "autoexec": {
      "startup": false,
      "wait_interval": 0
     }
    },
    "colab_type": "code",
    "id": "VTyCqWd_NFuR"
   },
   "outputs": [],
   "source": [
    "import json\n",
    "import pandas as pd\n",
    "import numpy as np\n",
    "\n",
    "import os\n",
    "import datetime\n",
    "from keras.preprocessing.image import load_img\n",
    "from keras.preprocessing.image import img_to_array\n",
    "from keras.applications.imagenet_utils import decode_predictions\n",
    "import matplotlib.pyplot as plt\n",
    "from PIL import Image\n",
    "\n",
    "from sklearn.model_selection import train_test_split\n",
    "from keras.utils import to_categorical\n",
    "\n",
    "import keras\n",
    "from keras.models import Sequential\n",
    "from keras.layers import Dense, Dropout, Flatten, Activation, InputLayer, Conv2D, MaxPooling2D\n",
    "from keras.layers.normalization import BatchNormalization\n",
    "from keras.layers.advanced_activations import LeakyReLU\n",
    "from keras.initializers import glorot_normal, RandomNormal, Zeros\n",
    "\n",
    "import math\n",
    "from keras.datasets import cifar10, cifar100\n",
    "from scipy.cluster.vq import whiten\n",
    "\n",
    "import glob\n",
    "import os\n",
    "\n",
    "from keras.applications import InceptionV3, Xception, InceptionResNetV2\n",
    "from keras import Model\n",
    "\n",
    "from ann_visualizer.visualize import ann_viz\n",
    "\n",
    "from keras.utils.vis_utils import plot_model\n",
    "\n",
    "%matplotlib inline"
   ]
  },
  {
   "cell_type": "markdown",
   "metadata": {
    "colab_type": "text",
    "id": "00oHgHSg0M8N"
   },
   "source": [
    "# Neural network test"
   ]
  },
  {
   "cell_type": "code",
   "execution_count": 39,
   "metadata": {
    "colab": {
     "autoexec": {
      "startup": false,
      "wait_interval": 0
     }
    },
    "colab_type": "code",
    "id": "OUYqhIXS0M89"
   },
   "outputs": [],
   "source": [
    "def format_data(x_train, x_test):\n",
    "    x_train = x_train.astype('float32')\n",
    "    x_test = x_test.astype('float32')\n",
    "    x_train = x_train/255.\n",
    "    x_test = x_test/255.\n",
    "    return x_train, x_test"
   ]
  },
  {
   "cell_type": "code",
   "execution_count": 40,
   "metadata": {},
   "outputs": [],
   "source": [
    "def normalize_data(x_train, x_test):\n",
    "    x_train = x_train.astype('float32')\n",
    "    x_test = x_test.astype('float32')\n",
    "    x_train = normalize_production(x_train)\n",
    "    x_test = normalize_production(x_test)\n",
    "    return x_train,x_test"
   ]
  },
  {
   "cell_type": "markdown",
   "metadata": {
    "colab_type": "text",
    "id": "C7RzQ8_n-S27"
   },
   "source": [
    "Does Whitening work when it is done independently on x_train and x_test? (e.g., should the same whitening factor be used on x_test as on x_train)"
   ]
  },
  {
   "cell_type": "code",
   "execution_count": 41,
   "metadata": {
    "colab": {
     "autoexec": {
      "startup": false,
      "wait_interval": 0
     }
    },
    "colab_type": "code",
    "id": "QmyilUlV90tS"
   },
   "outputs": [],
   "source": [
    "def whiten_data(x_train, x_test):\n",
    "    x_train = x_train.astype('float32')\n",
    "    x_test = x_test.astype('float32')\n",
    "    X = np.append(x_train, x_test, axis=0)\n",
    "    X_white = whiten(X).reshape(X.shape)\n",
    "    x_train_white = X_white[0:x_train.shape[0]]\n",
    "    x_test_white = X_white[x_train.shape[0]:x_train.shape[0]+x_test.shape[0]]\n",
    "    return x_train_white, x_test_white"
   ]
  },
  {
   "cell_type": "code",
   "execution_count": 42,
   "metadata": {},
   "outputs": [],
   "source": [
    "# from VGG model \n",
    "\n",
    "def normalize_production(x):\n",
    "    #this function is used to normalize instances in production according to saved training set statistics\n",
    "    # Input: X - a training set\n",
    "    # Output X - a normalized training set according to normalization constants.\n",
    "\n",
    "    #these values produced during first training and are general for the standard cifar10 training set normalization\n",
    "    mean = 120.707\n",
    "    std = 64.15\n",
    "    return (x-mean)/(std+1e-7)"
   ]
  },
  {
   "cell_type": "code",
   "execution_count": 43,
   "metadata": {},
   "outputs": [],
   "source": [
    "def create_output_files (x_train, x_test, y_train, y_test, prefix, suffix = \"\"):\n",
    "    for model_ind, model in enumerate(models):\n",
    "        pred_train = model.predict(x_train)\n",
    "        pred_test = model.predict(x_test)\n",
    "        pred_train_with_target = np.array([np.array([preds, y_train[i]]) for i,preds in enumerate(pred_train)])\n",
    "        pred_test_with_target = np.array([np.array([preds, y_test[i]]) for i,preds in enumerate(pred_test)])\n",
    "        path = input_path + \"Intermediate/\" + prefix + \"/\" + model_names[model_ind]\n",
    "        if not os.path.exists(path):\n",
    "            os.makedirs(path)\n",
    "        np.save(path + \"/train\" + suffix, pred_train_with_target)\n",
    "        np.save(path + \"/test\" + suffix, pred_test_with_target)"
   ]
  },
  {
   "cell_type": "code",
   "execution_count": 44,
   "metadata": {},
   "outputs": [],
   "source": [
    "def dev_pipeline(class_start, class_end, prefix):\n",
    "    final_images, batches,curr_labels = fetch_data_from_classes(input_path + \"images\", img_rows, img_cols, classes = list(range(class_start,class_end)))\n",
    "    x_train, x_test, y_train, y_test = train_test_split(batches, curr_labels, test_size=0.25)\n",
    "    x_train, x_test = format_data(x_train, x_test)\n",
    "    classes_to_retain = range(class_start,class_end)\n",
    "    num_classes = len(classes_to_retain)\n",
    "    x_train, y_train = filter_for_classes(x_train, y_train, classes_to_retain)\n",
    "    x_test, y_test = filter_for_classes(x_test,y_test,classes_to_retain)\n",
    "    x_train, x_test = whiten_data(x_train,x_test)\n",
    "    y_train_categorical = to_categorical(y_train)\n",
    "    y_test_categorical = to_categorical(y_test)\n",
    "    suffix = \"_{}-{}\".format(class_start, class_end)\n",
    "    create_output_files(x_train, x_test, y_train, y_test, prefix, suffix)"
   ]
  },
  {
   "cell_type": "code",
   "execution_count": 45,
   "metadata": {},
   "outputs": [],
   "source": [
    "def run_all(prefix, class_chunk_size=10, label_file = \"351_Data\\ILSVRC2012_Validation\\labels\\ILSVRC2012_devkit_t12\\data\\ILSVRC2012_validation_ground_truth.txt\"):\n",
    "    labels = np.array(pd.read_csv(label_file, header=None, names=[\"Class\"]))\n",
    "    num_classes = len(np.unique(labels))\n",
    "    start_ind = min (np.unique(labels))\n",
    "    # path = input_path + \"Intermediate\\\\\" + prefix + \"\\\\\" + model_names[model_ind]\n",
    "    # if not os.path.exists(path):\n",
    "    #    os.makedirs(path)\n",
    "\n",
    "    while True:\n",
    "        dev_pipeline(start_ind, start_ind + class_chunk_size, prefix)\n",
    "        if start_ind+ class_chunk_size>max(np.unique(labels)):\n",
    "            dev_pipeline(start_ind, max(np.unique(labels)) + 1, prefix)\n",
    "            break\n",
    "        start_ind = start_ind + class_chunk_size    "
   ]
  },
  {
   "cell_type": "code",
   "execution_count": 46,
   "metadata": {},
   "outputs": [],
   "source": [
    "def imsave(fname, arr, vmin=None, vmax=None, cmap=None, format=None, origin=None):\n",
    "    from matplotlib.backends.backend_agg import FigureCanvasAgg as FigureCanvas\n",
    "    from matplotlib.figure import Figure\n",
    "\n",
    "    fig = Figure(figsize=arr.shape[::-1], dpi=1, frameon=False)\n",
    "    canvas = FigureCanvas(fig)\n",
    "    fig.figimage(arr, cmap=cmap, vmin=vmin, vmax=vmax, origin=origin)\n",
    "    fig.savefig(fname, dpi=1, format=format)"
   ]
  },
  {
   "cell_type": "code",
   "execution_count": 47,
   "metadata": {},
   "outputs": [],
   "source": [
    "def show_image_classes(images, classes, prefix, suffix=\"\"):\n",
    "    for cl in np.unique(y_train):\n",
    "        for ind,el in enumerate(y_train):\n",
    "            if el == cl:\n",
    "                class_pos = ind\n",
    "                break\n",
    "        plt.figure()\n",
    "        plt.imshow(np.uint8(x_train[class_pos]))\n",
    "        path = \"353_Sample_Images/\" + prefix + \"/\"\n",
    "        if not os.path.exists(path):\n",
    "            os.makedirs(path)\n",
    "        plt.savefig(path + input_path.split(\"/\")[1].split(\"_\")[0] + \"_\" + str(cl) + \"_sample_image_\" + suffix)"
   ]
  },
  {
   "cell_type": "code",
   "execution_count": 48,
   "metadata": {},
   "outputs": [],
   "source": [
    "def create_MLP_1(input_shape):\n",
    "    model = Sequential()\n",
    "    model.add(Conv2D(128, (3, 3), padding='same',\n",
    "            input_shape=x_train.shape[1:]))\n",
    "    model.add(Activation('elu'))\n",
    "    model.add(Conv2D(128, (3, 3)))\n",
    "    model.add(Activation('elu'))\n",
    "    model.add(MaxPooling2D(pool_size=(2, 2)))\n",
    "    model.add(Dropout(0.1))\n",
    "    model.add(Conv2D(256, (3, 3), padding='same'))\n",
    "    model.add(Activation('elu'))\n",
    "    model.add(Conv2D(256, (3, 3)))\n",
    "    model.add(Activation('elu'))\n",
    "    model.add(MaxPooling2D(pool_size=(2, 2)))\n",
    "    model.add(Dropout(0.25))\n",
    "\n",
    "    model.add(Conv2D(512, (3, 3), padding='same'))\n",
    "    model.add(Activation('elu'))\n",
    "    model.add(Conv2D(512, (3, 3)))\n",
    "    model.add(Activation('elu'))\n",
    "    model.add(MaxPooling2D(pool_size=(2, 2)))\n",
    "    model.add(Dropout(0.5))\n",
    "\n",
    "    model.add(Flatten())\n",
    "    model.add(Dense(1024))\n",
    "    model.add(Activation('elu'))\n",
    "    model.add(Dropout(0.5))\n",
    "    model.add(Dense(num_classes))\n",
    "    model.add(Activation('softmax'))\n",
    "    return model"
   ]
  },
  {
   "cell_type": "code",
   "execution_count": 49,
   "metadata": {},
   "outputs": [],
   "source": [
    "def create_MLP_2(input_shape):\n",
    "    model = Sequential()\n",
    "\n",
    "    model.add(Conv2D(32, (3, 3), padding='same', input_shape=x_train.shape[1:]))\n",
    "    model.add(Activation('relu'))\n",
    "    model.add(Conv2D(32, 3, 3))\n",
    "    model.add(Activation('relu'))\n",
    "    model.add(MaxPooling2D(pool_size=(2, 2)))\n",
    "    model.add(Dropout(0.25))\n",
    "\n",
    "    model.add(Conv2D(64, 3, 3, border_mode='same'))\n",
    "    model.add(Activation('relu'))\n",
    "    model.add(Conv2D(64, 3, 3))\n",
    "    model.add(Activation('relu'))\n",
    "    model.add(MaxPooling2D(pool_size=(2, 2)))\n",
    "    model.add(Dropout(0.25))\n",
    "\n",
    "    model.add(Flatten())\n",
    "    model.add(Dense(512))\n",
    "    model.add(Activation('relu'))\n",
    "    model.add(Dropout(0.5))\n",
    "    model.add(Dense(num_classes))\n",
    "    model.add(Activation('softmax'))\n",
    "    \n",
    "    return model"
   ]
  },
  {
   "cell_type": "code",
   "execution_count": 50,
   "metadata": {},
   "outputs": [],
   "source": [
    "# SimpleNet benchmark from https://github.com/EricAlcaide/SimpleNet-Keras/blob/master/simplenet.py\n",
    "\n",
    "def create_simple_net(input_shape):\n",
    "\n",
    "    act = 'relu'\n",
    "    s = 2\n",
    "    weight_decay = 1e-2\n",
    "\n",
    "    model = Sequential()\n",
    "\n",
    "    # Block 1\n",
    "    model.add(Conv2D(64, (3,3), padding='same', kernel_initializer=glorot_normal(), input_shape=x_train.shape[1:]))\n",
    "    model.add(BatchNormalization())\n",
    "    model.add(Activation(act))\n",
    "    model.add(Dropout(0.2))\n",
    "\n",
    "    # Block 2\n",
    "    model.add(Conv2D(128, (3,3), padding='same', kernel_initializer=glorot_normal()))\n",
    "    model.add(BatchNormalization())\n",
    "    model.add(Activation(act))\n",
    "    model.add(Dropout(0.2))\n",
    "\n",
    "    # Block 3\n",
    "    model.add(Conv2D(128, (3,3), padding='same', kernel_initializer=RandomNormal(stddev=0.01)))\n",
    "    model.add(BatchNormalization())\n",
    "    model.add(Activation(act))\n",
    "    model.add(Dropout(0.2))\n",
    "\n",
    "    # Block 4\n",
    "    model.add(Conv2D(128, (3,3), padding='same', kernel_initializer=RandomNormal(stddev=0.01)))\n",
    "    model.add(BatchNormalization())\n",
    "    model.add(Activation(act))\n",
    "    # First Maxpooling\n",
    "    model.add(MaxPooling2D(pool_size=(2,2), strides=s))\n",
    "    model.add(Dropout(0.2))\n",
    "\n",
    "\n",
    "    # Block 5\n",
    "    model.add(Conv2D(128, (3,3), padding='same', kernel_initializer=RandomNormal(stddev=0.01)))\n",
    "    model.add(BatchNormalization())\n",
    "    model.add(Activation(act))\n",
    "    model.add(Dropout(0.2))\n",
    "\n",
    "    # Block 6\n",
    "    model.add(Conv2D(128, (3,3), padding='same', kernel_initializer=glorot_normal()))\n",
    "    model.add(BatchNormalization())\n",
    "    model.add(Activation(act))\n",
    "    model.add(Dropout(0.2))\n",
    "\n",
    "    # Block 7\n",
    "    model.add(Conv2D(256, (3,3), padding='same', kernel_initializer=glorot_normal()))\n",
    "    # Second Maxpooling\n",
    "    model.add(MaxPooling2D(pool_size=(2,2), strides=s))\n",
    "    model.add(BatchNormalization())\n",
    "    model.add(Activation(act))\n",
    "    model.add(Dropout(0.2))\n",
    "\n",
    "\n",
    "    # Block 8\n",
    "    model.add(Conv2D(256, (3,3), padding='same', kernel_initializer=glorot_normal()))\n",
    "    model.add(BatchNormalization())\n",
    "    model.add(Activation(act))\n",
    "    model.add(Dropout(0.2))\n",
    "\n",
    "    # Block 9\n",
    "    model.add(Conv2D(256, (3,3), padding='same', kernel_initializer=glorot_normal()))\n",
    "    model.add(BatchNormalization())\n",
    "    model.add(Activation(act))\n",
    "    model.add(Dropout(0.2))\n",
    "    # Third Maxpooling\n",
    "    model.add(MaxPooling2D(pool_size=(2,2), strides=s))\n",
    "\n",
    "\n",
    "    # Block 10\n",
    "    model.add(Conv2D(512, (3,3), padding='same', kernel_initializer=glorot_normal()))\n",
    "    model.add(BatchNormalization())\n",
    "    model.add(Activation(act))\n",
    "    model.add(Dropout(0.2))\n",
    "\n",
    "    # Block 11  \n",
    "    model.add(Conv2D(2048, (1,1), padding='same', kernel_initializer=glorot_normal()))\n",
    "    model.add(Activation(act))\n",
    "    model.add(Dropout(0.2))\n",
    "\n",
    "    # Block 12  \n",
    "    model.add(Conv2D(256, (1,1), padding='same', kernel_initializer=glorot_normal()))\n",
    "    model.add(Activation(act))\n",
    "    # Fourth Maxpooling\n",
    "    model.add(MaxPooling2D(pool_size=(2,2), strides=s))\n",
    "    model.add(Dropout(0.2))\n",
    "\n",
    "\n",
    "    # Block 13\n",
    "    model.add(Conv2D(256, (3,3), padding='same', kernel_initializer=glorot_normal()))\n",
    "    model.add(Activation(act))\n",
    "    # Fifth Maxpooling\n",
    "    model.add(MaxPooling2D(pool_size=(2,2), strides=s))\n",
    "\n",
    "    # Final Classifier\n",
    "    model.add(Flatten())\n",
    "    model.add(Dense(num_classes, activation='softmax'))\n",
    "    \n",
    "    return model"
   ]
  },
  {
   "cell_type": "code",
   "execution_count": 51,
   "metadata": {},
   "outputs": [],
   "source": [
    "# from https://github.com/geifmany/cifar-vgg\n",
    "from __future__ import print_function\n",
    "import keras\n",
    "from keras.datasets import cifar10\n",
    "from keras.preprocessing.image import ImageDataGenerator\n",
    "\n",
    "\n",
    "from keras.models import Sequential\n",
    "from keras.layers import Dense, Dropout, Activation, Flatten\n",
    "from keras.layers import Conv2D, MaxPooling2D, BatchNormalization\n",
    "from keras import optimizers\n",
    "import numpy as np\n",
    "from keras.layers.core import Lambda\n",
    "from keras import backend as K\n",
    "from keras import regularizers\n",
    "\n",
    "class cifar10vgg:\n",
    "    def __init__(self,train=True):\n",
    "        self.num_classes = 10\n",
    "        self.weight_decay = 0.0005\n",
    "        self.x_shape = [32,32,3]\n",
    "\n",
    "        self.model = self.build_model()\n",
    "        if train:\n",
    "            self.model = self.train(self.model)\n",
    "        else:\n",
    "            self.model.load_weights('351_Data/CIFAR10_filtered/Benchmark_Models/Data/cifar10vgg.h5')\n",
    "\n",
    "\n",
    "    def build_model(self):\n",
    "        # Build the network of vgg for 10 classes with massive dropout and weight decay as described in the paper.\n",
    "\n",
    "        model = Sequential()\n",
    "        weight_decay = self.weight_decay\n",
    "\n",
    "        model.add(Conv2D(64, (3, 3), padding='same',\n",
    "                         input_shape=self.x_shape,kernel_regularizer=regularizers.l2(weight_decay)))\n",
    "        model.add(Activation('relu'))\n",
    "        model.add(BatchNormalization())\n",
    "        model.add(Dropout(0.3))\n",
    "\n",
    "        model.add(Conv2D(64, (3, 3), padding='same',kernel_regularizer=regularizers.l2(weight_decay)))\n",
    "        model.add(Activation('relu'))\n",
    "        model.add(BatchNormalization())\n",
    "\n",
    "        model.add(MaxPooling2D(pool_size=(2, 2)))\n",
    "\n",
    "        model.add(Conv2D(128, (3, 3), padding='same',kernel_regularizer=regularizers.l2(weight_decay)))\n",
    "        model.add(Activation('relu'))\n",
    "        model.add(BatchNormalization())\n",
    "        model.add(Dropout(0.4))\n",
    "\n",
    "        model.add(Conv2D(128, (3, 3), padding='same',kernel_regularizer=regularizers.l2(weight_decay)))\n",
    "        model.add(Activation('relu'))\n",
    "        model.add(BatchNormalization())\n",
    "\n",
    "        model.add(MaxPooling2D(pool_size=(2, 2)))\n",
    "\n",
    "        model.add(Conv2D(256, (3, 3), padding='same',kernel_regularizer=regularizers.l2(weight_decay)))\n",
    "        model.add(Activation('relu'))\n",
    "        model.add(BatchNormalization())\n",
    "        model.add(Dropout(0.4))\n",
    "\n",
    "        model.add(Conv2D(256, (3, 3), padding='same',kernel_regularizer=regularizers.l2(weight_decay)))\n",
    "        model.add(Activation('relu'))\n",
    "        model.add(BatchNormalization())\n",
    "        model.add(Dropout(0.4))\n",
    "\n",
    "        model.add(Conv2D(256, (3, 3), padding='same',kernel_regularizer=regularizers.l2(weight_decay)))\n",
    "        model.add(Activation('relu'))\n",
    "        model.add(BatchNormalization())\n",
    "\n",
    "        model.add(MaxPooling2D(pool_size=(2, 2)))\n",
    "\n",
    "\n",
    "        model.add(Conv2D(512, (3, 3), padding='same',kernel_regularizer=regularizers.l2(weight_decay)))\n",
    "        model.add(Activation('relu'))\n",
    "        model.add(BatchNormalization())\n",
    "        model.add(Dropout(0.4))\n",
    "\n",
    "        model.add(Conv2D(512, (3, 3), padding='same',kernel_regularizer=regularizers.l2(weight_decay)))\n",
    "        model.add(Activation('relu'))\n",
    "        model.add(BatchNormalization())\n",
    "        model.add(Dropout(0.4))\n",
    "\n",
    "        model.add(Conv2D(512, (3, 3), padding='same',kernel_regularizer=regularizers.l2(weight_decay)))\n",
    "        model.add(Activation('relu'))\n",
    "        model.add(BatchNormalization())\n",
    "\n",
    "        model.add(MaxPooling2D(pool_size=(2, 2)))\n",
    "\n",
    "\n",
    "        model.add(Conv2D(512, (3, 3), padding='same',kernel_regularizer=regularizers.l2(weight_decay)))\n",
    "        model.add(Activation('relu'))\n",
    "        model.add(BatchNormalization())\n",
    "        model.add(Dropout(0.4))\n",
    "\n",
    "        model.add(Conv2D(512, (3, 3), padding='same',kernel_regularizer=regularizers.l2(weight_decay)))\n",
    "        model.add(Activation('relu'))\n",
    "        model.add(BatchNormalization())\n",
    "        model.add(Dropout(0.4))\n",
    "\n",
    "        model.add(Conv2D(512, (3, 3), padding='same',kernel_regularizer=regularizers.l2(weight_decay)))\n",
    "        model.add(Activation('relu'))\n",
    "        model.add(BatchNormalization())\n",
    "\n",
    "        model.add(MaxPooling2D(pool_size=(2, 2)))\n",
    "        model.add(Dropout(0.5))\n",
    "\n",
    "        model.add(Flatten())\n",
    "        model.add(Dense(512,kernel_regularizer=regularizers.l2(weight_decay)))\n",
    "        model.add(Activation('relu'))\n",
    "        model.add(BatchNormalization())\n",
    "\n",
    "        model.add(Dropout(0.5))\n",
    "        model.add(Dense(self.num_classes))\n",
    "        model.add(Activation('softmax'))\n",
    "        return model\n",
    "\n",
    "\n",
    "    def normalize(self,X_train,X_test):\n",
    "        #this function normalize inputs for zero mean and unit variance\n",
    "        # it is used when training a model.\n",
    "        # Input: training set and test set\n",
    "        # Output: normalized training set and test set according to the trianing set statistics.\n",
    "        mean = np.mean(X_train,axis=(0,1,2,3))\n",
    "        std = np.std(X_train, axis=(0, 1, 2, 3))\n",
    "        X_train = (X_train-mean)/(std+1e-7)\n",
    "        X_test = (X_test-mean)/(std+1e-7)\n",
    "        return X_train, X_test\n",
    "\n",
    "    def normalize_production(self,x):\n",
    "        #this function is used to normalize instances in production according to saved training set statistics\n",
    "        # Input: X - a training set\n",
    "        # Output X - a normalized training set according to normalization constants.\n",
    "\n",
    "        #these values produced during first training and are general for the standard cifar10 training set normalization\n",
    "        mean = 120.707\n",
    "        std = 64.15\n",
    "        return (x-mean)/(std+1e-7)\n",
    "\n",
    "    def predict(self,x,normalize=True,batch_size=50):\n",
    "        if normalize:\n",
    "            x = self.normalize_production(x)\n",
    "        return self.model.predict(x,batch_size)\n",
    "\n",
    "    def train(self,model):\n",
    "\n",
    "        #training parameters\n",
    "        batch_size = 128\n",
    "        maxepoches = 250\n",
    "        learning_rate = 0.1\n",
    "        lr_decay = 1e-6\n",
    "        lr_drop = 20\n",
    "        # The data, shuffled and split between train and test sets:\n",
    "        (x_train, y_train), (x_test, y_test) = cifar10.load_data()\n",
    "        x_train = x_train.astype('float32')\n",
    "        x_test = x_test.astype('float32')\n",
    "        x_train, x_test = self.normalize(x_train, x_test)\n",
    "\n",
    "        y_train = keras.utils.to_categorical(y_train, self.num_classes)\n",
    "        y_test = keras.utils.to_categorical(y_test, self.num_classes)\n",
    "\n",
    "        def lr_scheduler(epoch):\n",
    "            return learning_rate * (0.5 ** (epoch // lr_drop))\n",
    "        reduce_lr = keras.callbacks.LearningRateScheduler(lr_scheduler)\n",
    "\n",
    "        #data augmentation\n",
    "        datagen = ImageDataGenerator(\n",
    "            featurewise_center=False,  # set input mean to 0 over the dataset\n",
    "            samplewise_center=False,  # set each sample mean to 0\n",
    "            featurewise_std_normalization=False,  # divide inputs by std of the dataset\n",
    "            samplewise_std_normalization=False,  # divide each input by its std\n",
    "            zca_whitening=False,  # apply ZCA whitening\n",
    "            rotation_range=15,  # randomly rotate images in the range (degrees, 0 to 180)\n",
    "            width_shift_range=0.1,  # randomly shift images horizontally (fraction of total width)\n",
    "            height_shift_range=0.1,  # randomly shift images vertically (fraction of total height)\n",
    "            horizontal_flip=True,  # randomly flip images\n",
    "            vertical_flip=False)  # randomly flip images\n",
    "        # (std, mean, and principal components if ZCA whitening is applied).\n",
    "        datagen.fit(x_train)\n",
    "\n",
    "\n",
    "\n",
    "        #optimization details\n",
    "        sgd = optimizers.SGD(lr=learning_rate, decay=lr_decay, momentum=0.9, nesterov=True)\n",
    "        model.compile(loss='categorical_crossentropy', optimizer=sgd,metrics=['accuracy'])\n",
    "\n",
    "\n",
    "        # training process in a for loop with learning rate drop every 25 epoches.\n",
    "\n",
    "        historytemp = model.fit_generator(datagen.flow(x_train, y_train,\n",
    "                                         batch_size=batch_size),\n",
    "                            steps_per_epoch=x_train.shape[0] // batch_size,\n",
    "                            epochs=maxepoches,\n",
    "                            validation_data=(x_test, y_test),callbacks=[reduce_lr],verbose=2)\n",
    "        model.save_weights('cifar10vgg.h5')\n",
    "        return model"
   ]
  },
  {
   "cell_type": "code",
   "execution_count": 52,
   "metadata": {},
   "outputs": [],
   "source": [
    "def cut_model (input_model):\n",
    "    dense_layer_count = 0\n",
    "    count = False\n",
    "    model_length = len(input_model.layers)\n",
    "    output_model = Sequential()\n",
    "    output_config = []\n",
    "    for index in range(model_length):\n",
    "      if (count == True):\n",
    "          output_config.append(layer.get_config())\n",
    "          input_model.pop()\n",
    "      else: layer = input_model.layers[index]\n",
    "      if layer.name.startswith('flatten'):\n",
    "          count = True\n",
    "          output_model.add(InputLayer(input_shape=layer.output_shape))          \n",
    "    # return output_model"
   ]
  },
  {
   "cell_type": "code",
   "execution_count": 53,
   "metadata": {},
   "outputs": [],
   "source": [
    "def plot_model_stats(hist):\n",
    "    plt.plot(hist.history['acc'])\n",
    "    plt.plot(hist.history['val_acc'])\n",
    "    plt.title('model accuracy')\n",
    "    plt.ylabel('accuracy')\n",
    "    plt.xlabel('epoch')\n",
    "    plt.legend(['train', 'test'], loc='upper left')\n",
    "    plt.show()\n",
    "    # summarize history for loss\n",
    "    plt.plot(hist.history['loss'])\n",
    "    plt.plot(hist.history['val_loss'])\n",
    "    plt.title('model loss')\n",
    "    plt.ylabel('loss')\n",
    "    plt.xlabel('epoch')\n",
    "    plt.legend(['train', 'test'], loc='upper left')\n",
    "    plt.show()"
   ]
  },
  {
   "cell_type": "markdown",
   "metadata": {
    "colab_type": "text",
    "id": "VG3Xc-Z90M8_"
   },
   "source": [
    "## Model Definition"
   ]
  },
  {
   "cell_type": "markdown",
   "metadata": {
    "colab_type": "text",
    "id": "Us9G4cHn0M9A"
   },
   "source": [
    "I will start by \"randomly\" creating models."
   ]
  },
  {
   "cell_type": "markdown",
   "metadata": {},
   "source": [
    "everything from class_start till class_end is included in the data (excluding class_end)"
   ]
  },
  {
   "cell_type": "code",
   "execution_count": 1,
   "metadata": {},
   "outputs": [
    {
     "ename": "NameError",
     "evalue": "name 'cifar100' is not defined",
     "output_type": "error",
     "traceback": [
      "\u001b[0;31m---------------------------------------------------------------------------\u001b[0m",
      "\u001b[0;31mNameError\u001b[0m                                 Traceback (most recent call last)",
      "\u001b[0;32m<ipython-input-1-248ab96ef2fa>\u001b[0m in \u001b[0;36m<module>\u001b[0;34m()\u001b[0m\n\u001b[0;32m----> 1\u001b[0;31m \u001b[0;34m(\u001b[0m\u001b[0mx_train\u001b[0m\u001b[0;34m,\u001b[0m \u001b[0my_train\u001b[0m\u001b[0;34m)\u001b[0m\u001b[0;34m,\u001b[0m \u001b[0;34m(\u001b[0m\u001b[0mx_test\u001b[0m\u001b[0;34m,\u001b[0m \u001b[0my_test\u001b[0m\u001b[0;34m)\u001b[0m \u001b[0;34m=\u001b[0m \u001b[0mcifar100\u001b[0m\u001b[0;34m.\u001b[0m\u001b[0mload_data\u001b[0m\u001b[0;34m(\u001b[0m\u001b[0;34m)\u001b[0m\u001b[0;34m\u001b[0m\u001b[0m\n\u001b[0m",
      "\u001b[0;31mNameError\u001b[0m: name 'cifar100' is not defined"
     ]
    }
   ],
   "source": [
    "(x_train, y_train), (x_test, y_test) = cifar100.load_data()"
   ]
  },
  {
   "cell_type": "code",
   "execution_count": null,
   "metadata": {},
   "outputs": [],
   "source": [
    "# (x_train, y_train), (x_test, y_test) = cifar10.load_data()"
   ]
  },
  {
   "cell_type": "code",
   "execution_count": 57,
   "metadata": {},
   "outputs": [],
   "source": [
    "input_path = \"351_Data/CIFAR10_filtered/\""
   ]
  },
  {
   "cell_type": "code",
   "execution_count": 58,
   "metadata": {},
   "outputs": [],
   "source": [
    "num_classes = len(np.unique(y_train))"
   ]
  },
  {
   "cell_type": "code",
   "execution_count": 59,
   "metadata": {},
   "outputs": [
    {
     "data": {
      "text/plain": [
       "100"
      ]
     },
     "execution_count": 59,
     "metadata": {},
     "output_type": "execute_result"
    }
   ],
   "source": [
    "num_classes"
   ]
  },
  {
   "cell_type": "code",
   "execution_count": 60,
   "metadata": {},
   "outputs": [],
   "source": [
    "treat_data = \"normalize\""
   ]
  },
  {
   "cell_type": "markdown",
   "metadata": {},
   "source": [
    "Check if the output is correct"
   ]
  },
  {
   "cell_type": "code",
   "execution_count": 61,
   "metadata": {},
   "outputs": [],
   "source": [
    "now = datetime.datetime.now()\n",
    "prefix = now.strftime(\"%Y%m%d_%H%M\")"
   ]
  },
  {
   "cell_type": "code",
   "execution_count": 23,
   "metadata": {},
   "outputs": [
    {
     "data": {
      "image/png": "[encoded data removed]",
      "text/plain": [
       "<Figure size 432x288 with 1 Axes>"
      ]
     },
     "metadata": {},
     "output_type": "display_data"
    },
    {
     "data": {
      "image/png": "[encoded data removed]",
      "text/plain": [
       "<Figure size 432x288 with 1 Axes>"
      ]
     },
     "metadata": {},
     "output_type": "display_data"
    },
    {
     "data": {
      "image/png": "[encoded data removed]",
      "text/plain": [
       "<Figure size 432x288 with 1 Axes>"
      ]
     },
     "metadata": {},
     "output_type": "display_data"
    },
    {
     "data": {
      "image/png": "[encoded data removed]",
      "text/plain": [
       "<Figure size 432x288 with 1 Axes>"
      ]
     },
     "metadata": {},
     "output_type": "display_data"
    },
    {
     "data": {
      "image/png": "[encoded data removed]",
      "text/plain": [
       "<Figure size 432x288 with 1 Axes>"
      ]
     },
     "metadata": {},
     "output_type": "display_data"
    },
    {
     "data": {
      "image/png": "[encoded data removed]",
      "text/plain": [
       "<Figure size 432x288 with 1 Axes>"
      ]
     },
     "metadata": {},
     "output_type": "display_data"
    },
    {
     "data": {
      "image/png": "[encoded data removed]",
      "text/plain": [
       "<Figure size 432x288 with 1 Axes>"
      ]
     },
     "metadata": {},
     "output_type": "display_data"
    },
    {
     "data": {
      "image/png": "[encoded data removed]",
      "text/plain": [
       "<Figure size 432x288 with 1 Axes>"
      ]
     },
     "metadata": {},
     "output_type": "display_data"
    },
    {
     "data": {
      "image/png": "[encoded data removed]",
      "text/plain": [
       "<Figure size 432x288 with 1 Axes>"
      ]
     },
     "metadata": {},
     "output_type": "display_data"
    },
    {
     "data": {
      "image/png": "[encoded data removed]",
      "text/plain": [
       "<Figure size 432x288 with 1 Axes>"
      ]
     },
     "metadata": {},
     "output_type": "display_data"
    }
   ],
   "source": [
    "show_image_classes(x_train,y_train,prefix,\"raw\")"
   ]
  },
  {
   "cell_type": "code",
   "execution_count": 24,
   "metadata": {},
   "outputs": [],
   "source": [
    "if treat_data == \"normalize\" : \n",
    "    x_train,x_test = normalize_data(x_train,x_test)"
   ]
  },
  {
   "cell_type": "code",
   "execution_count": 25,
   "metadata": {},
   "outputs": [
    {
     "data": {
      "image/png": "[encoded data removed]",
      "text/plain": [
       "<Figure size 432x288 with 1 Axes>"
      ]
     },
     "metadata": {},
     "output_type": "display_data"
    },
    {
     "data": {
      "image/png": "[encoded data removed]",
      "text/plain": [
       "<Figure size 432x288 with 1 Axes>"
      ]
     },
     "metadata": {},
     "output_type": "display_data"
    },
    {
     "data": {
      "image/png": "[encoded data removed]",
      "text/plain": [
       "<Figure size 432x288 with 1 Axes>"
      ]
     },
     "metadata": {},
     "output_type": "display_data"
    },
    {
     "data": {
      "image/png": "[encoded data removed]",
      "text/plain": [
       "<Figure size 432x288 with 1 Axes>"
      ]
     },
     "metadata": {},
     "output_type": "display_data"
    },
    {
     "data": {
      "image/png": "[encoded data removed]",
      "text/plain": [
       "<Figure size 432x288 with 1 Axes>"
      ]
     },
     "metadata": {},
     "output_type": "display_data"
    },
    {
     "data": {
      "image/png": "[encoded data removed]",
      "text/plain": [
       "<Figure size 432x288 with 1 Axes>"
      ]
     },
     "metadata": {},
     "output_type": "display_data"
    },
    {
     "data": {
      "image/png": "[encoded data removed]",
      "text/plain": [
       "<Figure size 432x288 with 1 Axes>"
      ]
     },
     "metadata": {},
     "output_type": "display_data"
    },
    {
     "data": {
      "image/png": "[encoded data removed]",
      "text/plain": [
       "<Figure size 432x288 with 1 Axes>"
      ]
     },
     "metadata": {},
     "output_type": "display_data"
    },
    {
     "data": {
      "image/png": "[encoded data removed]",
      "text/plain": [
       "<Figure size 432x288 with 1 Axes>"
      ]
     },
     "metadata": {},
     "output_type": "display_data"
    },
    {
     "data": {
      "image/png": "[encoded data removed]",
      "text/plain": [
       "<Figure size 432x288 with 1 Axes>"
      ]
     },
     "metadata": {},
     "output_type": "display_data"
    }
   ],
   "source": [
    "if treat_data == \"normalize\" : \n",
    "    show_image_classes(x_train,y_train,prefix,\"normalised\")"
   ]
  },
  {
   "cell_type": "code",
   "execution_count": 23,
   "metadata": {},
   "outputs": [],
   "source": [
    "class_n_pos = [ind for ind,el in enumerate(y_train) if el == 30]"
   ]
  },
  {
   "cell_type": "code",
   "execution_count": 24,
   "metadata": {},
   "outputs": [],
   "source": [
    "for img in class_n_pos:\n",
    "    plt.figure()\n",
    "    plt.imshow(np.uint8(x_train[img]))"
   ]
  },
  {
   "cell_type": "code",
   "execution_count": 25,
   "metadata": {},
   "outputs": [
    {
     "data": {
      "text/plain": [
       "0"
      ]
     },
     "execution_count": 25,
     "metadata": {},
     "output_type": "execute_result"
    }
   ],
   "source": [
    "len(class_n_pos)"
   ]
  },
  {
   "cell_type": "code",
   "execution_count": 26,
   "metadata": {
    "colab": {
     "autoexec": {
      "startup": false,
      "wait_interval": 0
     }
    },
    "colab_type": "code",
    "id": "TSvE1An-WBRI"
   },
   "outputs": [],
   "source": [
    "y_train_categorical = to_categorical(y_train)\n",
    "y_test_categorical = to_categorical(y_test)"
   ]
  },
  {
   "cell_type": "code",
   "execution_count": 27,
   "metadata": {},
   "outputs": [],
   "source": [
    "datagen = keras.preprocessing.image.ImageDataGenerator(featurewise_center=False, samplewise_center=False, featurewise_std_normalization=False, samplewise_std_normalization=False, zca_whitening=False, zca_epsilon=1e-06, rotation_range=0.0, width_shift_range=0.0, height_shift_range=0.0, brightness_range=None, shear_range=0.0, zoom_range=0.0, channel_shift_range=0.0, fill_mode='nearest', cval=0.0, horizontal_flip=False, vertical_flip=False, rescale=None, preprocessing_function=None, data_format=None, validation_split=0.0)"
   ]
  },
  {
   "cell_type": "code",
   "execution_count": 28,
   "metadata": {},
   "outputs": [],
   "source": [
    "# compute quantities required for featurewise normalization\n",
    "# (std, mean, and principal components if ZCA whitening is applied)\n",
    "datagen.fit(x_train)"
   ]
  },
  {
   "cell_type": "code",
   "execution_count": 29,
   "metadata": {},
   "outputs": [],
   "source": [
    "models = []\n",
    "model_names = []\n",
    "input_shape = x_train[0].shape\n",
    "batch_size=100\n",
    "epochs = 80"
   ]
  },
  {
   "cell_type": "code",
   "execution_count": 30,
   "metadata": {},
   "outputs": [],
   "source": [
    "models.append(create_MLP_1(input_shape))\n",
    "model_names.append(\"MLP_Input_1\")"
   ]
  },
  {
   "cell_type": "code",
   "execution_count": 31,
   "metadata": {},
   "outputs": [
    {
     "name": "stderr",
     "output_type": "stream",
     "text": [
      "/Users/jonathanjanke/anaconda3/envs/py36/lib/python3.6/site-packages/ipykernel_launcher.py:6: UserWarning: Update your `Conv2D` call to the Keras 2 API: `Conv2D(32, (3, 3))`\n",
      "  \n",
      "/Users/jonathanjanke/anaconda3/envs/py36/lib/python3.6/site-packages/ipykernel_launcher.py:11: UserWarning: Update your `Conv2D` call to the Keras 2 API: `Conv2D(64, (3, 3), padding=\"same\")`\n",
      "  # This is added back by InteractiveShellApp.init_path()\n",
      "/Users/jonathanjanke/anaconda3/envs/py36/lib/python3.6/site-packages/ipykernel_launcher.py:13: UserWarning: Update your `Conv2D` call to the Keras 2 API: `Conv2D(64, (3, 3))`\n",
      "  del sys.path[0]\n"
     ]
    }
   ],
   "source": [
    "models.append(create_MLP_2(input_shape))\n",
    "model_names.append(\"MLP_Input_2\")"
   ]
  },
  {
   "cell_type": "markdown",
   "metadata": {},
   "source": [
    "SimpleNet benchmark from https://github.com/EricAlcaide/SimpleNet-Keras/blob/master/simplenet.py"
   ]
  },
  {
   "cell_type": "code",
   "execution_count": 32,
   "metadata": {},
   "outputs": [],
   "source": [
    "models.append(create_simple_net(input_shape))\n",
    "model_names.append(\"Simple_Net\")"
   ]
  },
  {
   "cell_type": "code",
   "execution_count": 33,
   "metadata": {},
   "outputs": [],
   "source": [
    "history = []\n",
    "lr = 0.0001\n",
    "for model in models:\n",
    "    model.compile(loss=keras.losses.categorical_crossentropy,\n",
    "              optimizer=keras.optimizers.Adam(lr=lr),\n",
    "              metrics=['accuracy'])"
   ]
  },
  {
   "cell_type": "code",
   "execution_count": 157,
   "metadata": {},
   "outputs": [
    {
     "name": "stdout",
     "output_type": "stream",
     "text": [
      "Epoch 1/80\n",
      "500/500 [==============================] - 1274s 3s/step - loss: 1.5459 - acc: 0.4420 - val_loss: 1.2258 - val_acc: 0.5715\n",
      "Epoch 2/80\n",
      "500/500 [==============================] - 1231s 2s/step - loss: 1.1663 - acc: 0.5904 - val_loss: 1.0131 - val_acc: 0.6495\n",
      "Epoch 3/80\n",
      "500/500 [==============================] - 1231s 2s/step - loss: 1.0275 - acc: 0.6423 - val_loss: 0.9167 - val_acc: 0.6820\n",
      "Epoch 4/80\n",
      "500/500 [==============================] - 1234s 2s/step - loss: 0.9476 - acc: 0.6731 - val_loss: 0.8623 - val_acc: 0.7081\n",
      "Epoch 5/80\n",
      "500/500 [==============================] - 1232s 2s/step - loss: 0.8745 - acc: 0.6993 - val_loss: 0.8292 - val_acc: 0.7241\n",
      "Epoch 6/80\n",
      "500/500 [==============================] - 1223s 2s/step - loss: 0.8180 - acc: 0.7184 - val_loss: 0.7408 - val_acc: 0.7453\n",
      "Epoch 7/80\n",
      "500/500 [==============================] - 1233s 2s/step - loss: 0.7628 - acc: 0.7367 - val_loss: 0.7262 - val_acc: 0.7596\n",
      "Epoch 8/80\n",
      "500/500 [==============================] - 1233s 2s/step - loss: 0.7127 - acc: 0.7523 - val_loss: 0.6940 - val_acc: 0.7669\n",
      "Epoch 9/80\n",
      "500/500 [==============================] - 1235s 2s/step - loss: 0.6718 - acc: 0.7695 - val_loss: 0.6785 - val_acc: 0.7736\n",
      "Epoch 10/80\n",
      "500/500 [==============================] - 1232s 2s/step - loss: 0.6249 - acc: 0.7838 - val_loss: 0.6803 - val_acc: 0.7766\n",
      "Epoch 11/80\n",
      "500/500 [==============================] - 1235s 2s/step - loss: 0.5956 - acc: 0.7957 - val_loss: 0.6322 - val_acc: 0.7898\n",
      "Epoch 12/80\n",
      "500/500 [==============================] - 1234s 2s/step - loss: 0.5499 - acc: 0.8096 - val_loss: 0.6305 - val_acc: 0.7960\n",
      "Epoch 13/80\n",
      "500/500 [==============================] - 1233s 2s/step - loss: 0.5094 - acc: 0.8234 - val_loss: 0.5994 - val_acc: 0.8003\n",
      "Epoch 14/80\n",
      "500/500 [==============================] - 1233s 2s/step - loss: 0.4777 - acc: 0.8335 - val_loss: 0.6137 - val_acc: 0.8059\n",
      "Epoch 15/80\n",
      "500/500 [==============================] - 1234s 2s/step - loss: 0.4476 - acc: 0.8434 - val_loss: 0.6079 - val_acc: 0.8060\n",
      "Epoch 16/80\n",
      "500/500 [==============================] - 1234s 2s/step - loss: 0.4194 - acc: 0.8521 - val_loss: 0.5926 - val_acc: 0.8092\n",
      "Epoch 17/80\n",
      "500/500 [==============================] - 1231s 2s/step - loss: 0.3792 - acc: 0.8671 - val_loss: 0.5949 - val_acc: 0.8135\n",
      "Epoch 18/80\n",
      "500/500 [==============================] - 1230s 2s/step - loss: 0.3604 - acc: 0.8735 - val_loss: 0.5952 - val_acc: 0.8147\n",
      "Epoch 19/80\n",
      "500/500 [==============================] - 1232s 2s/step - loss: 0.3291 - acc: 0.8840 - val_loss: 0.6015 - val_acc: 0.8181\n",
      "Epoch 20/80\n",
      "500/500 [==============================] - 1236s 2s/step - loss: 0.3046 - acc: 0.8903 - val_loss: 0.6242 - val_acc: 0.8187\n",
      "Epoch 21/80\n",
      "500/500 [==============================] - 1226s 2s/step - loss: 0.2835 - acc: 0.9001 - val_loss: 0.6528 - val_acc: 0.8170\n",
      "Epoch 22/80\n",
      "500/500 [==============================] - 1235s 2s/step - loss: 0.2595 - acc: 0.9069 - val_loss: 0.6001 - val_acc: 0.8241\n",
      "Epoch 23/80\n",
      "500/500 [==============================] - 1236s 2s/step - loss: 0.2408 - acc: 0.9140 - val_loss: 0.6248 - val_acc: 0.8207\n",
      "Epoch 24/80\n",
      "500/500 [==============================] - 1236s 2s/step - loss: 0.2269 - acc: 0.9185 - val_loss: 0.6594 - val_acc: 0.8265\n",
      "Epoch 25/80\n",
      "500/500 [==============================] - 1234s 2s/step - loss: 0.2090 - acc: 0.9268 - val_loss: 0.6570 - val_acc: 0.8306\n",
      "Epoch 26/80\n",
      "500/500 [==============================] - 1237s 2s/step - loss: 0.1961 - acc: 0.9302 - val_loss: 0.6366 - val_acc: 0.8310\n",
      "Epoch 27/80\n",
      "500/500 [==============================] - 1232s 2s/step - loss: 0.1889 - acc: 0.9325 - val_loss: 0.7049 - val_acc: 0.8280\n",
      "Epoch 28/80\n",
      "500/500 [==============================] - 1228s 2s/step - loss: 0.1675 - acc: 0.9412 - val_loss: 0.6917 - val_acc: 0.8353\n",
      "Epoch 29/80\n",
      "500/500 [==============================] - 1230s 2s/step - loss: 0.1649 - acc: 0.9423 - val_loss: 0.6767 - val_acc: 0.8279\n",
      "Epoch 30/80\n",
      "500/500 [==============================] - 1233s 2s/step - loss: 0.1516 - acc: 0.9461 - val_loss: 0.6919 - val_acc: 0.8305\n",
      "Epoch 31/80\n",
      "500/500 [==============================] - 1234s 2s/step - loss: 0.1419 - acc: 0.9493 - val_loss: 0.7230 - val_acc: 0.8328\n",
      "Epoch 32/80\n",
      "500/500 [==============================] - 1234s 2s/step - loss: 0.1416 - acc: 0.9499 - val_loss: 0.6949 - val_acc: 0.8325\n",
      "Epoch 33/80\n",
      "500/500 [==============================] - 1228s 2s/step - loss: 0.1277 - acc: 0.9547 - val_loss: 0.7232 - val_acc: 0.8320\n",
      "Epoch 34/80\n",
      "500/500 [==============================] - 1208s 2s/step - loss: 0.1213 - acc: 0.9567 - val_loss: 0.7446 - val_acc: 0.8384\n",
      "Epoch 35/80\n",
      "500/500 [==============================] - 1231s 2s/step - loss: 0.1198 - acc: 0.9582 - val_loss: 0.7177 - val_acc: 0.8333\n",
      "Epoch 36/80\n",
      "500/500 [==============================] - 1218s 2s/step - loss: 0.1111 - acc: 0.9614 - val_loss: 0.7199 - val_acc: 0.8357\n",
      "Epoch 37/80\n",
      "500/500 [==============================] - 1234s 2s/step - loss: 0.1108 - acc: 0.9611 - val_loss: 0.7199 - val_acc: 0.8380\n",
      "Epoch 38/80\n",
      "500/500 [==============================] - 1232s 2s/step - loss: 0.1037 - acc: 0.9646 - val_loss: 0.7285 - val_acc: 0.8360\n",
      "Epoch 39/80\n",
      "500/500 [==============================] - 1232s 2s/step - loss: 0.1003 - acc: 0.9646 - val_loss: 0.7388 - val_acc: 0.8382\n",
      "Epoch 40/80\n",
      "500/500 [==============================] - 1232s 2s/step - loss: 0.0967 - acc: 0.9672 - val_loss: 0.7649 - val_acc: 0.8355\n",
      "Epoch 41/80\n",
      "500/500 [==============================] - 1230s 2s/step - loss: 0.0906 - acc: 0.9688 - val_loss: 0.7531 - val_acc: 0.8401\n",
      "Epoch 42/80\n",
      "500/500 [==============================] - 1232s 2s/step - loss: 0.0895 - acc: 0.9689 - val_loss: 0.8094 - val_acc: 0.8354\n",
      "Epoch 43/80\n",
      "500/500 [==============================] - 1231s 2s/step - loss: 0.0903 - acc: 0.9692 - val_loss: 0.7520 - val_acc: 0.8393\n",
      "Epoch 44/80\n",
      "500/500 [==============================] - 1234s 2s/step - loss: 0.0830 - acc: 0.9718 - val_loss: 0.7685 - val_acc: 0.8409\n",
      "Epoch 45/80\n",
      "500/500 [==============================] - 1234s 2s/step - loss: 0.0886 - acc: 0.9698 - val_loss: 0.8307 - val_acc: 0.8327\n",
      "Epoch 46/80\n",
      "500/500 [==============================] - 1234s 2s/step - loss: 0.0828 - acc: 0.9719 - val_loss: 0.7700 - val_acc: 0.8389\n",
      "Epoch 47/80\n",
      "500/500 [==============================] - 1216s 2s/step - loss: 0.0851 - acc: 0.9716 - val_loss: 0.8005 - val_acc: 0.8383\n",
      "Epoch 48/80\n",
      "500/500 [==============================] - 1234s 2s/step - loss: 0.0791 - acc: 0.9740 - val_loss: 0.8414 - val_acc: 0.8422\n",
      "Epoch 49/80\n",
      "500/500 [==============================] - 1234s 2s/step - loss: 0.0743 - acc: 0.9746 - val_loss: 0.8169 - val_acc: 0.8449\n",
      "Epoch 50/80\n",
      "500/500 [==============================] - 1234s 2s/step - loss: 0.0760 - acc: 0.9742 - val_loss: 0.7519 - val_acc: 0.8457\n",
      "Epoch 51/80\n",
      "500/500 [==============================] - 1235s 2s/step - loss: 0.0734 - acc: 0.9744 - val_loss: 0.8757 - val_acc: 0.8439\n",
      "Epoch 52/80\n",
      "500/500 [==============================] - 1250s 2s/step - loss: 0.0679 - acc: 0.9778 - val_loss: 0.7554 - val_acc: 0.8490\n",
      "Epoch 53/80\n",
      "500/500 [==============================] - 1306s 3s/step - loss: 0.0676 - acc: 0.9771 - val_loss: 0.8618 - val_acc: 0.8417\n",
      "Epoch 54/80\n",
      "500/500 [==============================] - 1242s 2s/step - loss: 0.0630 - acc: 0.9783 - val_loss: 0.7911 - val_acc: 0.8415\n",
      "Epoch 55/80\n",
      "500/500 [==============================] - 1239s 2s/step - loss: 0.0679 - acc: 0.9774 - val_loss: 0.7970 - val_acc: 0.8430\n",
      "Epoch 56/80\n",
      "500/500 [==============================] - 1247s 2s/step - loss: 0.0692 - acc: 0.9771 - val_loss: 0.8604 - val_acc: 0.8437\n",
      "Epoch 57/80\n",
      "500/500 [==============================] - 1269s 3s/step - loss: 0.0629 - acc: 0.9783 - val_loss: 0.8171 - val_acc: 0.8421\n",
      "Epoch 58/80\n",
      "500/500 [==============================] - 1262s 3s/step - loss: 0.0636 - acc: 0.9787 - val_loss: 0.8170 - val_acc: 0.8454\n",
      "Epoch 59/80\n",
      "500/500 [==============================] - 1299s 3s/step - loss: 0.0628 - acc: 0.9794 - val_loss: 0.8825 - val_acc: 0.8461\n",
      "Epoch 60/80\n",
      "500/500 [==============================] - 1294s 3s/step - loss: 0.0590 - acc: 0.9805 - val_loss: 0.8723 - val_acc: 0.8457\n",
      "Epoch 61/80\n",
      "500/500 [==============================] - 1251s 3s/step - loss: 0.0585 - acc: 0.9797 - val_loss: 0.8477 - val_acc: 0.8442\n"
     ]
    },
    {
     "name": "stdout",
     "output_type": "stream",
     "text": [
      "Epoch 62/80\n",
      "500/500 [==============================] - 1263s 3s/step - loss: 0.0654 - acc: 0.9777 - val_loss: 0.8608 - val_acc: 0.8439\n",
      "Epoch 63/80\n",
      "500/500 [==============================] - 1248s 2s/step - loss: 0.0585 - acc: 0.9806 - val_loss: 0.8526 - val_acc: 0.8440\n",
      "Epoch 64/80\n",
      "500/500 [==============================] - 1341s 3s/step - loss: 0.0592 - acc: 0.9808 - val_loss: 0.9287 - val_acc: 0.8461\n",
      "Epoch 65/80\n",
      "500/500 [==============================] - 1319s 3s/step - loss: 0.0601 - acc: 0.9804 - val_loss: 0.8093 - val_acc: 0.8455\n",
      "Epoch 66/80\n",
      "500/500 [==============================] - 1247s 2s/step - loss: 0.0563 - acc: 0.9813 - val_loss: 0.9179 - val_acc: 0.8474\n",
      "Epoch 67/80\n",
      "500/500 [==============================] - 1235s 2s/step - loss: 0.0560 - acc: 0.9820 - val_loss: 0.8044 - val_acc: 0.8441\n",
      "Epoch 68/80\n",
      "500/500 [==============================] - 1233s 2s/step - loss: 0.0557 - acc: 0.9821 - val_loss: 0.9185 - val_acc: 0.8448\n",
      "Epoch 69/80\n",
      "500/500 [==============================] - 1243s 2s/step - loss: 0.0522 - acc: 0.9829 - val_loss: 0.8260 - val_acc: 0.8493\n",
      "Epoch 70/80\n",
      "500/500 [==============================] - 1243s 2s/step - loss: 0.0545 - acc: 0.9821 - val_loss: 0.8284 - val_acc: 0.8452\n",
      "Epoch 71/80\n",
      "500/500 [==============================] - 1241s 2s/step - loss: 0.0546 - acc: 0.9828 - val_loss: 0.8415 - val_acc: 0.8436\n",
      "Epoch 72/80\n",
      "500/500 [==============================] - 1236s 2s/step - loss: 0.0573 - acc: 0.9819 - val_loss: 0.8694 - val_acc: 0.8456\n",
      "Epoch 73/80\n",
      "500/500 [==============================] - 1241s 2s/step - loss: 0.0535 - acc: 0.9826 - val_loss: 0.8797 - val_acc: 0.8445\n",
      "Epoch 74/80\n",
      "500/500 [==============================] - 1235s 2s/step - loss: 0.0521 - acc: 0.9835 - val_loss: 0.8201 - val_acc: 0.8448\n",
      "Epoch 75/80\n",
      "500/500 [==============================] - 1236s 2s/step - loss: 0.0540 - acc: 0.9825 - val_loss: 0.8445 - val_acc: 0.8469\n",
      "Epoch 76/80\n",
      "500/500 [==============================] - 1238s 2s/step - loss: 0.0498 - acc: 0.9836 - val_loss: 0.7728 - val_acc: 0.8526\n",
      "Epoch 77/80\n",
      "500/500 [==============================] - 1238s 2s/step - loss: 0.0524 - acc: 0.9833 - val_loss: 0.8482 - val_acc: 0.8473\n",
      "Epoch 78/80\n",
      "500/500 [==============================] - 1240s 2s/step - loss: 0.0505 - acc: 0.9836 - val_loss: 0.8357 - val_acc: 0.8480\n",
      "Epoch 79/80\n",
      "500/500 [==============================] - 1237s 2s/step - loss: 0.0509 - acc: 0.9846 - val_loss: 0.8353 - val_acc: 0.8523\n",
      "Epoch 80/80\n",
      "500/500 [==============================] - 1233s 2s/step - loss: 0.0493 - acc: 0.9846 - val_loss: 0.8476 - val_acc: 0.8504\n",
      "Model success\n",
      "Epoch 1/80\n",
      "500/500 [==============================] - 156s 312ms/step - loss: 1.8524 - acc: 0.3235 - val_loss: 1.5146 - val_acc: 0.4573\n",
      "Epoch 2/80\n",
      "500/500 [==============================] - 154s 308ms/step - loss: 1.5087 - acc: 0.4535 - val_loss: 1.3475 - val_acc: 0.5237\n",
      "Epoch 3/80\n",
      "500/500 [==============================] - 155s 310ms/step - loss: 1.3784 - acc: 0.5061 - val_loss: 1.2425 - val_acc: 0.5683\n",
      "Epoch 4/80\n",
      "500/500 [==============================] - 155s 310ms/step - loss: 1.2949 - acc: 0.5387 - val_loss: 1.1862 - val_acc: 0.5824\n",
      "Epoch 5/80\n",
      "500/500 [==============================] - 155s 310ms/step - loss: 1.2235 - acc: 0.5646 - val_loss: 1.1211 - val_acc: 0.6028\n",
      "Epoch 6/80\n",
      "500/500 [==============================] - 155s 310ms/step - loss: 1.1631 - acc: 0.5890 - val_loss: 1.0684 - val_acc: 0.6266\n",
      "Epoch 7/80\n",
      "500/500 [==============================] - 155s 311ms/step - loss: 1.1090 - acc: 0.6089 - val_loss: 1.0449 - val_acc: 0.6352\n",
      "Epoch 8/80\n",
      "500/500 [==============================] - 155s 311ms/step - loss: 1.0638 - acc: 0.6258 - val_loss: 0.9790 - val_acc: 0.6602\n",
      "Epoch 9/80\n",
      "500/500 [==============================] - 155s 310ms/step - loss: 1.0150 - acc: 0.6428 - val_loss: 0.9335 - val_acc: 0.6734\n",
      "Epoch 10/80\n",
      "500/500 [==============================] - 155s 310ms/step - loss: 0.9816 - acc: 0.6581 - val_loss: 0.9114 - val_acc: 0.6838\n",
      "Epoch 11/80\n",
      "500/500 [==============================] - 155s 310ms/step - loss: 0.9478 - acc: 0.6673 - val_loss: 0.8982 - val_acc: 0.6871\n",
      "Epoch 12/80\n",
      "500/500 [==============================] - 155s 309ms/step - loss: 0.9122 - acc: 0.6816 - val_loss: 0.8617 - val_acc: 0.7042\n",
      "Epoch 13/80\n",
      "500/500 [==============================] - 155s 310ms/step - loss: 0.8820 - acc: 0.6919 - val_loss: 0.8360 - val_acc: 0.7092\n",
      "Epoch 14/80\n",
      "500/500 [==============================] - 155s 310ms/step - loss: 0.8526 - acc: 0.7027 - val_loss: 0.8074 - val_acc: 0.7202\n",
      "Epoch 15/80\n",
      "500/500 [==============================] - 155s 310ms/step - loss: 0.8312 - acc: 0.7082 - val_loss: 0.7975 - val_acc: 0.7200\n",
      "Epoch 16/80\n",
      "500/500 [==============================] - 155s 310ms/step - loss: 0.8022 - acc: 0.7209 - val_loss: 0.7748 - val_acc: 0.7303\n",
      "Epoch 17/80\n",
      "500/500 [==============================] - 155s 310ms/step - loss: 0.7859 - acc: 0.7273 - val_loss: 0.7594 - val_acc: 0.7346\n",
      "Epoch 18/80\n",
      "500/500 [==============================] - 155s 311ms/step - loss: 0.7606 - acc: 0.7331 - val_loss: 0.7483 - val_acc: 0.7363\n",
      "Epoch 19/80\n",
      "500/500 [==============================] - 156s 311ms/step - loss: 0.7442 - acc: 0.7410 - val_loss: 0.7311 - val_acc: 0.7418\n",
      "Epoch 20/80\n",
      "500/500 [==============================] - 155s 311ms/step - loss: 0.7233 - acc: 0.7475 - val_loss: 0.7180 - val_acc: 0.7449\n",
      "Epoch 21/80\n",
      "500/500 [==============================] - 155s 310ms/step - loss: 0.7090 - acc: 0.7530 - val_loss: 0.7082 - val_acc: 0.7517\n",
      "Epoch 22/80\n",
      "500/500 [==============================] - 156s 312ms/step - loss: 0.6904 - acc: 0.7585 - val_loss: 0.6933 - val_acc: 0.7550\n",
      "Epoch 23/80\n",
      "500/500 [==============================] - 156s 312ms/step - loss: 0.6702 - acc: 0.7670 - val_loss: 0.6893 - val_acc: 0.7579\n",
      "Epoch 24/80\n",
      "500/500 [==============================] - 156s 312ms/step - loss: 0.6553 - acc: 0.7722 - val_loss: 0.6732 - val_acc: 0.7632\n",
      "Epoch 25/80\n",
      "500/500 [==============================] - 156s 311ms/step - loss: 0.6432 - acc: 0.7771 - val_loss: 0.6721 - val_acc: 0.7636\n",
      "Epoch 26/80\n",
      "500/500 [==============================] - 155s 310ms/step - loss: 0.6303 - acc: 0.7793 - val_loss: 0.6584 - val_acc: 0.7689\n",
      "Epoch 27/80\n",
      "500/500 [==============================] - 156s 311ms/step - loss: 0.6117 - acc: 0.7876 - val_loss: 0.6551 - val_acc: 0.7678\n",
      "Epoch 28/80\n",
      "500/500 [==============================] - 155s 311ms/step - loss: 0.6015 - acc: 0.7901 - val_loss: 0.6580 - val_acc: 0.7690\n",
      "Epoch 29/80\n",
      "500/500 [==============================] - 155s 311ms/step - loss: 0.5884 - acc: 0.7945 - val_loss: 0.6499 - val_acc: 0.7739\n",
      "Epoch 30/80\n",
      "500/500 [==============================] - 155s 310ms/step - loss: 0.5738 - acc: 0.7998 - val_loss: 0.6493 - val_acc: 0.7712\n",
      "Epoch 31/80\n",
      "500/500 [==============================] - 156s 311ms/step - loss: 0.5660 - acc: 0.8013 - val_loss: 0.6552 - val_acc: 0.7731\n",
      "Epoch 32/80\n",
      "500/500 [==============================] - 155s 311ms/step - loss: 0.5518 - acc: 0.8073 - val_loss: 0.6256 - val_acc: 0.7811\n",
      "Epoch 33/80\n",
      "500/500 [==============================] - 155s 310ms/step - loss: 0.5379 - acc: 0.8142 - val_loss: 0.6268 - val_acc: 0.7800\n",
      "Epoch 34/80\n",
      "500/500 [==============================] - 155s 309ms/step - loss: 0.5291 - acc: 0.8152 - val_loss: 0.6196 - val_acc: 0.7821\n",
      "Epoch 35/80\n",
      "500/500 [==============================] - 155s 309ms/step - loss: 0.5240 - acc: 0.8176 - val_loss: 0.6165 - val_acc: 0.7877\n",
      "Epoch 36/80\n",
      "500/500 [==============================] - 154s 308ms/step - loss: 0.5142 - acc: 0.8208 - val_loss: 0.6104 - val_acc: 0.7891\n",
      "Epoch 37/80\n",
      "500/500 [==============================] - 154s 308ms/step - loss: 0.5006 - acc: 0.8243 - val_loss: 0.6110 - val_acc: 0.7895\n",
      "Epoch 38/80\n",
      "500/500 [==============================] - 153s 307ms/step - loss: 0.4965 - acc: 0.8257 - val_loss: 0.6143 - val_acc: 0.7896\n",
      "Epoch 39/80\n",
      "500/500 [==============================] - 154s 308ms/step - loss: 0.4806 - acc: 0.8329 - val_loss: 0.6193 - val_acc: 0.7874\n",
      "Epoch 40/80\n",
      "500/500 [==============================] - 154s 307ms/step - loss: 0.4751 - acc: 0.8324 - val_loss: 0.6132 - val_acc: 0.7880\n",
      "Epoch 41/80\n",
      "500/500 [==============================] - 153s 307ms/step - loss: 0.4663 - acc: 0.8364 - val_loss: 0.6094 - val_acc: 0.7896\n",
      "Epoch 42/80\n"
     ]
    },
    {
     "name": "stdout",
     "output_type": "stream",
     "text": [
      "500/500 [==============================] - 153s 305ms/step - loss: 0.4514 - acc: 0.8417 - val_loss: 0.6031 - val_acc: 0.7951\n",
      "Epoch 43/80\n",
      "500/500 [==============================] - 152s 305ms/step - loss: 0.4408 - acc: 0.8448 - val_loss: 0.6001 - val_acc: 0.7949\n",
      "Epoch 44/80\n",
      "500/500 [==============================] - 152s 305ms/step - loss: 0.4292 - acc: 0.8487 - val_loss: 0.6015 - val_acc: 0.7964\n",
      "Epoch 45/80\n",
      "500/500 [==============================] - 153s 305ms/step - loss: 0.4254 - acc: 0.8501 - val_loss: 0.6082 - val_acc: 0.7936\n",
      "Epoch 46/80\n",
      "500/500 [==============================] - 153s 305ms/step - loss: 0.4192 - acc: 0.8513 - val_loss: 0.5997 - val_acc: 0.7972\n",
      "Epoch 47/80\n",
      "500/500 [==============================] - 153s 307ms/step - loss: 0.4131 - acc: 0.8525 - val_loss: 0.6094 - val_acc: 0.7964\n",
      "Epoch 48/80\n",
      "500/500 [==============================] - 153s 305ms/step - loss: 0.4044 - acc: 0.8569 - val_loss: 0.6043 - val_acc: 0.7994\n",
      "Epoch 49/80\n",
      "500/500 [==============================] - 153s 306ms/step - loss: 0.3895 - acc: 0.8620 - val_loss: 0.5988 - val_acc: 0.7993\n",
      "Epoch 50/80\n",
      "500/500 [==============================] - 153s 306ms/step - loss: 0.3901 - acc: 0.8618 - val_loss: 0.5991 - val_acc: 0.7965\n",
      "Epoch 51/80\n",
      "500/500 [==============================] - 151s 303ms/step - loss: 0.3811 - acc: 0.8658 - val_loss: 0.5983 - val_acc: 0.8017\n",
      "Epoch 52/80\n",
      "500/500 [==============================] - 140s 279ms/step - loss: 0.3725 - acc: 0.8667 - val_loss: 0.6028 - val_acc: 0.8045\n",
      "Epoch 53/80\n",
      "500/500 [==============================] - 149s 297ms/step - loss: 0.3706 - acc: 0.8698 - val_loss: 0.6068 - val_acc: 0.8008\n",
      "Epoch 54/80\n",
      "500/500 [==============================] - 151s 302ms/step - loss: 0.3574 - acc: 0.8731 - val_loss: 0.6045 - val_acc: 0.7995\n",
      "Epoch 55/80\n",
      "500/500 [==============================] - 151s 302ms/step - loss: 0.3533 - acc: 0.8747 - val_loss: 0.5975 - val_acc: 0.8044\n",
      "Epoch 56/80\n",
      "500/500 [==============================] - 151s 303ms/step - loss: 0.3464 - acc: 0.8780 - val_loss: 0.5927 - val_acc: 0.8077\n",
      "Epoch 57/80\n",
      "500/500 [==============================] - 143s 285ms/step - loss: 0.3403 - acc: 0.8780 - val_loss: 0.5972 - val_acc: 0.8038\n",
      "Epoch 58/80\n",
      "500/500 [==============================] - 145s 289ms/step - loss: 0.3377 - acc: 0.8799 - val_loss: 0.6068 - val_acc: 0.8021\n",
      "Epoch 59/80\n",
      "500/500 [==============================] - 151s 302ms/step - loss: 0.3277 - acc: 0.8848 - val_loss: 0.6083 - val_acc: 0.8014\n",
      "Epoch 60/80\n",
      "500/500 [==============================] - 149s 299ms/step - loss: 0.3208 - acc: 0.8859 - val_loss: 0.6035 - val_acc: 0.8038\n",
      "Epoch 61/80\n",
      "500/500 [==============================] - 151s 302ms/step - loss: 0.3202 - acc: 0.8860 - val_loss: 0.6258 - val_acc: 0.7989\n",
      "Epoch 62/80\n",
      "500/500 [==============================] - 151s 302ms/step - loss: 0.3125 - acc: 0.8895 - val_loss: 0.6057 - val_acc: 0.8029\n",
      "Epoch 63/80\n",
      "500/500 [==============================] - 151s 302ms/step - loss: 0.3061 - acc: 0.8906 - val_loss: 0.6072 - val_acc: 0.8073\n",
      "Epoch 64/80\n",
      "500/500 [==============================] - 151s 303ms/step - loss: 0.2996 - acc: 0.8926 - val_loss: 0.6048 - val_acc: 0.8045\n",
      "Epoch 65/80\n",
      "500/500 [==============================] - 151s 303ms/step - loss: 0.2968 - acc: 0.8937 - val_loss: 0.6233 - val_acc: 0.8021\n",
      "Epoch 66/80\n",
      "500/500 [==============================] - 152s 303ms/step - loss: 0.2910 - acc: 0.8977 - val_loss: 0.6011 - val_acc: 0.8070\n",
      "Epoch 67/80\n",
      "500/500 [==============================] - 151s 302ms/step - loss: 0.2901 - acc: 0.8980 - val_loss: 0.6086 - val_acc: 0.8066\n",
      "Epoch 68/80\n",
      "500/500 [==============================] - 151s 303ms/step - loss: 0.2860 - acc: 0.8990 - val_loss: 0.6144 - val_acc: 0.8028\n",
      "Epoch 69/80\n",
      "500/500 [==============================] - 152s 303ms/step - loss: 0.2793 - acc: 0.9007 - val_loss: 0.6098 - val_acc: 0.8054\n",
      "Epoch 70/80\n",
      "500/500 [==============================] - 152s 304ms/step - loss: 0.2761 - acc: 0.9012 - val_loss: 0.6127 - val_acc: 0.8063\n",
      "Epoch 71/80\n",
      "500/500 [==============================] - 152s 304ms/step - loss: 0.2704 - acc: 0.9039 - val_loss: 0.6107 - val_acc: 0.8075\n",
      "Epoch 72/80\n",
      "500/500 [==============================] - 152s 303ms/step - loss: 0.2678 - acc: 0.9052 - val_loss: 0.6250 - val_acc: 0.8041\n",
      "Epoch 73/80\n",
      "500/500 [==============================] - 152s 303ms/step - loss: 0.2615 - acc: 0.9074 - val_loss: 0.6229 - val_acc: 0.8060\n",
      "Epoch 74/80\n",
      "500/500 [==============================] - 152s 303ms/step - loss: 0.2566 - acc: 0.9092 - val_loss: 0.6089 - val_acc: 0.8067\n",
      "Epoch 75/80\n",
      "500/500 [==============================] - 151s 303ms/step - loss: 0.2533 - acc: 0.9094 - val_loss: 0.6227 - val_acc: 0.8049\n",
      "Epoch 76/80\n",
      "500/500 [==============================] - 152s 303ms/step - loss: 0.2466 - acc: 0.9119 - val_loss: 0.6216 - val_acc: 0.8077\n",
      "Epoch 77/80\n",
      "500/500 [==============================] - 151s 302ms/step - loss: 0.2488 - acc: 0.9109 - val_loss: 0.6218 - val_acc: 0.8068\n",
      "Epoch 78/80\n",
      "500/500 [==============================] - 151s 303ms/step - loss: 0.2420 - acc: 0.9138 - val_loss: 0.6189 - val_acc: 0.8093\n",
      "Epoch 79/80\n",
      "500/500 [==============================] - 151s 303ms/step - loss: 0.2399 - acc: 0.9141 - val_loss: 0.6251 - val_acc: 0.8083\n",
      "Epoch 80/80\n",
      "500/500 [==============================] - 152s 304ms/step - loss: 0.2344 - acc: 0.9155 - val_loss: 0.6202 - val_acc: 0.8113\n",
      "Model success\n",
      "Epoch 1/80\n",
      "500/500 [==============================] - 3188s 6s/step - loss: 1.7184 - acc: 0.3508 - val_loss: 2.9431 - val_acc: 0.1424\n",
      "Epoch 2/80\n",
      "500/500 [==============================] - 3236s 6s/step - loss: 1.2753 - acc: 0.5351 - val_loss: 1.8750 - val_acc: 0.3849\n",
      "Epoch 3/80\n",
      "500/500 [==============================] - 3343s 7s/step - loss: 1.0314 - acc: 0.6290 - val_loss: 1.4806 - val_acc: 0.4890\n",
      "Epoch 4/80\n",
      "500/500 [==============================] - 3148s 6s/step - loss: 0.8602 - acc: 0.6926 - val_loss: 1.1742 - val_acc: 0.5934\n",
      "Epoch 5/80\n",
      "500/500 [==============================] - 3131s 6s/step - loss: 0.7424 - acc: 0.7379 - val_loss: 1.1810 - val_acc: 0.5975\n",
      "Epoch 6/80\n",
      "500/500 [==============================] - 3143s 6s/step - loss: 0.6544 - acc: 0.7680 - val_loss: 0.8560 - val_acc: 0.7031\n",
      "Epoch 7/80\n",
      "500/500 [==============================] - 3140s 6s/step - loss: 0.5908 - acc: 0.7921 - val_loss: 0.7702 - val_acc: 0.7365\n",
      "Epoch 8/80\n",
      "500/500 [==============================] - 3139s 6s/step - loss: 0.5431 - acc: 0.8109 - val_loss: 0.6785 - val_acc: 0.7664\n",
      "Epoch 9/80\n",
      "500/500 [==============================] - 3146s 6s/step - loss: 0.4958 - acc: 0.8265 - val_loss: 0.5201 - val_acc: 0.8213\n",
      "Epoch 10/80\n",
      "500/500 [==============================] - 3145s 6s/step - loss: 0.4550 - acc: 0.8416 - val_loss: 0.5917 - val_acc: 0.8010\n",
      "Epoch 11/80\n",
      "500/500 [==============================] - 3148s 6s/step - loss: 0.4254 - acc: 0.8521 - val_loss: 0.5358 - val_acc: 0.8130\n",
      "Epoch 12/80\n",
      "500/500 [==============================] - 3139s 6s/step - loss: 0.3924 - acc: 0.8631 - val_loss: 0.5489 - val_acc: 0.8122\n",
      "Epoch 13/80\n",
      "500/500 [==============================] - 3146s 6s/step - loss: 0.3681 - acc: 0.8725 - val_loss: 0.6085 - val_acc: 0.7904\n",
      "Epoch 14/80\n",
      "500/500 [==============================] - 3143s 6s/step - loss: 0.3448 - acc: 0.8784 - val_loss: 0.6468 - val_acc: 0.7882\n",
      "Epoch 15/80\n",
      "500/500 [==============================] - 3372s 7s/step - loss: 0.3263 - acc: 0.8861 - val_loss: 0.4492 - val_acc: 0.8493\n",
      "Epoch 16/80\n",
      "500/500 [==============================] - 3289s 7s/step - loss: 0.3011 - acc: 0.8936 - val_loss: 0.4545 - val_acc: 0.8451\n",
      "Epoch 17/80\n",
      "500/500 [==============================] - 3384s 7s/step - loss: 0.2849 - acc: 0.8996 - val_loss: 0.4684 - val_acc: 0.8419\n",
      "Epoch 18/80\n",
      "500/500 [==============================] - 3197s 6s/step - loss: 0.2658 - acc: 0.9058 - val_loss: 0.5444 - val_acc: 0.8140\n",
      "Epoch 19/80\n",
      "500/500 [==============================] - 3130s 6s/step - loss: 0.2518 - acc: 0.9112 - val_loss: 0.3935 - val_acc: 0.8696\n",
      "Epoch 20/80\n",
      "500/500 [==============================] - 3117s 6s/step - loss: 0.2397 - acc: 0.9142 - val_loss: 0.4774 - val_acc: 0.8408\n",
      "Epoch 21/80\n",
      "500/500 [==============================] - 3135s 6s/step - loss: 0.2231 - acc: 0.9210 - val_loss: 0.4748 - val_acc: 0.8449\n",
      "Epoch 22/80\n",
      "500/500 [==============================] - 3138s 6s/step - loss: 0.2090 - acc: 0.9266 - val_loss: 0.4357 - val_acc: 0.8591\n",
      "Epoch 23/80\n",
      "500/500 [==============================] - 3128s 6s/step - loss: 0.1940 - acc: 0.9298 - val_loss: 0.3950 - val_acc: 0.8701\n",
      "Epoch 24/80\n",
      "500/500 [==============================] - 3125s 6s/step - loss: 0.1883 - acc: 0.9335 - val_loss: 0.4593 - val_acc: 0.8485\n",
      "Epoch 25/80\n",
      "500/500 [==============================] - 3127s 6s/step - loss: 0.1766 - acc: 0.9378 - val_loss: 0.4792 - val_acc: 0.8515\n",
      "Epoch 26/80\n",
      "500/500 [==============================] - 3135s 6s/step - loss: 0.1673 - acc: 0.9399 - val_loss: 0.4208 - val_acc: 0.8655\n",
      "Epoch 27/80\n",
      "500/500 [==============================] - 3134s 6s/step - loss: 0.1565 - acc: 0.9437 - val_loss: 0.4082 - val_acc: 0.8698\n",
      "Epoch 28/80\n",
      "500/500 [==============================] - 3129s 6s/step - loss: 0.1513 - acc: 0.9452 - val_loss: 0.4119 - val_acc: 0.8728\n",
      "Epoch 29/80\n",
      "500/500 [==============================] - 3145s 6s/step - loss: 0.1469 - acc: 0.9468 - val_loss: 0.4019 - val_acc: 0.8736\n",
      "Epoch 30/80\n",
      "500/500 [==============================] - 3134s 6s/step - loss: 0.1332 - acc: 0.9515 - val_loss: 0.3998 - val_acc: 0.8784\n",
      "Epoch 31/80\n",
      "500/500 [==============================] - 3141s 6s/step - loss: 0.1319 - acc: 0.9525 - val_loss: 0.3932 - val_acc: 0.8780\n",
      "Epoch 32/80\n",
      "500/500 [==============================] - 3139s 6s/step - loss: 0.1248 - acc: 0.9557 - val_loss: 0.4141 - val_acc: 0.8713\n",
      "Epoch 33/80\n",
      "500/500 [==============================] - 3140s 6s/step - loss: 0.1151 - acc: 0.9589 - val_loss: 0.4689 - val_acc: 0.8641\n",
      "Epoch 34/80\n",
      "500/500 [==============================] - 3144s 6s/step - loss: 0.1144 - acc: 0.9595 - val_loss: 0.4545 - val_acc: 0.8667\n",
      "Epoch 35/80\n",
      "500/500 [==============================] - 3145s 6s/step - loss: 0.1077 - acc: 0.9617 - val_loss: 0.3960 - val_acc: 0.8776\n",
      "Epoch 36/80\n",
      "500/500 [==============================] - 3146s 6s/step - loss: 0.1049 - acc: 0.9630 - val_loss: 0.4464 - val_acc: 0.8770\n",
      "Epoch 37/80\n",
      "500/500 [==============================] - 3144s 6s/step - loss: 0.1011 - acc: 0.9643 - val_loss: 0.4200 - val_acc: 0.8802\n",
      "Epoch 38/80\n",
      "500/500 [==============================] - 3150s 6s/step - loss: 0.0941 - acc: 0.9664 - val_loss: 0.4303 - val_acc: 0.8824\n",
      "Epoch 39/80\n",
      "500/500 [==============================] - 3147s 6s/step - loss: 0.0969 - acc: 0.9659 - val_loss: 0.3973 - val_acc: 0.8857\n",
      "Epoch 40/80\n",
      "500/500 [==============================] - 3159s 6s/step - loss: 0.0859 - acc: 0.9696 - val_loss: 0.4032 - val_acc: 0.8832\n",
      "Epoch 41/80\n",
      "500/500 [==============================] - 3427s 7s/step - loss: 0.0865 - acc: 0.9688 - val_loss: 0.4192 - val_acc: 0.8792\n",
      "Epoch 42/80\n",
      "500/500 [==============================] - 3164s 6s/step - loss: 0.0843 - acc: 0.9701 - val_loss: 0.4583 - val_acc: 0.8740\n",
      "Epoch 43/80\n",
      "500/500 [==============================] - 3310s 7s/step - loss: 0.0784 - acc: 0.9717 - val_loss: 0.4378 - val_acc: 0.8855\n",
      "Epoch 44/80\n",
      "500/500 [==============================] - 3314s 7s/step - loss: 0.0764 - acc: 0.9734 - val_loss: 0.4286 - val_acc: 0.8836\n",
      "Epoch 45/80\n",
      "500/500 [==============================] - 3220s 6s/step - loss: 0.0747 - acc: 0.9727 - val_loss: 0.4484 - val_acc: 0.8842\n",
      "Epoch 46/80\n",
      "500/500 [==============================] - 3107s 6s/step - loss: 0.0731 - acc: 0.9741 - val_loss: 0.4329 - val_acc: 0.8858\n",
      "Epoch 47/80\n",
      "500/500 [==============================] - 3115s 6s/step - loss: 0.0706 - acc: 0.9751 - val_loss: 0.4375 - val_acc: 0.8861\n",
      "Epoch 48/80\n",
      "500/500 [==============================] - 3112s 6s/step - loss: 0.0674 - acc: 0.9764 - val_loss: 0.4747 - val_acc: 0.8758\n",
      "Epoch 49/80\n",
      "500/500 [==============================] - 3109s 6s/step - loss: 0.0689 - acc: 0.9755 - val_loss: 0.4451 - val_acc: 0.8809\n",
      "Epoch 50/80\n",
      "500/500 [==============================] - 3089s 6s/step - loss: 0.0624 - acc: 0.9783 - val_loss: 0.4515 - val_acc: 0.8847\n",
      "Epoch 51/80\n",
      "500/500 [==============================] - 3119s 6s/step - loss: 0.0658 - acc: 0.9770 - val_loss: 0.4622 - val_acc: 0.8790\n",
      "Epoch 52/80\n",
      "500/500 [==============================] - 3122s 6s/step - loss: 0.0612 - acc: 0.9778 - val_loss: 0.4293 - val_acc: 0.8876\n",
      "Epoch 53/80\n",
      "500/500 [==============================] - 3125s 6s/step - loss: 0.0614 - acc: 0.9787 - val_loss: 0.4860 - val_acc: 0.8728\n",
      "Epoch 54/80\n",
      "500/500 [==============================] - 3129s 6s/step - loss: 0.0606 - acc: 0.9790 - val_loss: 0.4741 - val_acc: 0.8808\n",
      "Epoch 55/80\n",
      "500/500 [==============================] - 3128s 6s/step - loss: 0.0559 - acc: 0.9802 - val_loss: 0.4310 - val_acc: 0.8905\n",
      "Epoch 56/80\n",
      "500/500 [==============================] - 3244s 6s/step - loss: 0.0556 - acc: 0.9796 - val_loss: 0.4405 - val_acc: 0.8855\n",
      "Epoch 57/80\n",
      "500/500 [==============================] - 3130s 6s/step - loss: 0.0547 - acc: 0.9812 - val_loss: 0.4716 - val_acc: 0.8771\n",
      "Epoch 58/80\n",
      "500/500 [==============================] - 3097s 6s/step - loss: 0.0563 - acc: 0.9802 - val_loss: 0.5244 - val_acc: 0.8715\n",
      "Epoch 59/80\n",
      "500/500 [==============================] - 3138s 6s/step - loss: 0.0529 - acc: 0.9814 - val_loss: 0.4362 - val_acc: 0.8879\n",
      "Epoch 60/80\n",
      "500/500 [==============================] - 3141s 6s/step - loss: 0.0490 - acc: 0.9829 - val_loss: 0.4674 - val_acc: 0.8879\n",
      "Epoch 61/80\n",
      "500/500 [==============================] - 3146s 6s/step - loss: 0.0521 - acc: 0.9818 - val_loss: 0.4187 - val_acc: 0.8882\n",
      "Epoch 62/80\n",
      "500/500 [==============================] - 3174s 6s/step - loss: 0.0488 - acc: 0.9825 - val_loss: 0.4717 - val_acc: 0.8861\n",
      "Epoch 63/80\n",
      "500/500 [==============================] - 3183s 6s/step - loss: 0.0470 - acc: 0.9837 - val_loss: 0.4983 - val_acc: 0.8813\n",
      "Epoch 64/80\n",
      "500/500 [==============================] - 3182s 6s/step - loss: 0.0480 - acc: 0.9831 - val_loss: 0.4198 - val_acc: 0.8853\n",
      "Epoch 65/80\n",
      "500/500 [==============================] - 3184s 6s/step - loss: 0.0492 - acc: 0.9827 - val_loss: 0.4252 - val_acc: 0.8825\n",
      "Epoch 66/80\n",
      "500/500 [==============================] - 3184s 6s/step - loss: 0.0455 - acc: 0.9846 - val_loss: 0.4406 - val_acc: 0.8878\n",
      "Epoch 67/80\n",
      "500/500 [==============================] - 3183s 6s/step - loss: 0.0441 - acc: 0.9838 - val_loss: 0.5040 - val_acc: 0.8857\n",
      "Epoch 68/80\n",
      "500/500 [==============================] - 3189s 6s/step - loss: 0.0444 - acc: 0.9847 - val_loss: 0.4730 - val_acc: 0.8867\n",
      "Epoch 69/80\n",
      "500/500 [==============================] - 3134s 6s/step - loss: 0.0432 - acc: 0.9846 - val_loss: 0.4684 - val_acc: 0.8887\n",
      "Epoch 70/80\n",
      "500/500 [==============================] - 3146s 6s/step - loss: 0.0434 - acc: 0.9849 - val_loss: 0.4730 - val_acc: 0.8891\n",
      "Epoch 71/80\n",
      "500/500 [==============================] - 3182s 6s/step - loss: 0.0455 - acc: 0.9848 - val_loss: 0.4736 - val_acc: 0.8910\n",
      "Epoch 72/80\n",
      "500/500 [==============================] - 3383s 7s/step - loss: 0.0401 - acc: 0.9860 - val_loss: 0.4549 - val_acc: 0.8900\n",
      "Epoch 73/80\n",
      "500/500 [==============================] - 3242s 6s/step - loss: 0.0413 - acc: 0.9857 - val_loss: 0.4633 - val_acc: 0.8915\n",
      "Epoch 74/80\n",
      "500/500 [==============================] - 3143s 6s/step - loss: 0.0362 - acc: 0.9880 - val_loss: 0.4713 - val_acc: 0.8911\n",
      "Epoch 75/80\n",
      "500/500 [==============================] - 3153s 6s/step - loss: 0.0422 - acc: 0.9856 - val_loss: 0.4644 - val_acc: 0.8923\n",
      "Epoch 76/80\n",
      "500/500 [==============================] - 3155s 6s/step - loss: 0.0392 - acc: 0.9862 - val_loss: 0.5372 - val_acc: 0.8778\n",
      "Epoch 77/80\n",
      "500/500 [==============================] - 3164s 6s/step - loss: 0.0407 - acc: 0.9859 - val_loss: 0.4429 - val_acc: 0.8977\n",
      "Epoch 78/80\n",
      "500/500 [==============================] - 3161s 6s/step - loss: 0.0346 - acc: 0.9883 - val_loss: 0.5158 - val_acc: 0.8853\n",
      "Epoch 79/80\n",
      "500/500 [==============================] - 3167s 6s/step - loss: 0.0379 - acc: 0.9867 - val_loss: 0.4611 - val_acc: 0.8933\n",
      "Epoch 80/80\n",
      "500/500 [==============================] - 3169s 6s/step - loss: 0.0385 - acc: 0.9869 - val_loss: 0.4729 - val_acc: 0.8852\n",
      "Model success\n"
     ]
    }
   ],
   "source": [
    "for model_ind, model in enumerate(models):  \n",
    "  history.append(\n",
    "      model.fit_generator(\n",
    "          datagen.flow(x_train, y_train_categorical, batch_size=batch_size),\n",
    "          steps_per_epoch = len(x_train)/batch_size,\n",
    "          epochs=epochs,\n",
    "          verbose=1,\n",
    "          validation_data = (x_test, y_test_categorical)))\n",
    "  model.save_weights(input_path + \"Benchmark_Models/Data/\" + prefix + \"_\" + model_names[model_ind] + \".h5\")\n",
    "  print (\"Model success\")"
   ]
  },
  {
   "cell_type": "code",
   "execution_count": 158,
   "metadata": {},
   "outputs": [
    {
     "name": "stdout",
     "output_type": "stream",
     "text": [
      "Test loss: 0.847570672172308\n",
      "Test accuracy: 0.8504\n",
      "Test loss: 0.6201977861404419\n",
      "Test accuracy: 0.8113\n",
      "Test loss: 0.4729407775402069\n",
      "Test accuracy: 0.8852\n"
     ]
    }
   ],
   "source": [
    "for model in models:\n",
    "  score = model.evaluate(x_test, y_test_categorical, verbose=0)\n",
    "  print('Test loss:', score[0])\n",
    "  print('Test accuracy:', score[1])"
   ]
  },
  {
   "cell_type": "code",
   "execution_count": 64,
   "metadata": {},
   "outputs": [
    {
     "ename": "NameError",
     "evalue": "name 'cifar100vgg' is not defined",
     "output_type": "error",
     "traceback": [
      "\u001b[0;31m---------------------------------------------------------------------------\u001b[0m",
      "\u001b[0;31mNameError\u001b[0m                                 Traceback (most recent call last)",
      "\u001b[0;32m<ipython-input-64-6644e3979dd5>\u001b[0m in \u001b[0;36m<module>\u001b[0;34m()\u001b[0m\n\u001b[0;32m----> 1\u001b[0;31m \u001b[0mmodel\u001b[0m \u001b[0;34m=\u001b[0m \u001b[0mcifar100vgg\u001b[0m\u001b[0;34m(\u001b[0m\u001b[0mtrain\u001b[0m\u001b[0;34m=\u001b[0m\u001b[0;32mFalse\u001b[0m\u001b[0;34m)\u001b[0m\u001b[0;34m\u001b[0m\u001b[0m\n\u001b[0m",
      "\u001b[0;31mNameError\u001b[0m: name 'cifar100vgg' is not defined"
     ]
    }
   ],
   "source": [
    "model = cifar100vgg(train=False)"
   ]
  },
  {
   "cell_type": "code",
   "execution_count": 62,
   "metadata": {},
   "outputs": [
    {
     "name": "stderr",
     "output_type": "stream",
     "text": [
      "/Users/jonathanjanke/anaconda3/envs/py36/lib/python3.6/site-packages/keras/engine/sequential.py:109: UserWarning: `Sequential.model` is deprecated. `Sequential` is a subclass of `Model`, you can just use your `Sequential` instance directly.\n",
      "  warnings.warn('`Sequential.model` is deprecated. '\n"
     ]
    },
    {
     "data": {
      "text/plain": [
       "5497226"
      ]
     },
     "execution_count": 62,
     "metadata": {},
     "output_type": "execute_result"
    }
   ],
   "source": [
    "model.model.count_params()"
   ]
  },
  {
   "cell_type": "code",
   "execution_count": 63,
   "metadata": {},
   "outputs": [
    {
     "name": "stdout",
     "output_type": "stream",
     "text": [
      "6684810\n",
      "1250858\n",
      "5497226\n"
     ]
    }
   ],
   "source": [
    "for model in models:\n",
    "    print(model.count_params())"
   ]
  },
  {
   "cell_type": "code",
   "execution_count": 93,
   "metadata": {},
   "outputs": [
    {
     "name": "stdout",
     "output_type": "stream",
     "text": [
      "the validation 0/1 loss is:  0.0641\n"
     ]
    }
   ],
   "source": [
    "predicted_x = model.predict(x_test, normalize=False)\n",
    "residuals = np.argmax(predicted_x,1)!=np.argmax(y_test_categorical,1)\n",
    "\n",
    "loss = sum(residuals)/len(residuals)\n",
    "print(\"the validation 0/1 loss is: \",loss)"
   ]
  },
  {
   "cell_type": "code",
   "execution_count": 38,
   "metadata": {},
   "outputs": [],
   "source": [
    "models.append(keras.models.clone_model(model.model))\n",
    "model_names.append(\"VGG_16\")\n",
    "models[0].set_weights(model.model.get_weights())"
   ]
  },
  {
   "cell_type": "code",
   "execution_count": 33,
   "metadata": {
    "scrolled": true
   },
   "outputs": [
    {
     "name": "stderr",
     "output_type": "stream",
     "text": [
      "Warning: gvrender_set_style: unsupported style striped - ignoring\n",
      "Warning: gvrender_set_style: unsupported style striped - ignoring\n",
      "Warning: gvrender_set_style: unsupported style striped - ignoring\n",
      "Warning: gvrender_set_style: unsupported style striped - ignoring\n",
      "Warning: gvrender_set_style: unsupported style striped - ignoring\n",
      "Warning: gvrender_set_style: unsupported style striped - ignoring\n",
      "Warning: gvrender_set_style: unsupported style striped - ignoring\n",
      "Warning: gvrender_set_style: unsupported style striped - ignoring\n",
      "Warning: gvrender_set_style: unsupported style striped - ignoring\n",
      "Warning: gvrender_set_style: unsupported style striped - ignoring\n",
      "Warning: gvrender_set_style: unsupported style striped - ignoring\n",
      "Warning: gvrender_set_style: unsupported style striped - ignoring\n",
      "Warning: gvrender_set_style: unsupported style striped - ignoring\n",
      "Warning: gvrender_set_style: unsupported style striped - ignoring\n",
      "Warning: gvrender_set_style: unsupported style striped - ignoring\n",
      "Warning: gvrender_set_style: unsupported style striped - ignoring\n",
      "Warning: gvrender_set_style: unsupported style striped - ignoring\n",
      "Warning: gvrender_set_style: unsupported style striped - ignoring\n",
      "Warning: gvrender_set_style: unsupported style striped - ignoring\n",
      "Warning: gvrender_set_style: unsupported style striped - ignoring\n",
      "Warning: gvrender_set_style: unsupported style striped - ignoring\n",
      "Warning: gvrender_set_style: unsupported style striped - ignoring\n",
      "Warning: gvrender_set_style: unsupported style striped - ignoring\n",
      "Warning: gvrender_set_style: unsupported style striped - ignoring\n",
      "Warning: gvrender_set_style: unsupported style striped - ignoring\n",
      "Warning: gvrender_set_style: unsupported style striped - ignoring\n",
      "Warning: gvrender_set_style: unsupported style striped - ignoring\n",
      "Warning: gvrender_set_style: unsupported style striped - ignoring\n",
      "Warning: gvrender_set_style: unsupported style striped - ignoring\n",
      "Warning: gvrender_set_style: unsupported style striped - ignoring\n",
      "Warning: gvrender_set_style: unsupported style striped - ignoring\n",
      "Warning: gvrender_set_style: unsupported style striped - ignoring\n",
      "Warning: gvrender_set_style: unsupported style striped - ignoring\n",
      "Warning: gvrender_set_style: unsupported style striped - ignoring\n",
      "Warning: gvrender_set_style: unsupported style striped - ignoring\n",
      "Warning: gvrender_set_style: unsupported style striped - ignoring\n",
      "Warning: gvrender_set_style: unsupported style striped - ignoring\n",
      "Warning: gvrender_set_style: unsupported style striped - ignoring\n",
      "Warning: gvrender_set_style: unsupported style striped - ignoring\n",
      "Warning: gvrender_set_style: unsupported style striped - ignoring\n",
      "Warning: gvrender_set_style: unsupported style striped - ignoring\n",
      "Warning: gvrender_set_style: unsupported style striped - ignoring\n",
      "Warning: gvrender_set_style: unsupported style striped - ignoring\n",
      "Warning: gvrender_set_style: unsupported style striped - ignoring\n",
      "Warning: gvrender_set_style: unsupported style striped - ignoring\n",
      "Warning: gvrender_set_style: unsupported style striped - ignoring\n",
      "Warning: gvrender_set_style: unsupported style striped - ignoring\n",
      "Warning: gvrender_set_style: unsupported style striped - ignoring\n",
      "Warning: gvrender_set_style: unsupported style striped - ignoring\n",
      "Warning: gvrender_set_style: unsupported style striped - ignoring\n",
      "Warning: gvrender_set_style: unsupported style striped - ignoring\n",
      "Warning: gvrender_set_style: unsupported style striped - ignoring\n",
      "Warning: gvrender_set_style: unsupported style striped - ignoring\n",
      "Warning: gvrender_set_style: unsupported style striped - ignoring\n",
      "Warning: gvrender_set_style: unsupported style striped - ignoring\n",
      "Warning: gvrender_set_style: unsupported style striped - ignoring\n",
      "Warning: gvrender_set_style: unsupported style striped - ignoring\n",
      "Warning: gvrender_set_style: unsupported style striped - ignoring\n",
      "Warning: gvrender_set_style: unsupported style striped - ignoring\n",
      "Warning: gvrender_set_style: unsupported style striped - ignoring\n",
      "Warning: gvrender_set_style: unsupported style striped - ignoring\n",
      "Warning: gvrender_set_style: unsupported style striped - ignoring\n",
      "Warning: gvrender_set_style: unsupported style striped - ignoring\n",
      "Warning: gvrender_set_style: unsupported style striped - ignoring\n",
      "Warning: gvrender_set_style: unsupported style striped - ignoring\n",
      "Warning: gvrender_set_style: unsupported style striped - ignoring\n",
      "Warning: gvrender_set_style: unsupported style striped - ignoring\n",
      "Warning: gvrender_set_style: unsupported style striped - ignoring\n",
      "Warning: gvrender_set_style: unsupported style striped - ignoring\n",
      "Warning: gvrender_set_style: unsupported style striped - ignoring\n",
      "Warning: gvrender_set_style: unsupported style striped - ignoring\n",
      "Warning: gvrender_set_style: unsupported style striped - ignoring\n",
      "Warning: gvrender_set_style: unsupported style striped - ignoring\n",
      "Warning: gvrender_set_style: unsupported style striped - ignoring\n",
      "Warning: gvrender_set_style: unsupported style striped - ignoring\n",
      "Warning: gvrender_set_style: unsupported style striped - ignoring\n",
      "Warning: gvrender_set_style: unsupported style striped - ignoring\n",
      "Warning: gvrender_set_style: unsupported style striped - ignoring\n",
      "Warning: gvrender_set_style: unsupported style striped - ignoring\n",
      "Warning: gvrender_set_style: unsupported style striped - ignoring\n",
      "Warning: gvrender_set_style: unsupported style striped - ignoring\n",
      "Warning: gvrender_set_style: unsupported style striped - ignoring\n",
      "Warning: gvrender_set_style: unsupported style striped - ignoring\n",
      "Warning: gvrender_set_style: unsupported style striped - ignoring\n",
      "Warning: gvrender_set_style: unsupported style striped - ignoring\n",
      "Warning: gvrender_set_style: unsupported style striped - ignoring\n",
      "Warning: gvrender_set_style: unsupported style striped - ignoring\n",
      "Warning: gvrender_set_style: unsupported style striped - ignoring\n",
      "Warning: gvrender_set_style: unsupported style striped - ignoring\n",
      "Warning: gvrender_set_style: unsupported style striped - ignoring\n",
      "Warning: gvrender_set_style: unsupported style striped - ignoring\n",
      "Warning: gvrender_set_style: unsupported style striped - ignoring\n",
      "Warning: gvrender_set_style: unsupported style striped - ignoring\n",
      "Warning: gvrender_set_style: unsupported style striped - ignoring\n",
      "Warning: gvrender_set_style: unsupported style striped - ignoring\n",
      "Warning: gvrender_set_style: unsupported style striped - ignoring\n",
      "Warning: gvrender_set_style: unsupported style striped - ignoring\n",
      "Warning: gvrender_set_style: unsupported style striped - ignoring\n",
      "Warning: gvrender_set_style: unsupported style striped - ignoring\n",
      "Warning: gvrender_set_style: unsupported style striped - ignoring\n",
      "Warning: gvrender_set_style: unsupported style striped - ignoring\n",
      "Warning: gvrender_set_style: unsupported style striped - ignoring\n",
      "Warning: gvrender_set_style: unsupported style striped - ignoring\n",
      "Warning: gvrender_set_style: unsupported style striped - ignoring\n",
      "Warning: gvrender_set_style: unsupported style striped - ignoring\n",
      "Warning: gvrender_set_style: unsupported style striped - ignoring\n",
      "Warning: gvrender_set_style: unsupported style striped - ignoring\n",
      "Warning: gvrender_set_style: unsupported style striped - ignoring\n",
      "Warning: gvrender_set_style: unsupported style striped - ignoring\n",
      "Warning: gvrender_set_style: unsupported style striped - ignoring\n",
      "Warning: gvrender_set_style: unsupported style striped - ignoring\n",
      "Warning: gvrender_set_style: unsupported style striped - ignoring\n",
      "Warning: gvrender_set_style: unsupported style striped - ignoring\n",
      "Warning: gvrender_set_style: unsupported style striped - ignoring\n",
      "Warning: gvrender_set_style: unsupported style striped - ignoring\n",
      "Warning: gvrender_set_style: unsupported style striped - ignoring\n",
      "Warning: gvrender_set_style: unsupported style striped - ignoring\n",
      "Warning: gvrender_set_style: unsupported style striped - ignoring\n",
      "Warning: gvrender_set_style: unsupported style striped - ignoring\n",
      "Warning: gvrender_set_style: unsupported style striped - ignoring\n",
      "Warning: gvrender_set_style: unsupported style striped - ignoring\n",
      "Warning: gvrender_set_style: unsupported style striped - ignoring\n",
      "Warning: gvrender_set_style: unsupported style striped - ignoring\n",
      "Warning: gvrender_set_style: unsupported style striped - ignoring\n",
      "Warning: gvrender_set_style: unsupported style striped - ignoring\n",
      "Warning: gvrender_set_style: unsupported style striped - ignoring\n",
      "Warning: gvrender_set_style: unsupported style striped - ignoring\n",
      "Warning: gvrender_set_style: unsupported style striped - ignoring\n"
     ]
    },
    {
     "name": "stderr",
     "output_type": "stream",
     "text": [
      "Warning: gvrender_set_style: unsupported style striped - ignoring\n",
      "Warning: gvrender_set_style: unsupported style striped - ignoring\n",
      "Warning: gvrender_set_style: unsupported style striped - ignoring\n",
      "Warning: gvrender_set_style: unsupported style striped - ignoring\n",
      "Warning: gvrender_set_style: unsupported style striped - ignoring\n",
      "Warning: gvrender_set_style: unsupported style striped - ignoring\n",
      "Warning: gvrender_set_style: unsupported style striped - ignoring\n",
      "Warning: gvrender_set_style: unsupported style striped - ignoring\n",
      "Warning: gvrender_set_style: unsupported style striped - ignoring\n",
      "Warning: gvrender_set_style: unsupported style striped - ignoring\n",
      "Warning: gvrender_set_style: unsupported style striped - ignoring\n",
      "Warning: gvrender_set_style: unsupported style striped - ignoring\n",
      "Warning: gvrender_set_style: unsupported style striped - ignoring\n",
      "Warning: gvrender_set_style: unsupported style striped - ignoring\n",
      "Warning: gvrender_set_style: unsupported style striped - ignoring\n",
      "Warning: gvrender_set_style: unsupported style striped - ignoring\n",
      "Warning: gvrender_set_style: unsupported style striped - ignoring\n",
      "Warning: gvrender_set_style: unsupported style striped - ignoring\n",
      "Warning: gvrender_set_style: unsupported style striped - ignoring\n",
      "Warning: gvrender_set_style: unsupported style striped - ignoring\n",
      "Warning: gvrender_set_style: unsupported style striped - ignoring\n",
      "Warning: gvrender_set_style: unsupported style striped - ignoring\n",
      "Warning: gvrender_set_style: unsupported style striped - ignoring\n",
      "Warning: gvrender_set_style: unsupported style striped - ignoring\n",
      "Warning: gvrender_set_style: unsupported style striped - ignoring\n",
      "Warning: gvrender_set_style: unsupported style striped - ignoring\n",
      "Warning: gvrender_set_style: unsupported style striped - ignoring\n",
      "Warning: gvrender_set_style: unsupported style striped - ignoring\n",
      "Warning: gvrender_set_style: unsupported style striped - ignoring\n",
      "Warning: gvrender_set_style: unsupported style striped - ignoring\n",
      "Warning: gvrender_set_style: unsupported style striped - ignoring\n",
      "Warning: gvrender_set_style: unsupported style striped - ignoring\n",
      "Warning: gvrender_set_style: unsupported style striped - ignoring\n",
      "Warning: gvrender_set_style: unsupported style striped - ignoring\n",
      "Warning: gvrender_set_style: unsupported style striped - ignoring\n",
      "Warning: gvrender_set_style: unsupported style striped - ignoring\n",
      "Warning: gvrender_set_style: unsupported style striped - ignoring\n",
      "Warning: gvrender_set_style: unsupported style striped - ignoring\n",
      "Warning: gvrender_set_style: unsupported style striped - ignoring\n",
      "Warning: gvrender_set_style: unsupported style striped - ignoring\n",
      "Warning: gvrender_set_style: unsupported style striped - ignoring\n",
      "Warning: gvrender_set_style: unsupported style striped - ignoring\n",
      "Warning: gvrender_set_style: unsupported style striped - ignoring\n",
      "Warning: gvrender_set_style: unsupported style striped - ignoring\n",
      "Warning: gvrender_set_style: unsupported style striped - ignoring\n",
      "Warning: gvrender_set_style: unsupported style striped - ignoring\n",
      "Warning: gvrender_set_style: unsupported style striped - ignoring\n",
      "Warning: gvrender_set_style: unsupported style striped - ignoring\n",
      "Warning: gvrender_set_style: unsupported style striped - ignoring\n",
      "Warning: gvrender_set_style: unsupported style striped - ignoring\n",
      "Warning: gvrender_set_style: unsupported style striped - ignoring\n",
      "Warning: gvrender_set_style: unsupported style striped - ignoring\n",
      "Warning: gvrender_set_style: unsupported style striped - ignoring\n",
      "Warning: gvrender_set_style: unsupported style striped - ignoring\n",
      "Warning: gvrender_set_style: unsupported style striped - ignoring\n",
      "Warning: gvrender_set_style: unsupported style striped - ignoring\n",
      "Warning: gvrender_set_style: unsupported style striped - ignoring\n",
      "Warning: gvrender_set_style: unsupported style striped - ignoring\n",
      "Warning: gvrender_set_style: unsupported style striped - ignoring\n",
      "Warning: gvrender_set_style: unsupported style striped - ignoring\n",
      "Warning: gvrender_set_style: unsupported style striped - ignoring\n",
      "Warning: gvrender_set_style: unsupported style striped - ignoring\n",
      "Warning: gvrender_set_style: unsupported style striped - ignoring\n",
      "Warning: gvrender_set_style: unsupported style striped - ignoring\n",
      "Warning: gvrender_set_style: unsupported style striped - ignoring\n",
      "Warning: gvrender_set_style: unsupported style striped - ignoring\n",
      "Warning: gvrender_set_style: unsupported style striped - ignoring\n",
      "Warning: gvrender_set_style: unsupported style striped - ignoring\n",
      "Warning: gvrender_set_style: unsupported style striped - ignoring\n",
      "Warning: gvrender_set_style: unsupported style striped - ignoring\n",
      "Warning: gvrender_set_style: unsupported style striped - ignoring\n",
      "Warning: gvrender_set_style: unsupported style striped - ignoring\n",
      "Warning: gvrender_set_style: unsupported style striped - ignoring\n",
      "Warning: gvrender_set_style: unsupported style striped - ignoring\n",
      "Warning: gvrender_set_style: unsupported style striped - ignoring\n",
      "Warning: gvrender_set_style: unsupported style striped - ignoring\n",
      "Warning: gvrender_set_style: unsupported style striped - ignoring\n",
      "Warning: gvrender_set_style: unsupported style striped - ignoring\n",
      "Warning: gvrender_set_style: unsupported style striped - ignoring\n",
      "Warning: gvrender_set_style: unsupported style striped - ignoring\n",
      "Warning: gvrender_set_style: unsupported style striped - ignoring\n",
      "Warning: gvrender_set_style: unsupported style striped - ignoring\n",
      "Warning: gvrender_set_style: unsupported style striped - ignoring\n",
      "Warning: gvrender_set_style: unsupported style striped - ignoring\n",
      "Warning: gvrender_set_style: unsupported style striped - ignoring\n",
      "Warning: gvrender_set_style: unsupported style striped - ignoring\n",
      "Warning: gvrender_set_style: unsupported style striped - ignoring\n",
      "Warning: gvrender_set_style: unsupported style striped - ignoring\n",
      "Warning: gvrender_set_style: unsupported style striped - ignoring\n",
      "Warning: gvrender_set_style: unsupported style striped - ignoring\n",
      "Warning: gvrender_set_style: unsupported style striped - ignoring\n",
      "Warning: gvrender_set_style: unsupported style striped - ignoring\n",
      "Warning: gvrender_set_style: unsupported style striped - ignoring\n",
      "Warning: gvrender_set_style: unsupported style striped - ignoring\n",
      "Warning: gvrender_set_style: unsupported style striped - ignoring\n",
      "Warning: gvrender_set_style: unsupported style striped - ignoring\n",
      "Warning: gvrender_set_style: unsupported style striped - ignoring\n",
      "Warning: gvrender_set_style: unsupported style striped - ignoring\n",
      "Warning: gvrender_set_style: unsupported style striped - ignoring\n",
      "Warning: gvrender_set_style: unsupported style striped - ignoring\n",
      "Warning: gvrender_set_style: unsupported style striped - ignoring\n",
      "Warning: gvrender_set_style: unsupported style striped - ignoring\n",
      "Warning: gvrender_set_style: unsupported style striped - ignoring\n",
      "Warning: gvrender_set_style: unsupported style striped - ignoring\n",
      "Warning: gvrender_set_style: unsupported style striped - ignoring\n",
      "Warning: gvrender_set_style: unsupported style striped - ignoring\n",
      "Warning: gvrender_set_style: unsupported style striped - ignoring\n",
      "Warning: gvrender_set_style: unsupported style striped - ignoring\n",
      "Warning: gvrender_set_style: unsupported style striped - ignoring\n",
      "Warning: gvrender_set_style: unsupported style striped - ignoring\n",
      "Warning: gvrender_set_style: unsupported style striped - ignoring\n",
      "Warning: gvrender_set_style: unsupported style striped - ignoring\n",
      "Warning: gvrender_set_style: unsupported style striped - ignoring\n",
      "Warning: gvrender_set_style: unsupported style striped - ignoring\n",
      "Warning: gvrender_set_style: unsupported style striped - ignoring\n",
      "Warning: gvrender_set_style: unsupported style striped - ignoring\n",
      "Warning: gvrender_set_style: unsupported style striped - ignoring\n",
      "Warning: gvrender_set_style: unsupported style striped - ignoring\n",
      "Warning: gvrender_set_style: unsupported style striped - ignoring\n",
      "Warning: gvrender_set_style: unsupported style striped - ignoring\n",
      "Warning: gvrender_set_style: unsupported style striped - ignoring\n",
      "Warning: gvrender_set_style: unsupported style striped - ignoring\n",
      "Warning: gvrender_set_style: unsupported style striped - ignoring\n",
      "Warning: gvrender_set_style: unsupported style striped - ignoring\n",
      "Warning: gvrender_set_style: unsupported style striped - ignoring\n"
     ]
    },
    {
     "name": "stderr",
     "output_type": "stream",
     "text": [
      "Warning: gvrender_set_style: unsupported style striped - ignoring\n",
      "Warning: gvrender_set_style: unsupported style striped - ignoring\n",
      "Warning: gvrender_set_style: unsupported style striped - ignoring\n",
      "Warning: gvrender_set_style: unsupported style striped - ignoring\n",
      "Warning: gvrender_set_style: unsupported style striped - ignoring\n",
      "Warning: gvrender_set_style: unsupported style striped - ignoring\n",
      "Warning: gvrender_set_style: unsupported style striped - ignoring\n",
      "Warning: gvrender_set_style: unsupported style striped - ignoring\n",
      "Warning: gvrender_set_style: unsupported style striped - ignoring\n",
      "Warning: gvrender_set_style: unsupported style striped - ignoring\n",
      "Warning: gvrender_set_style: unsupported style striped - ignoring\n",
      "Warning: gvrender_set_style: unsupported style striped - ignoring\n",
      "Warning: gvrender_set_style: unsupported style striped - ignoring\n",
      "Warning: gvrender_set_style: unsupported style striped - ignoring\n",
      "Warning: gvrender_set_style: unsupported style striped - ignoring\n",
      "Warning: gvrender_set_style: unsupported style striped - ignoring\n",
      "Warning: gvrender_set_style: unsupported style striped - ignoring\n",
      "Warning: gvrender_set_style: unsupported style striped - ignoring\n",
      "Warning: gvrender_set_style: unsupported style striped - ignoring\n",
      "Warning: gvrender_set_style: unsupported style striped - ignoring\n",
      "Warning: gvrender_set_style: unsupported style striped - ignoring\n",
      "Warning: gvrender_set_style: unsupported style striped - ignoring\n",
      "Warning: gvrender_set_style: unsupported style striped - ignoring\n",
      "Warning: gvrender_set_style: unsupported style striped - ignoring\n",
      "Warning: gvrender_set_style: unsupported style striped - ignoring\n",
      "Warning: gvrender_set_style: unsupported style striped - ignoring\n",
      "Warning: gvrender_set_style: unsupported style striped - ignoring\n",
      "Warning: gvrender_set_style: unsupported style striped - ignoring\n",
      "Warning: gvrender_set_style: unsupported style striped - ignoring\n",
      "Warning: gvrender_set_style: unsupported style striped - ignoring\n",
      "Warning: gvrender_set_style: unsupported style striped - ignoring\n",
      "Warning: gvrender_set_style: unsupported style striped - ignoring\n",
      "Warning: gvrender_set_style: unsupported style striped - ignoring\n",
      "Warning: gvrender_set_style: unsupported style striped - ignoring\n",
      "Warning: gvrender_set_style: unsupported style striped - ignoring\n",
      "Warning: gvrender_set_style: unsupported style striped - ignoring\n",
      "Warning: gvrender_set_style: unsupported style striped - ignoring\n",
      "Warning: gvrender_set_style: unsupported style striped - ignoring\n",
      "Warning: gvrender_set_style: unsupported style striped - ignoring\n",
      "Warning: gvrender_set_style: unsupported style striped - ignoring\n",
      "Warning: gvrender_set_style: unsupported style striped - ignoring\n",
      "Warning: gvrender_set_style: unsupported style striped - ignoring\n",
      "Warning: gvrender_set_style: unsupported style striped - ignoring\n",
      "Warning: gvrender_set_style: unsupported style striped - ignoring\n",
      "Warning: gvrender_set_style: unsupported style striped - ignoring\n",
      "Warning: gvrender_set_style: unsupported style striped - ignoring\n",
      "Warning: gvrender_set_style: unsupported style striped - ignoring\n",
      "Warning: gvrender_set_style: unsupported style striped - ignoring\n",
      "Warning: gvrender_set_style: unsupported style striped - ignoring\n",
      "Warning: gvrender_set_style: unsupported style striped - ignoring\n",
      "Warning: gvrender_set_style: unsupported style striped - ignoring\n",
      "Warning: gvrender_set_style: unsupported style striped - ignoring\n",
      "Warning: gvrender_set_style: unsupported style striped - ignoring\n",
      "Warning: gvrender_set_style: unsupported style striped - ignoring\n",
      "Warning: gvrender_set_style: unsupported style striped - ignoring\n",
      "Warning: gvrender_set_style: unsupported style striped - ignoring\n",
      "Warning: gvrender_set_style: unsupported style striped - ignoring\n",
      "Warning: gvrender_set_style: unsupported style striped - ignoring\n",
      "Warning: gvrender_set_style: unsupported style striped - ignoring\n",
      "Warning: gvrender_set_style: unsupported style striped - ignoring\n",
      "Warning: gvrender_set_style: unsupported style striped - ignoring\n",
      "Warning: gvrender_set_style: unsupported style striped - ignoring\n",
      "Warning: gvrender_set_style: unsupported style striped - ignoring\n",
      "Warning: gvrender_set_style: unsupported style striped - ignoring\n",
      "Warning: gvrender_set_style: unsupported style striped - ignoring\n",
      "Warning: gvrender_set_style: unsupported style striped - ignoring\n",
      "Warning: gvrender_set_style: unsupported style striped - ignoring\n",
      "Warning: gvrender_set_style: unsupported style striped - ignoring\n",
      "Warning: gvrender_set_style: unsupported style striped - ignoring\n",
      "Warning: gvrender_set_style: unsupported style striped - ignoring\n",
      "Warning: gvrender_set_style: unsupported style striped - ignoring\n",
      "Warning: gvrender_set_style: unsupported style striped - ignoring\n",
      "Warning: gvrender_set_style: unsupported style striped - ignoring\n",
      "Warning: gvrender_set_style: unsupported style striped - ignoring\n",
      "Warning: gvrender_set_style: unsupported style striped - ignoring\n",
      "Warning: gvrender_set_style: unsupported style striped - ignoring\n",
      "Warning: gvrender_set_style: unsupported style striped - ignoring\n",
      "Warning: gvrender_set_style: unsupported style striped - ignoring\n",
      "Warning: gvrender_set_style: unsupported style striped - ignoring\n",
      "Warning: gvrender_set_style: unsupported style striped - ignoring\n",
      "Warning: gvrender_set_style: unsupported style striped - ignoring\n",
      "Warning: gvrender_set_style: unsupported style striped - ignoring\n",
      "Warning: gvrender_set_style: unsupported style striped - ignoring\n",
      "Warning: gvrender_set_style: unsupported style striped - ignoring\n",
      "Warning: gvrender_set_style: unsupported style striped - ignoring\n",
      "Warning: gvrender_set_style: unsupported style striped - ignoring\n",
      "Warning: gvrender_set_style: unsupported style striped - ignoring\n",
      "Warning: gvrender_set_style: unsupported style striped - ignoring\n",
      "Warning: gvrender_set_style: unsupported style striped - ignoring\n",
      "Warning: gvrender_set_style: unsupported style striped - ignoring\n",
      "Warning: gvrender_set_style: unsupported style striped - ignoring\n",
      "Warning: gvrender_set_style: unsupported style striped - ignoring\n",
      "Warning: gvrender_set_style: unsupported style striped - ignoring\n",
      "Warning: gvrender_set_style: unsupported style striped - ignoring\n",
      "Warning: gvrender_set_style: unsupported style striped - ignoring\n",
      "Warning: gvrender_set_style: unsupported style striped - ignoring\n",
      "Warning: gvrender_set_style: unsupported style striped - ignoring\n",
      "Warning: gvrender_set_style: unsupported style striped - ignoring\n",
      "Warning: gvrender_set_style: unsupported style striped - ignoring\n",
      "Warning: gvrender_set_style: unsupported style striped - ignoring\n",
      "Warning: gvrender_set_style: unsupported style striped - ignoring\n",
      "Warning: gvrender_set_style: unsupported style striped - ignoring\n",
      "Warning: gvrender_set_style: unsupported style striped - ignoring\n",
      "Warning: gvrender_set_style: unsupported style striped - ignoring\n",
      "Warning: gvrender_set_style: unsupported style striped - ignoring\n",
      "Warning: gvrender_set_style: unsupported style striped - ignoring\n",
      "Warning: gvrender_set_style: unsupported style striped - ignoring\n",
      "Warning: gvrender_set_style: unsupported style striped - ignoring\n",
      "Warning: gvrender_set_style: unsupported style striped - ignoring\n",
      "Warning: gvrender_set_style: unsupported style striped - ignoring\n",
      "Warning: gvrender_set_style: unsupported style striped - ignoring\n",
      "Warning: gvrender_set_style: unsupported style striped - ignoring\n",
      "Warning: gvrender_set_style: unsupported style striped - ignoring\n",
      "Warning: gvrender_set_style: unsupported style striped - ignoring\n",
      "Warning: gvrender_set_style: unsupported style striped - ignoring\n",
      "Warning: gvrender_set_style: unsupported style striped - ignoring\n",
      "Warning: gvrender_set_style: unsupported style striped - ignoring\n",
      "Warning: gvrender_set_style: unsupported style striped - ignoring\n",
      "Warning: gvrender_set_style: unsupported style striped - ignoring\n",
      "Warning: gvrender_set_style: unsupported style striped - ignoring\n",
      "Warning: gvrender_set_style: unsupported style striped - ignoring\n",
      "Warning: gvrender_set_style: unsupported style striped - ignoring\n",
      "Warning: gvrender_set_style: unsupported style striped - ignoring\n",
      "Warning: gvrender_set_style: unsupported style striped - ignoring\n",
      "Warning: gvrender_set_style: unsupported style striped - ignoring\n",
      "Warning: gvrender_set_style: unsupported style striped - ignoring\n",
      "Warning: gvrender_set_style: unsupported style striped - ignoring\n",
      "Warning: gvrender_set_style: unsupported style striped - ignoring\n",
      "Warning: gvrender_set_style: unsupported style striped - ignoring\n",
      "Warning: gvrender_set_style: unsupported style striped - ignoring\n",
      "Warning: gvrender_set_style: unsupported style striped - ignoring\n",
      "Warning: gvrender_set_style: unsupported style striped - ignoring\n",
      "Warning: gvrender_set_style: unsupported style striped - ignoring\n",
      "Warning: gvrender_set_style: unsupported style striped - ignoring\n",
      "Warning: gvrender_set_style: unsupported style striped - ignoring\n",
      "Warning: gvrender_set_style: unsupported style striped - ignoring\n",
      "Warning: gvrender_set_style: unsupported style striped - ignoring\n"
     ]
    },
    {
     "name": "stderr",
     "output_type": "stream",
     "text": [
      "Warning: gvrender_set_style: unsupported style striped - ignoring\n",
      "Warning: gvrender_set_style: unsupported style striped - ignoring\n",
      "Warning: gvrender_set_style: unsupported style striped - ignoring\n",
      "Warning: gvrender_set_style: unsupported style striped - ignoring\n",
      "Warning: gvrender_set_style: unsupported style striped - ignoring\n",
      "Warning: gvrender_set_style: unsupported style striped - ignoring\n",
      "Warning: gvrender_set_style: unsupported style striped - ignoring\n",
      "Warning: gvrender_set_style: unsupported style striped - ignoring\n",
      "Warning: gvrender_set_style: unsupported style striped - ignoring\n",
      "Warning: gvrender_set_style: unsupported style striped - ignoring\n",
      "Warning: gvrender_set_style: unsupported style striped - ignoring\n",
      "Warning: gvrender_set_style: unsupported style striped - ignoring\n",
      "Warning: gvrender_set_style: unsupported style striped - ignoring\n",
      "Warning: gvrender_set_style: unsupported style striped - ignoring\n",
      "Warning: gvrender_set_style: unsupported style striped - ignoring\n",
      "Warning: gvrender_set_style: unsupported style striped - ignoring\n",
      "Warning: gvrender_set_style: unsupported style striped - ignoring\n",
      "Warning: gvrender_set_style: unsupported style striped - ignoring\n",
      "Warning: gvrender_set_style: unsupported style striped - ignoring\n",
      "Warning: gvrender_set_style: unsupported style striped - ignoring\n",
      "Warning: gvrender_set_style: unsupported style striped - ignoring\n",
      "Warning: gvrender_set_style: unsupported style striped - ignoring\n",
      "Warning: gvrender_set_style: unsupported style striped - ignoring\n",
      "Warning: gvrender_set_style: unsupported style striped - ignoring\n",
      "Warning: gvrender_set_style: unsupported style striped - ignoring\n",
      "Warning: gvrender_set_style: unsupported style striped - ignoring\n",
      "Warning: gvrender_set_style: unsupported style striped - ignoring\n",
      "Warning: gvrender_set_style: unsupported style striped - ignoring\n",
      "Warning: gvrender_set_style: unsupported style striped - ignoring\n",
      "Warning: gvrender_set_style: unsupported style striped - ignoring\n",
      "Warning: gvrender_set_style: unsupported style striped - ignoring\n",
      "Warning: gvrender_set_style: unsupported style striped - ignoring\n",
      "Warning: gvrender_set_style: unsupported style striped - ignoring\n",
      "Warning: gvrender_set_style: unsupported style striped - ignoring\n",
      "Warning: gvrender_set_style: unsupported style striped - ignoring\n",
      "Warning: gvrender_set_style: unsupported style striped - ignoring\n",
      "Warning: gvrender_set_style: unsupported style striped - ignoring\n",
      "Warning: gvrender_set_style: unsupported style striped - ignoring\n",
      "Warning: gvrender_set_style: unsupported style striped - ignoring\n",
      "Warning: gvrender_set_style: unsupported style striped - ignoring\n",
      "Warning: gvrender_set_style: unsupported style striped - ignoring\n",
      "Warning: gvrender_set_style: unsupported style striped - ignoring\n",
      "Warning: gvrender_set_style: unsupported style striped - ignoring\n",
      "Warning: gvrender_set_style: unsupported style striped - ignoring\n",
      "Warning: gvrender_set_style: unsupported style striped - ignoring\n",
      "Warning: gvrender_set_style: unsupported style striped - ignoring\n",
      "Warning: gvrender_set_style: unsupported style striped - ignoring\n",
      "Warning: gvrender_set_style: unsupported style striped - ignoring\n",
      "Warning: gvrender_set_style: unsupported style striped - ignoring\n",
      "Warning: gvrender_set_style: unsupported style striped - ignoring\n",
      "Warning: gvrender_set_style: unsupported style striped - ignoring\n",
      "Warning: gvrender_set_style: unsupported style striped - ignoring\n",
      "Warning: gvrender_set_style: unsupported style striped - ignoring\n",
      "Warning: gvrender_set_style: unsupported style striped - ignoring\n",
      "Warning: gvrender_set_style: unsupported style striped - ignoring\n",
      "Warning: gvrender_set_style: unsupported style striped - ignoring\n"
     ]
    }
   ],
   "source": [
    "ann_viz(model.model, filename= input_path + \"Benchmark_Models/Visualisations/\" + prefix + \"_\" + \"VGG\" + \".gv\",title=\"Visualisation of \" + \"VGG\")"
   ]
  },
  {
   "cell_type": "code",
   "execution_count": 35,
   "metadata": {},
   "outputs": [],
   "source": [
    "for i, model in enumerate(models):\n",
    "    plot_model(model, input_path + \"Benchmark_Models/Visualisations/\" + prefix + \"_\" + model_names[i] + \".png\", show_shapes=True)\n",
    "    ann_viz(model, filename= input_path + \"Benchmark_Models/Visualisations/\" + prefix + \"_\" + model_names[i] + \".gv\",title=\"Visualisation of \" + model_names[i])"
   ]
  },
  {
   "cell_type": "markdown",
   "metadata": {},
   "source": [
    "The following line will create the output file"
   ]
  },
  {
   "cell_type": "code",
   "execution_count": 39,
   "metadata": {},
   "outputs": [],
   "source": [
    "# output_models = []\n",
    "for model in models:\n",
    "  cut_model(model)\n",
    "  # output_models.append(out)"
   ]
  },
  {
   "cell_type": "code",
   "execution_count": 46,
   "metadata": {},
   "outputs": [],
   "source": [
    "now = datetime.datetime.now()\n",
    "prefix = now.strftime(\"%Y%m%d_%H%M\")\n",
    "create_output_files(x_train,x_test,y_train,y_test, prefix, suffix=\"_\" + treat_data)"
   ]
  },
  {
   "cell_type": "code",
   "execution_count": 164,
   "metadata": {},
   "outputs": [
    {
     "data": {
      "image/png": "[encoded data removed]",
      "text/plain": [
       "<Figure size 432x288 with 1 Axes>"
      ]
     },
     "metadata": {},
     "output_type": "display_data"
    },
    {
     "data": {
      "image/png": "[encoded data removed]",
      "text/plain": [
       "<Figure size 432x288 with 1 Axes>"
      ]
     },
     "metadata": {},
     "output_type": "display_data"
    }
   ],
   "source": [
    "plot_model_stats(history[0])"
   ]
  },
  {
   "cell_type": "code",
   "execution_count": 165,
   "metadata": {},
   "outputs": [
    {
     "data": {
      "image/png": "[encoded data removed]",
      "text/plain": [
       "<Figure size 432x288 with 1 Axes>"
      ]
     },
     "metadata": {},
     "output_type": "display_data"
    },
    {
     "data": {
      "image/png": "[encoded data removed]",
      "text/plain": [
       "<Figure size 432x288 with 1 Axes>"
      ]
     },
     "metadata": {},
     "output_type": "display_data"
    }
   ],
   "source": [
    "plot_model_stats(history[1])"
   ]
  },
  {
   "cell_type": "code",
   "execution_count": 166,
   "metadata": {},
   "outputs": [
    {
     "data": {
      "image/png": "[encoded data removed]",
      "text/plain": [
       "<Figure size 432x288 with 1 Axes>"
      ]
     },
     "metadata": {},
     "output_type": "display_data"
    },
    {
     "data": {
      "image/png": "[encoded data removed]",
      "text/plain": [
       "<Figure size 432x288 with 1 Axes>"
      ]
     },
     "metadata": {},
     "output_type": "display_data"
    }
   ],
   "source": [
    "plot_model_stats(history[2])"
   ]
  }
 ],
 "metadata": {
  "accelerator": "GPU",
  "colab": {
   "collapsed_sections": [],
   "default_view": {},
   "name": "20180511_Neural Network Object Detection_data producing step.ipynb",
   "provenance": [
    {
     "file_id": "1-Kyb5nhOh4S6INV3UOrRRaNng6gjQHp-",
     "timestamp": 1523289495074
    }
   ],
   "version": "0.3.2",
   "views": {}
  },
  "kernelspec": {
   "display_name": "Python 3",
   "language": "python",
   "name": "python3"
  },
  "language_info": {
   "codemirror_mode": {
    "name": "ipython",
    "version": 3
   },
   "file_extension": ".py",
   "mimetype": "text/x-python",
   "name": "python",
   "nbconvert_exporter": "python",
   "pygments_lexer": "ipython3",
   "version": "3.6.5"
  },
  "varInspector": {
   "cols": {
    "lenName": 16,
    "lenType": 16,
    "lenVar": 40
   },
   "kernels_config": {
    "python": {
     "delete_cmd_postfix": "",
     "delete_cmd_prefix": "del ",
     "library": "var_list.py",
     "varRefreshCmd": "print(var_dic_list())"
    },
    "r": {
     "delete_cmd_postfix": ") ",
     "delete_cmd_prefix": "rm(",
     "library": "var_list.r",
     "varRefreshCmd": "cat(var_dic_list()) "
    }
   },
   "types_to_exclude": [
    "module",
    "function",
    "builtin_function_or_method",
    "instance",
    "_Feature"
   ],
   "window_display": false
  }
 },
 "nbformat": 4,
 "nbformat_minor": 1
}
