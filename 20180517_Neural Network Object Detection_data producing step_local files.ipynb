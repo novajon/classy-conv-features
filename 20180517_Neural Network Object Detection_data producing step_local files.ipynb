{
 "cells": [
  {
   "cell_type": "code",
   "execution_count": 9,
   "metadata": {
    "colab": {
     "autoexec": {
      "startup": false,
      "wait_interval": 0
     }
    },
    "colab_type": "code",
    "id": "VTyCqWd_NFuR"
   },
   "outputs": [
    {
     "name": "stderr",
     "output_type": "stream",
     "text": [
      "/home/ubuntu/anaconda3/lib/python3.6/site-packages/h5py/__init__.py:36: FutureWarning: Conversion of the second argument of issubdtype from `float` to `np.floating` is deprecated. In future, it will be treated as `np.float64 == np.dtype(float).type`.\n",
      "  from ._conv import register_converters as _register_converters\n",
      "Using TensorFlow backend.\n",
      "/home/ubuntu/anaconda3/lib/python3.6/site-packages/matplotlib/font_manager.py:278: UserWarning: Matplotlib is building the font cache using fc-list. This may take a moment.\n",
      "  'Matplotlib is building the font cache using fc-list. '\n"
     ]
    }
   ],
   "source": [
    "import json\n",
    "import pandas as pd\n",
    "import numpy as np\n",
    "\n",
    "import os\n",
    "import datetime\n",
    "from keras.preprocessing.image import load_img\n",
    "from keras.preprocessing.image import img_to_array\n",
    "from keras.applications.imagenet_utils import decode_predictions\n",
    "import matplotlib.pyplot as plt\n",
    "from PIL import Image\n",
    "\n",
    "from sklearn.model_selection import train_test_split\n",
    "from keras.utils import to_categorical\n",
    "\n",
    "import keras\n",
    "from keras.models import Sequential\n",
    "from keras.layers import Dense, Dropout, Flatten, Activation\n",
    "from keras.layers import Conv2D, MaxPooling2D\n",
    "from keras.layers.normalization import BatchNormalization\n",
    "from keras.layers.advanced_activations import LeakyReLU\n",
    "\n",
    "from keras.initializers import glorot_normal\n",
    "\n",
    "import math\n",
    "from keras.datasets import cifar100\n",
    "from scipy.cluster.vq import whiten\n",
    "\n",
    "import glob\n",
    "\n",
    "%matplotlib inline"
   ]
  },
  {
   "cell_type": "code",
   "execution_count": 10,
   "metadata": {},
   "outputs": [],
   "source": [
    "def load_image(filename, img_rows=100, img_cols=100, plot=True):\n",
    "    try:\n",
    "        # load an image in PIL format\n",
    "        original = load_img(filename, target_size=(img_rows, img_cols))\n",
    "\n",
    "        # convert the PIL image to a numpy array\n",
    "        # IN PIL - image is in (width, height, channel)\n",
    "        # In Numpy - image is in (height, width, channel)\n",
    "        numpy_image = img_to_array(original)\n",
    "\n",
    "        # Convert the image / images into batch format\n",
    "        # expand_dims will add an extra dimension to the data at a particular axis\n",
    "        # We want the input matrix to the network to be of the form (batchsize, height, width, channels)\n",
    "        # Thus we add the extra dimension to the axis 0.\n",
    "        image_batch = np.expand_dims(numpy_image, axis=0)\n",
    "        if plot: plt.imshow(np.uint8(image_batch[0]))\n",
    "        return image_batch\n",
    "    except IOError:\n",
    "        # image_list.remove(filename)\n",
    "        print(\"removed\")\n",
    "        return np.array([])"
   ]
  },
  {
   "cell_type": "code",
   "execution_count": 17,
   "metadata": {},
   "outputs": [],
   "source": [
    "def fetch_data (file_path, img_rows=100, img_cols=100):\n",
    "    # 2. Auto-iterate using the query syntax\n",
    "    #    https://developers.google.com/drive/v2/web/search-parameters\n",
    "    file_list = glob.glob(\"./data/input/\" + file_path + \"/*.jpg\")\n",
    " \n",
    "    print (file_list)\n",
    "  \n",
    "    final_images = []\n",
    "    batches = []\n",
    "    for f in file_list:\n",
    "        # 3. Create & download by id.\n",
    "        #print('title: %s, id: %s' % (f['title'], f['id']))\n",
    "        #fname = os.path.join(local_download_path, f['title'])\n",
    "        #print('downloading to {}'.format(fname))\n",
    "        #f_ = drive.CreateFile({'id': f['id']})\n",
    "        #f_.GetContentFile(fname)\n",
    "        #with open(fname, 'rb') as filename:\n",
    "        curr_image = load_image(f, img_rows, img_cols)\n",
    "        if curr_image.size != 0:\n",
    "            final_images.append(f['title'])\n",
    "            batches.append(curr_image)\n",
    "    return final_images, batches"
   ]
  },
  {
   "cell_type": "code",
   "execution_count": 18,
   "metadata": {},
   "outputs": [
    {
     "name": "stdout",
     "output_type": "stream",
     "text": [
      "[]\n"
     ]
    }
   ],
   "source": [
    "img_rows, img_cols = 200, 200\n",
    "input_path = \"ILSVRC2012_Validation\"\n",
    "final_images, batches = fetch_data(input_path, img_rows, img_cols)"
   ]
  },
  {
   "cell_type": "markdown",
   "metadata": {
    "colab_type": "text",
    "id": "00oHgHSg0M8N"
   },
   "source": [
    "# Neural network test"
   ]
  },
  {
   "cell_type": "code",
   "execution_count": 0,
   "metadata": {
    "colab": {
     "autoexec": {
      "startup": false,
      "wait_interval": 0
     }
    },
    "colab_type": "code",
    "id": "NukMSrsm0M8S"
   },
   "outputs": [],
   "source": [
    "(x_train, y_train), (x_test, y_test) = cifar100.load_data(label_mode='fine')"
   ]
  },
  {
   "cell_type": "code",
   "execution_count": 40,
   "metadata": {
    "colab": {
     "autoexec": {
      "startup": false,
      "wait_interval": 0
     },
     "base_uri": "https://localhost:8080/",
     "height": 34
    },
    "colab_type": "code",
    "executionInfo": {
     "elapsed": 974,
     "status": "ok",
     "timestamp": 1526135969576,
     "user": {
      "displayName": "Jonathan Janke",
      "photoUrl": "https://lh3.googleusercontent.com/a/default-user=s128",
      "userId": "115639238013216557306"
     },
     "user_tz": -60
    },
    "id": "ahJSKfB8KGO-",
    "outputId": "7a6ccfbe-b52d-481f-d833-764aa7d17d61"
   },
   "outputs": [
    {
     "data": {
      "text/plain": [
       "(50000, 32, 32, 3)"
      ]
     },
     "execution_count": 40,
     "metadata": {
      "tags": []
     },
     "output_type": "execute_result"
    }
   ],
   "source": [
    "x_train.shape"
   ]
  },
  {
   "cell_type": "code",
   "execution_count": 0,
   "metadata": {
    "colab": {
     "autoexec": {
      "startup": false,
      "wait_interval": 0
     }
    },
    "colab_type": "code",
    "id": "OUYqhIXS0M89"
   },
   "outputs": [],
   "source": [
    "def format_data(x_train, x_test):\n",
    "  x_train = x_train.astype('float32')/255.\n",
    "  x_test = x_test.astype('float32')/255.\n",
    "  return x_train, x_test"
   ]
  },
  {
   "cell_type": "code",
   "execution_count": 0,
   "metadata": {
    "colab": {
     "autoexec": {
      "startup": false,
      "wait_interval": 0
     }
    },
    "colab_type": "code",
    "id": "Ndthx-H2lBdL"
   },
   "outputs": [],
   "source": [
    "x_train, x_test = format_data(x_train, x_test)"
   ]
  },
  {
   "cell_type": "markdown",
   "metadata": {
    "colab_type": "text",
    "id": "C7RzQ8_n-S27"
   },
   "source": [
    "Does Whitening work when it is done independently on x_train and x_test? (e.g., should the same whitening factor be used on x_test as on x_train)"
   ]
  },
  {
   "cell_type": "code",
   "execution_count": 0,
   "metadata": {
    "colab": {
     "autoexec": {
      "startup": false,
      "wait_interval": 0
     }
    },
    "colab_type": "code",
    "id": "wUCL6ONKmarx"
   },
   "outputs": [],
   "source": [
    "def filter_for_classes(X, y, classes):\n",
    "  mask = np.isin(y, classes)\n",
    "  mask = mask.reshape(len(mask))\n",
    "  return X[mask], y[mask]\n"
   ]
  },
  {
   "cell_type": "code",
   "execution_count": 0,
   "metadata": {
    "colab": {
     "autoexec": {
      "startup": false,
      "wait_interval": 0
     }
    },
    "colab_type": "code",
    "id": "XIz2gR5NocKi"
   },
   "outputs": [],
   "source": [
    "classes_to_retain = range(0,100)\n",
    "num_classes = len(classes_to_retain)\n",
    "x_train, y_train = filter_for_classes(x_train, y_train, classes_to_retain)\n",
    "x_test, y_test = filter_for_classes(x_test,y_test,classes_to_retain)"
   ]
  },
  {
   "cell_type": "code",
   "execution_count": 45,
   "metadata": {
    "colab": {
     "autoexec": {
      "startup": false,
      "wait_interval": 0
     },
     "base_uri": "https://localhost:8080/",
     "height": 34
    },
    "colab_type": "code",
    "executionInfo": {
     "elapsed": 642,
     "status": "ok",
     "timestamp": 1526135980788,
     "user": {
      "displayName": "Jonathan Janke",
      "photoUrl": "https://lh3.googleusercontent.com/a/default-user=s128",
      "userId": "115639238013216557306"
     },
     "user_tz": -60
    },
    "id": "2GYReSQ0VREa",
    "outputId": "11f6a754-922c-4eb8-ce14-cade00da1850"
   },
   "outputs": [
    {
     "data": {
      "text/plain": [
       "(50000, 32, 32, 3)"
      ]
     },
     "execution_count": 45,
     "metadata": {
      "tags": []
     },
     "output_type": "execute_result"
    }
   ],
   "source": [
    "x_train.shape"
   ]
  },
  {
   "cell_type": "code",
   "execution_count": 0,
   "metadata": {
    "colab": {
     "autoexec": {
      "startup": false,
      "wait_interval": 0
     }
    },
    "colab_type": "code",
    "id": "QmyilUlV90tS"
   },
   "outputs": [],
   "source": [
    "def whiten_data(x_train, x_test):\n",
    "  X = np.append(x_train, x_test, axis=0)\n",
    "  X_white = whiten(X).reshape(X.shape)\n",
    "  x_train_white = X_white[0:x_train.shape[0]]\n",
    "  x_test_white = X_white[x_train.shape[0]:x_train.shape[0]+x_test.shape[0]]\n",
    "  return x_train_white, x_test_white"
   ]
  },
  {
   "cell_type": "code",
   "execution_count": 0,
   "metadata": {
    "colab": {
     "autoexec": {
      "startup": false,
      "wait_interval": 0
     }
    },
    "colab_type": "code",
    "id": "LQszuNR5v_26"
   },
   "outputs": [],
   "source": [
    "x_train, x_test = whiten_data(x_train,x_test)"
   ]
  },
  {
   "cell_type": "markdown",
   "metadata": {
    "colab_type": "text",
    "id": "1CtmamtmcN0E"
   },
   "source": [
    "I actually think most of the reshaping above is unnecessary because we actually need a 50000, 3\\*32\\*32 shape"
   ]
  },
  {
   "cell_type": "code",
   "execution_count": 0,
   "metadata": {
    "colab": {
     "autoexec": {
      "startup": false,
      "wait_interval": 0
     }
    },
    "colab_type": "code",
    "id": "9nD7kRGtP9Ux"
   },
   "outputs": [],
   "source": [
    "x_train,x_val, y_train, y_val = train_test_split(x_train, y_train)"
   ]
  },
  {
   "cell_type": "code",
   "execution_count": 0,
   "metadata": {
    "colab": {
     "autoexec": {
      "startup": false,
      "wait_interval": 0
     }
    },
    "colab_type": "code",
    "id": "gIhSTrSFNeoY"
   },
   "outputs": [],
   "source": [
    "y_train_categorical = to_categorical(y_train)\n",
    "y_test_categorical = to_categorical(y_test)\n",
    "y_val_categorical = to_categorical(y_val)"
   ]
  },
  {
   "cell_type": "code",
   "execution_count": 0,
   "metadata": {
    "colab": {
     "autoexec": {
      "startup": false,
      "wait_interval": 0
     }
    },
    "colab_type": "code",
    "id": "0t4ADoNHSBsk"
   },
   "outputs": [],
   "source": [
    "datagen = keras.preprocessing.image.ImageDataGenerator(featurewise_center=False, samplewise_center=False, featurewise_std_normalization=False, samplewise_std_normalization=False, zca_whitening=False, zca_epsilon=1e-06, rotation_range=0.0, width_shift_range=0.0, height_shift_range=0.0, brightness_range=None, shear_range=0.0, zoom_range=0.0, channel_shift_range=0.0, fill_mode='nearest', cval=0.0, horizontal_flip=False, vertical_flip=False, rescale=None, preprocessing_function=None, data_format=None, validation_split=0.0)\n"
   ]
  },
  {
   "cell_type": "code",
   "execution_count": 0,
   "metadata": {
    "colab": {
     "autoexec": {
      "startup": false,
      "wait_interval": 0
     }
    },
    "colab_type": "code",
    "id": "f98ROEhxSDXL"
   },
   "outputs": [],
   "source": [
    "# compute quantities required for featurewise normalization\n",
    "# (std, mean, and principal components if ZCA whitening is applied)\n",
    "datagen.fit(x_train)"
   ]
  },
  {
   "cell_type": "markdown",
   "metadata": {
    "colab_type": "text",
    "id": "VG3Xc-Z90M8_"
   },
   "source": [
    "## Model Definition"
   ]
  },
  {
   "cell_type": "markdown",
   "metadata": {
    "colab_type": "text",
    "id": "Us9G4cHn0M9A"
   },
   "source": [
    "I will start by \"randomly\" creating models."
   ]
  },
  {
   "cell_type": "code",
   "execution_count": 0,
   "metadata": {
    "colab": {
     "autoexec": {
      "startup": false,
      "wait_interval": 0
     }
    },
    "colab_type": "code",
    "id": "cUDNVZBWPykx"
   },
   "outputs": [],
   "source": [
    "from keras.applications import InceptionV3\n",
    "from keras import Model\n",
    "models = []\n",
    "input_shape = (32,32,3)"
   ]
  },
  {
   "cell_type": "markdown",
   "metadata": {
    "colab_type": "text",
    "id": "bOgxakYHff6n"
   },
   "source": [
    "Model from https://andrewkruger.github.io/projects/2017-08-05-keras-convolutional-neural-network-for-cifar-100#the-model"
   ]
  },
  {
   "cell_type": "code",
   "execution_count": 0,
   "metadata": {
    "colab": {
     "autoexec": {
      "startup": false,
      "wait_interval": 0
     }
    },
    "colab_type": "code",
    "id": "TSvE1An-WBRI"
   },
   "outputs": [],
   "source": [
    "model = Sequential()\n",
    "model.add(Conv2D(128, (3, 3), padding='same',\n",
    "        input_shape=x_train.shape[1:]))\n",
    "model.add(Activation('elu'))\n",
    "model.add(Conv2D(128, (3, 3)))\n",
    "model.add(Activation('elu'))\n",
    "model.add(MaxPooling2D(pool_size=(2, 2)))\n",
    "model.add(Dropout(0.1))\n",
    "model.add(Conv2D(256, (3, 3), padding='same'))\n",
    "model.add(Activation('elu'))\n",
    "model.add(Conv2D(256, (3, 3)))\n",
    "model.add(Activation('elu'))\n",
    "model.add(MaxPooling2D(pool_size=(2, 2)))\n",
    "model.add(Dropout(0.25))\n",
    "\n",
    "model.add(Conv2D(512, (3, 3), padding='same'))\n",
    "model.add(Activation('elu'))\n",
    "model.add(Conv2D(512, (3, 3)))\n",
    "model.add(Activation('elu'))\n",
    "model.add(MaxPooling2D(pool_size=(2, 2)))\n",
    "model.add(Dropout(0.5))\n",
    "\n",
    "model.add(Flatten())\n",
    "model.add(Dense(1024))\n",
    "model.add(Activation('elu'))\n",
    "model.add(Dropout(0.5))\n",
    "model.add(Dense(num_classes))\n",
    "model.add(Activation('softmax'))\n",
    "\n"
   ]
  },
  {
   "cell_type": "code",
   "execution_count": 0,
   "metadata": {
    "colab": {
     "autoexec": {
      "startup": false,
      "wait_interval": 0
     }
    },
    "colab_type": "code",
    "id": "K6esOsAylIMs"
   },
   "outputs": [],
   "source": [
    "batch_size=20\n",
    "epochs = 10\n",
    "models.append({\"model\":model, \"batch\":batch_size, \"epochs\":epochs})"
   ]
  },
  {
   "cell_type": "markdown",
   "metadata": {
    "colab_type": "text",
    "id": "-_qUYCm_k-70"
   },
   "source": [
    "More random model"
   ]
  },
  {
   "cell_type": "code",
   "execution_count": 55,
   "metadata": {
    "colab": {
     "autoexec": {
      "startup": false,
      "wait_interval": 0
     },
     "base_uri": "https://localhost:8080/",
     "height": 121
    },
    "colab_type": "code",
    "executionInfo": {
     "elapsed": 675,
     "status": "ok",
     "timestamp": 1526136003240,
     "user": {
      "displayName": "Jonathan Janke",
      "photoUrl": "https://lh3.googleusercontent.com/a/default-user=s128",
      "userId": "115639238013216557306"
     },
     "user_tz": -60
    },
    "id": "V2oViq0QlDAn",
    "outputId": "7fa73299-3535-433f-a112-bcbcd431d90d"
   },
   "outputs": [
    {
     "name": "stderr",
     "output_type": "stream",
     "text": [
      "/usr/local/lib/python3.6/dist-packages/ipykernel_launcher.py:5: UserWarning: Update your `Conv2D` call to the Keras 2 API: `Conv2D(32, (3, 3))`\n",
      "  \"\"\"\n",
      "/usr/local/lib/python3.6/dist-packages/ipykernel_launcher.py:10: UserWarning: Update your `Conv2D` call to the Keras 2 API: `Conv2D(64, (3, 3), padding=\"same\")`\n",
      "  # Remove the CWD from sys.path while we load stuff.\n",
      "/usr/local/lib/python3.6/dist-packages/ipykernel_launcher.py:12: UserWarning: Update your `Conv2D` call to the Keras 2 API: `Conv2D(64, (3, 3))`\n",
      "  if sys.path[0] == '':\n"
     ]
    }
   ],
   "source": [
    "model = Sequential()\n",
    "\n",
    "model.add(Conv2D(32, (3, 3), padding='same', input_shape=x_train.shape[1:]))\n",
    "model.add(Activation('relu'))\n",
    "model.add(Conv2D(32, 3, 3))\n",
    "model.add(Activation('relu'))\n",
    "model.add(MaxPooling2D(pool_size=(2, 2)))\n",
    "model.add(Dropout(0.25))\n",
    "\n",
    "model.add(Conv2D(64, 3, 3, border_mode='same'))\n",
    "model.add(Activation('relu'))\n",
    "model.add(Conv2D(64, 3, 3))\n",
    "model.add(Activation('relu'))\n",
    "model.add(MaxPooling2D(pool_size=(2, 2)))\n",
    "model.add(Dropout(0.25))\n",
    "\n",
    "model.add(Flatten())\n",
    "model.add(Dense(512))\n",
    "model.add(Activation('relu'))\n",
    "model.add(Dropout(0.5))\n",
    "model.add(Dense(num_classes))\n",
    "model.add(Activation('softmax'))"
   ]
  },
  {
   "cell_type": "code",
   "execution_count": 0,
   "metadata": {
    "colab": {
     "autoexec": {
      "startup": false,
      "wait_interval": 0
     }
    },
    "colab_type": "code",
    "id": "_-fMrHpLP18w"
   },
   "outputs": [],
   "source": [
    "batch_size=20\n",
    "epochs = 20\n",
    "# models.append({\"model\":model, \"batch\":batch_size, \"epochs\":epochs})"
   ]
  },
  {
   "cell_type": "markdown",
   "metadata": {
    "colab_type": "text",
    "id": "z4nOOl8ffKvo"
   },
   "source": [
    "Incoporate batch feeding via data flow : ImageFlowGenerator"
   ]
  },
  {
   "cell_type": "code",
   "execution_count": 0,
   "metadata": {
    "colab": {
     "autoexec": {
      "startup": false,
      "wait_interval": 0
     }
    },
    "colab_type": "code",
    "id": "FPLLr9Pn0M9T"
   },
   "outputs": [],
   "source": [
    "history = []\n",
    "lr = 0.0001\n",
    "for model in models:\n",
    "    model[\"model\"].compile(loss=keras.losses.categorical_crossentropy,\n",
    "              optimizer=keras.optimizers.Adam(lr=lr),\n",
    "              metrics=['accuracy'])"
   ]
  },
  {
   "cell_type": "code",
   "execution_count": 0,
   "metadata": {
    "colab": {
     "autoexec": {
      "startup": false,
      "wait_interval": 0
     },
     "base_uri": "https://localhost:8080/",
     "height": 52
    },
    "colab_type": "code",
    "id": "AnnsEiX3SY7C",
    "outputId": "58cedb90-9177-4c40-9d65-8080396d7353"
   },
   "outputs": [
    {
     "name": "stdout",
     "output_type": "stream",
     "text": [
      "Epoch 1/10\n",
      " 659/1875 [=========>....................] - ETA: 1:05 - loss: 4.3200 - acc: 0.0526"
     ]
    }
   ],
   "source": [
    "for model in models:  \n",
    "  history.append(model[\"model\"].fit_generator(datagen.flow(x_train, y_train_categorical,\n",
    "          batch_size=model[\"batch\"]),\n",
    "          steps_per_epoch = len(x_train)/model[\"batch\"],\n",
    "          epochs=model[\"epochs\"],\n",
    "          verbose=1,\n",
    "          validation_data = (x_val, y_val_categorical)))\n",
    "  print (\"Model success\")"
   ]
  },
  {
   "cell_type": "code",
   "execution_count": 0,
   "metadata": {
    "colab": {
     "autoexec": {
      "startup": false,
      "wait_interval": 0
     }
    },
    "colab_type": "code",
    "id": "Ed0MMqWWSVXa"
   },
   "outputs": [],
   "source": [
    "# for model in models:\n",
    "#   history.append(model[\"model\"].fit(x_train, y_train_categorical,\n",
    "#           batch_size=model[\"batch\"],\n",
    "#           epochs=model[\"epochs\"],\n",
    "#           verbose=1,\n",
    "#           validation_data = (x_val, y_val_categorical)))\n",
    "# print (\"Model success\")"
   ]
  },
  {
   "cell_type": "code",
   "execution_count": 111,
   "metadata": {
    "colab": {
     "autoexec": {
      "startup": false,
      "wait_interval": 0
     },
     "base_uri": "https://localhost:8080/",
     "height": 52
    },
    "colab_type": "code",
    "executionInfo": {
     "elapsed": 5575,
     "status": "ok",
     "timestamp": 1526047232722,
     "user": {
      "displayName": "Jonathan Janke",
      "photoUrl": "https://lh3.googleusercontent.com/a/default-user=s128",
      "userId": "115639238013216557306"
     },
     "user_tz": -60
    },
    "id": "t6v3khJe0M9c",
    "outputId": "c90c6b9c-4456-40b2-b91f-2c088069a77c"
   },
   "outputs": [
    {
     "name": "stdout",
     "output_type": "stream",
     "text": [
      "Test loss: 3.373948706817627\n",
      "Test accuracy: 0.1986\n"
     ]
    }
   ],
   "source": [
    "for model in models:\n",
    "  score = model[\"model\"].evaluate(x_test, y_test_categorical, verbose=0)\n",
    "  print('Test loss:', score[0])\n",
    "  print('Test accuracy:', score[1])"
   ]
  },
  {
   "cell_type": "code",
   "execution_count": 0,
   "metadata": {
    "colab": {
     "autoexec": {
      "startup": false,
      "wait_interval": 0
     }
    },
    "colab_type": "code",
    "id": "aUqYNdsT0M9m"
   },
   "outputs": [],
   "source": [
    "now = datetime.datetime.now()\n",
    "prefix = now.strftime(\"%Y%m%d_%H%M\")"
   ]
  },
  {
   "cell_type": "code",
   "execution_count": 0,
   "metadata": {
    "colab": {
     "autoexec": {
      "startup": false,
      "wait_interval": 0
     }
    },
    "colab_type": "code",
    "id": "eOp7uotQ5pNF"
   },
   "outputs": [],
   "source": [
    "id = \"1JBT_mnTQVnJkXL31ODPRCw7tTAQKakAs\"\n",
    "folder_id = create_output_folder(id, prefix, drive)"
   ]
  },
  {
   "cell_type": "code",
   "execution_count": 0,
   "metadata": {
    "colab": {
     "autoexec": {
      "startup": false,
      "wait_interval": 0
     }
    },
    "colab_type": "code",
    "id": "mj2AiEaDQb7i"
   },
   "outputs": [],
   "source": [
    "def save_input_data():\n",
    "  create_output_file(folder_id, np.array2string(x_test), \"test_image_data.txt\", drive)\n",
    "  create_output_file(folder_id, np.array2string(y_test), \"test_image_label.txt\", drive)\n",
    "  create_output_file(folder_id, np.array2string(x_train), \"train_image_data.txt\", drive)\n",
    "  create_output_file(folder_id, np.array2string(y_train), \"train_image_label.txt\", drive)\n",
    "\n",
    "  for model_ind in range(len(models)):\n",
    "    model = models[model_ind][\"model\"]\n",
    "    create_output_file(folder_id, model.to_json(), \"image_model_{}.json\".format(model_ind), drive)\n",
    "    create_output_file(folder_id, np.array2string(np.array(model.weights)), \"image_model_{}_weights.txt\".format(model_ind), drive)\n"
   ]
  },
  {
   "cell_type": "markdown",
   "metadata": {
    "colab_type": "text",
    "id": "iR83QNTH0M9r"
   },
   "source": [
    "Define a function to print the pictures that were falsely classified"
   ]
  },
  {
   "cell_type": "code",
   "execution_count": 0,
   "metadata": {
    "colab": {
     "autoexec": {
      "startup": false,
      "wait_interval": 0
     }
    },
    "colab_type": "code",
    "id": "h5swDVFy0M9r"
   },
   "outputs": [],
   "source": [
    "def print_false_predicted(trained_model, image_input, target):\n",
    "    predict = trained_model.predict_classes(image_input) + 1\n",
    "    f_images = [predict[i] != target[i] for i in range(len(predict))]\n",
    "    for img in image_input[f_images]:\n",
    "        plt.imshow(np.uint8(img*255))\n",
    "        plt.show()"
   ]
  },
  {
   "cell_type": "markdown",
   "metadata": {
    "colab_type": "text",
    "id": "xsNR6Hh00M9v"
   },
   "source": [
    "And apply the function to test or training data"
   ]
  },
  {
   "cell_type": "code",
   "execution_count": 0,
   "metadata": {
    "colab": {
     "autoexec": {
      "startup": false,
      "wait_interval": 0
     }
    },
    "colab_type": "code",
    "id": "7s6DGULmXJx0"
   },
   "outputs": [],
   "source": [
    "from keras.layers import InputLayer\n",
    "import copy"
   ]
  },
  {
   "cell_type": "code",
   "execution_count": 0,
   "metadata": {
    "colab": {
     "autoexec": {
      "startup": false,
      "wait_interval": 0
     }
    },
    "colab_type": "code",
    "id": "ock9hSqP0M90"
   },
   "outputs": [],
   "source": [
    "def cut_model (input_model):\n",
    "    dense_layer_count = 0\n",
    "    count = False\n",
    "    model_length = len(input_model.layers)\n",
    "    output_model = Sequential()\n",
    "    output_config = []\n",
    "    for index in range(model_length):\n",
    "      if (count == True):\n",
    "          output_config.append(layer.get_config())\n",
    "          input_model.pop()\n",
    "      else: layer = input_model.layers[index]\n",
    "      if layer.name.startswith('flatten'):\n",
    "          count = True\n",
    "          output_model.add(InputLayer(input_shape=layer.output_shape))          \n",
    "               \n",
    "    print (output_config)\n",
    "    # return output_model"
   ]
  },
  {
   "cell_type": "code",
   "execution_count": 118,
   "metadata": {
    "colab": {
     "autoexec": {
      "startup": false,
      "wait_interval": 0
     },
     "base_uri": "https://localhost:8080/",
     "height": 54
    },
    "colab_type": "code",
    "executionInfo": {
     "elapsed": 1835,
     "status": "ok",
     "timestamp": 1526047248064,
     "user": {
      "displayName": "Jonathan Janke",
      "photoUrl": "https://lh3.googleusercontent.com/a/default-user=s128",
      "userId": "115639238013216557306"
     },
     "user_tz": -60
    },
    "id": "DnRy9rwn0M92",
    "outputId": "ccde9577-392a-47f8-c75a-49c49ffe639f"
   },
   "outputs": [
    {
     "name": "stdout",
     "output_type": "stream",
     "text": [
      "[{'name': 'flatten_4', 'trainable': True, 'data_format': 'channels_last'}, {'name': 'flatten_4', 'trainable': True, 'data_format': 'channels_last'}, {'name': 'flatten_4', 'trainable': True, 'data_format': 'channels_last'}, {'name': 'flatten_4', 'trainable': True, 'data_format': 'channels_last'}, {'name': 'flatten_4', 'trainable': True, 'data_format': 'channels_last'}]\n"
     ]
    }
   ],
   "source": [
    "# output_models = []\n",
    "for model in models:\n",
    "  cut_model(model[\"model\"])\n",
    "  # output_models.append(out)"
   ]
  },
  {
   "cell_type": "code",
   "execution_count": 0,
   "metadata": {
    "colab": {
     "autoexec": {
      "startup": false,
      "wait_interval": 0
     }
    },
    "colab_type": "code",
    "id": "eEGWy31ncxo-"
   },
   "outputs": [],
   "source": [
    "def create_output_separate_train_val ():\n",
    "  for model_ind in range(len(models)):\n",
    "    model = models[model_ind]\n",
    "\n",
    "    model[\"pred_train\"] = model[\"model\"].predict(x_train)\n",
    "    model[\"pred_val\"] = model[\"model\"].predict(x_val)\n",
    "    model[\"pred_test\"] = model[\"model\"].predict(x_test)\n",
    "    model[\"pred_train_with_target\"] = np.array([np.append(model[\"pred_train\"][i], y_train[i]) for i in range(len(model[\"pred_train\"]))])\n",
    "    model[\"pred_val_with_target\"] = np.array([np.append(model[\"pred_val\"][i], y_val[i]) for i in range(len(model[\"pred_val\"]))])\n",
    "    model[\"pred_test_with_target\"] = np.array([np.append(model[\"pred_test\"][i], y_test[i]) for i in range(len(model[\"pred_test\"]))])\n",
    "    \n",
    "  for model_ind in range(len(models)):\n",
    "    model = models[model_ind]\n",
    "    create_output_file(folder_id, model[\"model\"].to_json(), \"image_model_{}_cut.json\".format(model_ind), drive)\n",
    "    create_output_file(folder_id, np.array2string(np.array(model[\"model\"].weights)), \"image_model_{}_cut_weights.txt\".format(model_ind), drive)\n",
    "    \n",
    "    f_name = \"{}_pred_train_with_target_cut_data.npy\".format(model_ind)\n",
    "    np.save(f_name, model[\"pred_train_with_target\"])\n",
    "    uploaded = drive.CreateFile({'title': f_name, \"parents\":  [{\"id\": folder_id}]})\n",
    "    uploaded.SetContentFile(f_name)\n",
    "    uploaded.Upload()\n",
    "    print('Uploaded file with ID {}'.format(uploaded.get('id')))\n",
    "    f_name = \"{}_pred_val_with_target_cut_data.npy\".format(model_ind)\n",
    "    np.save(f_name, model[\"pred_val_with_target\"])\n",
    "    uploaded = drive.CreateFile({'title': f_name, \"parents\":  [{\"id\": folder_id}]})\n",
    "    uploaded.SetContentFile(f_name)\n",
    "    uploaded.Upload()\n",
    "    print('Uploaded file with ID {}'.format(uploaded.get('id')))\n",
    "    \n",
    "    f_name = \"{}_pred_test_with_target_cut_data.npy\".format(model_ind)\n",
    "    np.save(f_name, model[\"pred_test_with_target\"])\n",
    "    uploaded = drive.CreateFile({'title': f_name, \"parents\":  [{\"id\": folder_id}]})\n",
    "    uploaded.SetContentFile(f_name)\n",
    "    uploaded.Upload()\n",
    "    print('Uploaded file with ID {}'.format(uploaded.get('id')))\n",
    "    \n",
    "    \n",
    "    \n",
    " "
   ]
  },
  {
   "cell_type": "code",
   "execution_count": 136,
   "metadata": {
    "colab": {
     "autoexec": {
      "startup": false,
      "wait_interval": 0
     },
     "base_uri": "https://localhost:8080/",
     "height": 34
    },
    "colab_type": "code",
    "executionInfo": {
     "elapsed": 736,
     "status": "ok",
     "timestamp": 1526048342547,
     "user": {
      "displayName": "Jonathan Janke",
      "photoUrl": "https://lh3.googleusercontent.com/a/default-user=s128",
      "userId": "115639238013216557306"
     },
     "user_tz": -60
    },
    "id": "dzuYS-8C5e8X",
    "outputId": "990d095c-c064-424d-f48d-185036c50a1a"
   },
   "outputs": [
    {
     "name": "stdout",
     "output_type": "stream",
     "text": [
      "20180511_1400\n"
     ]
    }
   ],
   "source": [
    "print(prefix)"
   ]
  },
  {
   "cell_type": "code",
   "execution_count": 137,
   "metadata": {
    "colab": {
     "autoexec": {
      "startup": false,
      "wait_interval": 0
     },
     "base_uri": "https://localhost:8080/",
     "height": 69
    },
    "colab_type": "code",
    "executionInfo": {
     "elapsed": 55299,
     "status": "ok",
     "timestamp": 1526048398099,
     "user": {
      "displayName": "Jonathan Janke",
      "photoUrl": "https://lh3.googleusercontent.com/a/default-user=s128",
      "userId": "115639238013216557306"
     },
     "user_tz": -60
    },
    "id": "tPh2P8D-P0yO",
    "outputId": "ed6126a0-9693-4ff3-e6a2-bd462f01a99b"
   },
   "outputs": [
    {
     "name": "stdout",
     "output_type": "stream",
     "text": [
      "Uploaded file with ID 1F1ON2APyRZBtLpxPHsAYk6hzkucXmz4y\n",
      "Uploaded file with ID 19rYJTNXE1FslLCIXOqimtA9aK9Sd-Qn1\n",
      "Uploaded file with ID 19mAucp15sh2x59K2ujxSpi91JnBOwobb\n"
     ]
    }
   ],
   "source": [
    "create_output_separate_train_val()"
   ]
  },
  {
   "cell_type": "markdown",
   "metadata": {
    "colab_type": "text",
    "id": "lbMTGglvV7ba"
   },
   "source": []
  }
 ],
 "metadata": {
  "accelerator": "GPU",
  "colab": {
   "collapsed_sections": [],
   "default_view": {},
   "name": "20180511_Neural Network Object Detection_data producing step.ipynb",
   "provenance": [
    {
     "file_id": "1-Kyb5nhOh4S6INV3UOrRRaNng6gjQHp-",
     "timestamp": 1523289495074
    }
   ],
   "version": "0.3.2",
   "views": {}
  },
  "kernelspec": {
   "display_name": "Python [default]",
   "language": "python",
   "name": "python3"
  },
  "language_info": {
   "codemirror_mode": {
    "name": "ipython",
    "version": 3
   },
   "file_extension": ".py",
   "mimetype": "text/x-python",
   "name": "python",
   "nbconvert_exporter": "python",
   "pygments_lexer": "ipython3",
   "version": "3.6.4"
  }
 },
 "nbformat": 4,
 "nbformat_minor": 1
}
